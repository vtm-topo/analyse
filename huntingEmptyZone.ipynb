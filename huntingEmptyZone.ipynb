{
 "cells": [
  {
   "cell_type": "markdown",
   "metadata": {},
   "source": [
    "# Removing empty zone"
   ]
  },
  {
   "cell_type": "markdown",
   "metadata": {},
   "source": [
    "Sometimes, empty zone are created using eScriptorium. If they are big enough, we can see them and delete them. However, it seems that some of my files contain empty zone which I cannot locate even while zooming very close in the page. They are flaged by the _htr-united githubaction_ though, telling us which files contains faulty zone.\n",
    "We can use the same technique that is used to find them but this time to delete them."
   ]
  },
  {
   "cell_type": "code",
   "execution_count": 23,
   "metadata": {},
   "outputs": [],
   "source": [
    "from lxml import etree\n",
    "\n",
    "tree = etree.parse(\"../CHABLE/data/AC Bagnes R46 0052.xml\")\n",
    "root = tree.getroot()"
   ]
  },
  {
   "cell_type": "code",
   "execution_count": 3,
   "metadata": {},
   "outputs": [
    {
     "name": "stdout",
     "output_type": "stream",
     "text": [
      "{'ID': 'BT1', 'LABEL': 'Title', 'DESCRIPTION': 'block type Title'}\n",
      "{'ID': 'BT406', 'LABEL': 'Pagination', 'DESCRIPTION': 'block type Pagination'}\n",
      "{'ID': 'BT407', 'LABEL': 'Header', 'DESCRIPTION': 'block type Header'}\n",
      "{'ID': 'BT408', 'LABEL': 'Contribuable', 'DESCRIPTION': 'block type Contribuable'}\n",
      "{'ID': 'BT422', 'LABEL': 'CustomZone:entry#1', 'DESCRIPTION': 'block type CustomZone:entry#1'}\n",
      "{'ID': 'BT423', 'LABEL': 'CustomZone:entry#2', 'DESCRIPTION': 'block type CustomZone:entry#2'}\n",
      "{'ID': 'LT140', 'LABEL': 'CustomLine:confins', 'DESCRIPTION': 'line type CustomLine:confins'}\n",
      "{'ID': 'LT141', 'LABEL': 'CustomLine:date', 'DESCRIPTION': 'line type CustomLine:date'}\n",
      "{'ID': 'LT142', 'LABEL': 'CustomLine:francs', 'DESCRIPTION': 'line type CustomLine:francs'}\n",
      "{'ID': 'LT143', 'LABEL': 'CustomLine:info', 'DESCRIPTION': 'line type CustomLine:info'}\n",
      "{'ID': 'LT144', 'LABEL': 'CustomLine:mutations', 'DESCRIPTION': 'line type CustomLine:mutations'}\n",
      "{'ID': 'LT145', 'LABEL': 'DefaultLine', 'DESCRIPTION': 'line type DefaultLine'}\n",
      "{'ID': 'LT146', 'LABEL': 'HeadingLine:title', 'DESCRIPTION': 'line type HeadingLine:title'}\n"
     ]
    }
   ],
   "source": [
    "for t in root.iter('{*}OtherTag'):\n",
    "    print(t.attrib)"
   ]
  },
  {
   "cell_type": "markdown",
   "metadata": {},
   "source": [
    "The zone are called textblock in alto xml format:"
   ]
  },
  {
   "cell_type": "code",
   "execution_count": 8,
   "metadata": {},
   "outputs": [
    {
     "name": "stdout",
     "output_type": "stream",
     "text": [
      "{'HPOS': '244', 'VPOS': '265', 'WIDTH': '564', 'HEIGHT': '252', 'ID': 'eSc_textblock_b6a82266', 'TAGREFS': 'BT406'}\n",
      "{'HPOS': '324', 'VPOS': '527', 'WIDTH': '3839', 'HEIGHT': '312', 'ID': 'eSc_textblock_04c81c13', 'TAGREFS': 'BT408'}\n",
      "{'HPOS': '284', 'VPOS': '900', 'WIDTH': '3889', 'HEIGHT': '373', 'ID': 'eSc_textblock_cc60d742', 'TAGREFS': 'BT407'}\n",
      "{'HPOS': '304', 'VPOS': '1373', 'WIDTH': '3980', 'HEIGHT': '464', 'ID': 'eSc_textblock_6f0f1ec6', 'TAGREFS': 'BT422'}\n",
      "{'HPOS': '314', 'VPOS': '1857', 'WIDTH': '3970', 'HEIGHT': '413', 'ID': 'eSc_textblock_48a519b7', 'TAGREFS': 'BT423'}\n",
      "{'HPOS': '314', 'VPOS': '2280', 'WIDTH': '3940', 'HEIGHT': '444', 'ID': 'eSc_textblock_ab52b8c9', 'TAGREFS': 'BT422'}\n",
      "{'HPOS': '324', 'VPOS': '2754', 'WIDTH': '3950', 'HEIGHT': '413', 'ID': 'eSc_textblock_ddcb5c70', 'TAGREFS': 'BT423'}\n",
      "{'HPOS': '335', 'VPOS': '3187', 'WIDTH': '3899', 'HEIGHT': '433', 'ID': 'eSc_textblock_54652d83', 'TAGREFS': 'BT422'}\n",
      "{'HPOS': '335', 'VPOS': '3650', 'WIDTH': '3949', 'HEIGHT': '393', 'ID': 'eSc_textblock_23f5faf3', 'TAGREFS': 'BT423'}\n",
      "{'HPOS': '324', 'VPOS': '4064', 'WIDTH': '3940', 'HEIGHT': '453', 'ID': 'eSc_textblock_a5e36e68', 'TAGREFS': 'BT422'}\n",
      "{'HPOS': '314', 'VPOS': '4537', 'WIDTH': '3950', 'HEIGHT': '393', 'ID': 'eSc_textblock_8108957b', 'TAGREFS': 'BT423'}\n",
      "{'HPOS': '314', 'VPOS': '4950', 'WIDTH': '3920', 'HEIGHT': '454', 'ID': 'eSc_textblock_84698a07', 'TAGREFS': 'BT422'}\n",
      "{'HPOS': '294', 'VPOS': '5384', 'WIDTH': '4010', 'HEIGHT': '433', 'ID': 'eSc_textblock_e9bc8b23', 'TAGREFS': 'BT423'}\n",
      "{'HPOS': '274', 'VPOS': '5837', 'WIDTH': '4030', 'HEIGHT': '474', 'ID': 'eSc_textblock_4bbcf736', 'TAGREFS': 'BT422'}\n",
      "{'HPOS': '3550', 'VPOS': '791', 'WIDTH': '16', 'HEIGHT': '16', 'ID': 'eSc_textblock_3370f8a3'}\n",
      "{'ID': 'eSc_dummyblock_'}\n"
     ]
    }
   ],
   "source": [
    "for t in root.iter('{*}TextBlock'):\n",
    "    print(t.attrib)"
   ]
  },
  {
   "cell_type": "code",
   "execution_count": 14,
   "metadata": {
    "scrolled": false
   },
   "outputs": [
    {
     "name": "stdout",
     "output_type": "stream",
     "text": [
      "{http://www.loc.gov/standards/alto/ns-v4#}TextBlock\n",
      "{http://www.loc.gov/standards/alto/ns-v4#}TextBlock\n",
      "{http://www.loc.gov/standards/alto/ns-v4#}TextBlock\n",
      "{http://www.loc.gov/standards/alto/ns-v4#}TextBlock\n",
      "{http://www.loc.gov/standards/alto/ns-v4#}TextBlock\n",
      "{http://www.loc.gov/standards/alto/ns-v4#}TextBlock\n",
      "{http://www.loc.gov/standards/alto/ns-v4#}TextBlock\n",
      "{http://www.loc.gov/standards/alto/ns-v4#}TextBlock\n",
      "{http://www.loc.gov/standards/alto/ns-v4#}TextBlock\n",
      "{http://www.loc.gov/standards/alto/ns-v4#}TextBlock\n",
      "{http://www.loc.gov/standards/alto/ns-v4#}TextBlock\n",
      "{http://www.loc.gov/standards/alto/ns-v4#}TextBlock\n",
      "{http://www.loc.gov/standards/alto/ns-v4#}TextBlock\n",
      "{http://www.loc.gov/standards/alto/ns-v4#}TextBlock\n",
      "{http://www.loc.gov/standards/alto/ns-v4#}TextBlock\n",
      "{http://www.loc.gov/standards/alto/ns-v4#}TextBlock\n"
     ]
    }
   ],
   "source": [
    "for t in root.iter('{*}TextBlock'):\n",
    "    print(t.tag)"
   ]
  },
  {
   "cell_type": "markdown",
   "metadata": {},
   "source": [
    "When they are empty, it means that they contain no TextLine:"
   ]
  },
  {
   "cell_type": "code",
   "execution_count": 13,
   "metadata": {
    "scrolled": true
   },
   "outputs": [
    {
     "name": "stdout",
     "output_type": "stream",
     "text": [
      "{http://www.loc.gov/standards/alto/ns-v4#}TextLine\n",
      "{http://www.loc.gov/standards/alto/ns-v4#}TextLine\n",
      "{http://www.loc.gov/standards/alto/ns-v4#}TextLine\n",
      "{http://www.loc.gov/standards/alto/ns-v4#}TextLine\n",
      "{http://www.loc.gov/standards/alto/ns-v4#}TextLine\n",
      "{http://www.loc.gov/standards/alto/ns-v4#}TextLine\n",
      "{http://www.loc.gov/standards/alto/ns-v4#}TextLine\n",
      "{http://www.loc.gov/standards/alto/ns-v4#}TextLine\n",
      "{http://www.loc.gov/standards/alto/ns-v4#}TextLine\n",
      "{http://www.loc.gov/standards/alto/ns-v4#}TextLine\n",
      "{http://www.loc.gov/standards/alto/ns-v4#}TextLine\n",
      "{http://www.loc.gov/standards/alto/ns-v4#}TextLine\n",
      "{http://www.loc.gov/standards/alto/ns-v4#}TextLine\n",
      "{http://www.loc.gov/standards/alto/ns-v4#}TextLine\n",
      "{http://www.loc.gov/standards/alto/ns-v4#}TextLine\n",
      "{http://www.loc.gov/standards/alto/ns-v4#}TextLine\n",
      "{http://www.loc.gov/standards/alto/ns-v4#}TextLine\n",
      "{http://www.loc.gov/standards/alto/ns-v4#}TextLine\n",
      "{http://www.loc.gov/standards/alto/ns-v4#}TextLine\n",
      "{http://www.loc.gov/standards/alto/ns-v4#}TextLine\n",
      "{http://www.loc.gov/standards/alto/ns-v4#}TextLine\n",
      "{http://www.loc.gov/standards/alto/ns-v4#}TextLine\n",
      "{http://www.loc.gov/standards/alto/ns-v4#}TextLine\n",
      "{http://www.loc.gov/standards/alto/ns-v4#}TextLine\n",
      "{http://www.loc.gov/standards/alto/ns-v4#}TextLine\n",
      "{http://www.loc.gov/standards/alto/ns-v4#}TextLine\n",
      "{http://www.loc.gov/standards/alto/ns-v4#}TextLine\n",
      "{http://www.loc.gov/standards/alto/ns-v4#}TextLine\n",
      "{http://www.loc.gov/standards/alto/ns-v4#}TextLine\n",
      "{http://www.loc.gov/standards/alto/ns-v4#}TextLine\n",
      "{http://www.loc.gov/standards/alto/ns-v4#}TextLine\n",
      "{http://www.loc.gov/standards/alto/ns-v4#}TextLine\n",
      "{http://www.loc.gov/standards/alto/ns-v4#}TextLine\n",
      "{http://www.loc.gov/standards/alto/ns-v4#}TextLine\n",
      "{http://www.loc.gov/standards/alto/ns-v4#}TextLine\n",
      "{http://www.loc.gov/standards/alto/ns-v4#}TextLine\n",
      "{http://www.loc.gov/standards/alto/ns-v4#}TextLine\n",
      "{http://www.loc.gov/standards/alto/ns-v4#}TextLine\n",
      "{http://www.loc.gov/standards/alto/ns-v4#}TextLine\n",
      "{http://www.loc.gov/standards/alto/ns-v4#}TextLine\n",
      "{http://www.loc.gov/standards/alto/ns-v4#}TextLine\n",
      "{http://www.loc.gov/standards/alto/ns-v4#}TextLine\n",
      "{http://www.loc.gov/standards/alto/ns-v4#}TextLine\n",
      "{http://www.loc.gov/standards/alto/ns-v4#}TextLine\n",
      "{http://www.loc.gov/standards/alto/ns-v4#}TextLine\n",
      "{http://www.loc.gov/standards/alto/ns-v4#}TextLine\n",
      "{http://www.loc.gov/standards/alto/ns-v4#}TextLine\n",
      "{http://www.loc.gov/standards/alto/ns-v4#}TextLine\n",
      "{http://www.loc.gov/standards/alto/ns-v4#}TextLine\n",
      "{http://www.loc.gov/standards/alto/ns-v4#}TextLine\n",
      "{http://www.loc.gov/standards/alto/ns-v4#}TextLine\n",
      "{http://www.loc.gov/standards/alto/ns-v4#}TextLine\n",
      "{http://www.loc.gov/standards/alto/ns-v4#}TextLine\n",
      "{http://www.loc.gov/standards/alto/ns-v4#}TextLine\n",
      "{http://www.loc.gov/standards/alto/ns-v4#}TextLine\n",
      "{http://www.loc.gov/standards/alto/ns-v4#}TextLine\n",
      "{http://www.loc.gov/standards/alto/ns-v4#}TextLine\n",
      "{http://www.loc.gov/standards/alto/ns-v4#}TextLine\n",
      "{http://www.loc.gov/standards/alto/ns-v4#}TextLine\n",
      "{http://www.loc.gov/standards/alto/ns-v4#}TextLine\n",
      "{http://www.loc.gov/standards/alto/ns-v4#}TextLine\n",
      "{http://www.loc.gov/standards/alto/ns-v4#}TextLine\n",
      "{http://www.loc.gov/standards/alto/ns-v4#}TextLine\n",
      "{http://www.loc.gov/standards/alto/ns-v4#}TextLine\n",
      "{http://www.loc.gov/standards/alto/ns-v4#}TextLine\n",
      "{http://www.loc.gov/standards/alto/ns-v4#}TextLine\n",
      "{http://www.loc.gov/standards/alto/ns-v4#}TextLine\n",
      "{http://www.loc.gov/standards/alto/ns-v4#}TextLine\n",
      "{http://www.loc.gov/standards/alto/ns-v4#}TextLine\n",
      "{http://www.loc.gov/standards/alto/ns-v4#}TextLine\n",
      "{http://www.loc.gov/standards/alto/ns-v4#}TextLine\n",
      "{http://www.loc.gov/standards/alto/ns-v4#}TextLine\n",
      "{http://www.loc.gov/standards/alto/ns-v4#}TextLine\n",
      "{http://www.loc.gov/standards/alto/ns-v4#}TextLine\n",
      "{http://www.loc.gov/standards/alto/ns-v4#}TextLine\n",
      "{http://www.loc.gov/standards/alto/ns-v4#}TextLine\n",
      "{http://www.loc.gov/standards/alto/ns-v4#}TextLine\n",
      "{http://www.loc.gov/standards/alto/ns-v4#}TextLine\n",
      "{http://www.loc.gov/standards/alto/ns-v4#}TextLine\n",
      "{http://www.loc.gov/standards/alto/ns-v4#}TextLine\n",
      "{http://www.loc.gov/standards/alto/ns-v4#}TextLine\n",
      "{http://www.loc.gov/standards/alto/ns-v4#}TextLine\n",
      "{http://www.loc.gov/standards/alto/ns-v4#}TextLine\n",
      "{http://www.loc.gov/standards/alto/ns-v4#}TextLine\n",
      "{http://www.loc.gov/standards/alto/ns-v4#}TextLine\n",
      "{http://www.loc.gov/standards/alto/ns-v4#}TextLine\n",
      "{http://www.loc.gov/standards/alto/ns-v4#}TextLine\n",
      "{http://www.loc.gov/standards/alto/ns-v4#}TextLine\n",
      "{http://www.loc.gov/standards/alto/ns-v4#}TextLine\n",
      "{http://www.loc.gov/standards/alto/ns-v4#}TextLine\n",
      "{http://www.loc.gov/standards/alto/ns-v4#}TextLine\n",
      "{http://www.loc.gov/standards/alto/ns-v4#}TextLine\n",
      "{http://www.loc.gov/standards/alto/ns-v4#}TextLine\n",
      "{http://www.loc.gov/standards/alto/ns-v4#}TextLine\n",
      "{http://www.loc.gov/standards/alto/ns-v4#}TextLine\n",
      "{http://www.loc.gov/standards/alto/ns-v4#}TextLine\n",
      "{http://www.loc.gov/standards/alto/ns-v4#}TextLine\n",
      "{http://www.loc.gov/standards/alto/ns-v4#}TextLine\n",
      "{http://www.loc.gov/standards/alto/ns-v4#}TextLine\n",
      "{http://www.loc.gov/standards/alto/ns-v4#}TextLine\n",
      "{http://www.loc.gov/standards/alto/ns-v4#}TextLine\n",
      "{http://www.loc.gov/standards/alto/ns-v4#}TextLine\n",
      "{http://www.loc.gov/standards/alto/ns-v4#}TextLine\n",
      "{http://www.loc.gov/standards/alto/ns-v4#}TextLine\n",
      "{http://www.loc.gov/standards/alto/ns-v4#}TextLine\n",
      "{http://www.loc.gov/standards/alto/ns-v4#}TextLine\n",
      "{http://www.loc.gov/standards/alto/ns-v4#}TextLine\n",
      "{http://www.loc.gov/standards/alto/ns-v4#}TextLine\n",
      "{http://www.loc.gov/standards/alto/ns-v4#}TextLine\n",
      "{http://www.loc.gov/standards/alto/ns-v4#}TextLine\n",
      "{http://www.loc.gov/standards/alto/ns-v4#}TextLine\n",
      "{http://www.loc.gov/standards/alto/ns-v4#}TextLine\n",
      "{http://www.loc.gov/standards/alto/ns-v4#}TextLine\n",
      "{http://www.loc.gov/standards/alto/ns-v4#}TextLine\n",
      "{http://www.loc.gov/standards/alto/ns-v4#}TextLine\n",
      "{http://www.loc.gov/standards/alto/ns-v4#}TextLine\n",
      "{http://www.loc.gov/standards/alto/ns-v4#}TextLine\n",
      "{http://www.loc.gov/standards/alto/ns-v4#}TextLine\n",
      "{http://www.loc.gov/standards/alto/ns-v4#}TextLine\n",
      "{http://www.loc.gov/standards/alto/ns-v4#}TextLine\n",
      "{http://www.loc.gov/standards/alto/ns-v4#}TextLine\n",
      "{http://www.loc.gov/standards/alto/ns-v4#}TextLine\n",
      "{http://www.loc.gov/standards/alto/ns-v4#}TextLine\n",
      "{http://www.loc.gov/standards/alto/ns-v4#}TextLine\n",
      "{http://www.loc.gov/standards/alto/ns-v4#}TextLine\n",
      "{http://www.loc.gov/standards/alto/ns-v4#}TextLine\n",
      "{http://www.loc.gov/standards/alto/ns-v4#}TextLine\n",
      "{http://www.loc.gov/standards/alto/ns-v4#}TextLine\n"
     ]
    }
   ],
   "source": [
    "for t in root.iter('{*}TextLine'):\n",
    "    print(t.tag)"
   ]
  },
  {
   "cell_type": "markdown",
   "metadata": {},
   "source": [
    "And we can find them like this:"
   ]
  },
  {
   "cell_type": "code",
   "execution_count": 20,
   "metadata": {},
   "outputs": [
    {
     "name": "stdout",
     "output_type": "stream",
     "text": [
      "{http://www.loc.gov/standards/alto/ns-v4#}TextBlock\n",
      "{'HPOS': '3550', 'VPOS': '791', 'WIDTH': '16', 'HEIGHT': '16', 'ID': 'eSc_textblock_3370f8a3'}\n"
     ]
    }
   ],
   "source": [
    "for t in root.iter('{*}TextBlock'):\n",
    "    line = t.find('{*}TextLine')\n",
    "    if line is None:\n",
    "        print(t.tag)\n",
    "        print(t.attrib)\n",
    "    "
   ]
  },
  {
   "cell_type": "code",
   "execution_count": 24,
   "metadata": {},
   "outputs": [
    {
     "name": "stdout",
     "output_type": "stream",
     "text": [
      "{http://www.loc.gov/standards/alto/ns-v4#}TextBlock\n",
      "TextBlock with ID: eSc_textblock_3370f8a3 contains no TextLine\n"
     ]
    }
   ],
   "source": [
    "for t in root.iter('{*}TextBlock'):\n",
    "    line = t.find('{*}TextLine')\n",
    "    if line is None:\n",
    "        print(t.tag)\n",
    "        print('TextBlock with ID:',t.attrib['ID'], 'contains no TextLine')\n",
    "        #t.getparent().remove(t)\n",
    "        #print('TextBlock with ID:',t.attrib['ID'], 'has been removed')\n",
    "    "
   ]
  },
  {
   "cell_type": "code",
   "execution_count": 27,
   "metadata": {},
   "outputs": [
    {
     "name": "stdout",
     "output_type": "stream",
     "text": [
      "TextBlock with ID: eSc_textblock_3370f8a3 has been removed\n"
     ]
    }
   ],
   "source": [
    "for t in root.iter('{*}TextBlock'):\n",
    "    line = t.find('{*}TextLine')\n",
    "    if line is None:\n",
    "        #print(t.tag)\n",
    "        #print('TextBlock with ID:',t.attrib['ID'], 'contains no TextLine')\n",
    "        t.getparent().remove(t)\n",
    "        print('TextBlock with ID:',t.attrib['ID'], 'has been removed')"
   ]
  },
  {
   "cell_type": "code",
   "execution_count": 28,
   "metadata": {},
   "outputs": [],
   "source": [
    "#saving the file\n",
    "tree.write('no-emptyzone.xml')"
   ]
  },
  {
   "cell_type": "code",
   "execution_count": null,
   "metadata": {},
   "outputs": [],
   "source": []
  }
 ],
 "metadata": {
  "kernelspec": {
   "display_name": "Python 3",
   "language": "python",
   "name": "python3"
  },
  "language_info": {
   "codemirror_mode": {
    "name": "ipython",
    "version": 3
   },
   "file_extension": ".py",
   "mimetype": "text/x-python",
   "name": "python",
   "nbconvert_exporter": "python",
   "pygments_lexer": "ipython3",
   "version": "3.7.3"
  }
 },
 "nbformat": 4,
 "nbformat_minor": 2
}
