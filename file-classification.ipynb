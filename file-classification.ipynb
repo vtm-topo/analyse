{
 "cells": [
  {
   "cell_type": "markdown",
   "metadata": {},
   "source": [
    "# Dump train data"
   ]
  },
  {
   "cell_type": "markdown",
   "metadata": {},
   "source": [
    "The purpose of this script is to generate the train.txt files after adding more files in our data folder. The list of files of train.txt is equal to the total of data minus test and eval. "
   ]
  },
  {
   "cell_type": "code",
   "execution_count": 1,
   "metadata": {},
   "outputs": [],
   "source": [
    "import os\n",
    "import glob"
   ]
  },
  {
   "cell_type": "code",
   "execution_count": 2,
   "metadata": {
    "scrolled": true
   },
   "outputs": [
    {
     "name": "stdout",
     "output_type": "stream",
     "text": [
      "115\n"
     ]
    },
    {
     "data": {
      "text/plain": [
       "['data/FRAN_0025_0327_L-0.xml',\n",
       " 'data/AC Bagnes R5 0096.xml',\n",
       " 'data/FRAN_0025_1350_L-0.xml',\n",
       " 'data/AC Bagnes R5 0065.xml',\n",
       " 'data/Vol-09-002-001.xml',\n",
       " 'data/FRAN_0025_0934_L-1.xml',\n",
       " 'data/FRAN_0025_1443_L-0.xml',\n",
       " 'data/AC Bagnes R46 0203.xml',\n",
       " 'data/Vol-09-005-001.xml',\n",
       " 'data/Vol-09-070-001bis.xml',\n",
       " 'data/AC Bagnes R10 0404.xml',\n",
       " 'data/AC Bagnes R5 0120.xml',\n",
       " 'data/FRAN_0025_0327_L-1.xml',\n",
       " 'data/FRAN_0025_0422_L-0.xml',\n",
       " 'data/AC Bagnes R46 0074.xml',\n",
       " 'data/AC Bagnes R5 0274.xml',\n",
       " 'data/Vol-09-003-001.xml',\n",
       " 'data/Vol-09-196-001.xml',\n",
       " 'data/FRAN_0025_1333_L-0.xml',\n",
       " 'data/FRAN_0025_1209_L-1.xml',\n",
       " 'data/AC Bagnes R5 0186.xml',\n",
       " 'data/AC Bagnes R10 0003.xml',\n",
       " 'data/Vol-09-093-001.xml',\n",
       " 'data/Vol-09-001.pdf_page_1.xml',\n",
       " 'data/Vol-09-046-001.xml',\n",
       " 'data/Vol-09-043-001.xml',\n",
       " 'data/AC Bagnes R46 0073.xml',\n",
       " 'data/FRAN_0025_0422_L-1.xml',\n",
       " 'data/AC Bagnes R46 0161.xml',\n",
       " 'data/FRAN_0025_0989_L-0.xml',\n",
       " 'data/AC Bagnes R5 0098.xml',\n",
       " 'data/Vol-09-132-001.xml',\n",
       " 'data/Vol-09-133-001.xml',\n",
       " 'data/AC Bagnes R10 0004.xml',\n",
       " 'data/FRAN_0025_2324_L-1.xml',\n",
       " 'data/FRAN_0025_1289_L-1.xml',\n",
       " 'data/FRAN_0025_1444_L-0.xml',\n",
       " 'data/Vol-09-265-001.xml',\n",
       " 'data/AC Bagnes R10 0283.xml',\n",
       " 'data/AC Bagnes R10 0002.xml',\n",
       " 'data/FRAN_0025_1333_L-1.xml',\n",
       " 'data/AC Bagnes R10 0402.xml',\n",
       " 'data/Vol-09-081-001.xml',\n",
       " 'data/Vol-09-131-001.xml',\n",
       " 'data/Vol-09-161-001.xml',\n",
       " 'data/AC Bagnes R46 0001.xml',\n",
       " 'data/AC Bagnes R5 0283.xml',\n",
       " 'data/Vol-09-101-001.xml',\n",
       " 'data/AC Bagnes R46 0162.xml',\n",
       " 'data/FRAN_0025_1444_L-1.xml',\n",
       " 'data/AC Bagnes R10 0273.xml',\n",
       " 'data/Vol-09-004-001.xml',\n",
       " 'data/AC Bagnes R5 0001.xml',\n",
       " 'data/AC Bagnes R10 0113.xml',\n",
       " 'data/AC Bagnes R5 0002.xml',\n",
       " 'data/AC Bagnes R46 0204.xml',\n",
       " 'data/AC Bagnes R46 0003.xml',\n",
       " 'data/Vol-09-041-001.xml',\n",
       " 'data/AC Bagnes R46 0163.xml',\n",
       " 'data/AC Bagnes R10 0110.xml',\n",
       " 'data/Vol-09-055-001.xml',\n",
       " 'data/AC Bagnes R10 0390.xml',\n",
       " 'data/AC Bagnes R5 0367.xml',\n",
       " 'data/AC Bagnes R46 0201.xml',\n",
       " 'data/AC Bagnes R46 0072.xml',\n",
       " 'data/AC Bagnes R10 0005.xml',\n",
       " 'data/FRAN_0025_0934_L-0.xml',\n",
       " 'data/Vol-09-064-001.xml',\n",
       " 'data/AC Bagnes R5 0005.xml',\n",
       " 'data/Vol-09-065-001.xml',\n",
       " 'data/AC Bagnes R10 0112.xml',\n",
       " 'data/Vol-09-134-001.xml',\n",
       " 'data/AC Bagnes R10 0403.xml',\n",
       " 'data/AC Bagnes R46 0398.xml',\n",
       " 'data/Vol-09-068-001.xml',\n",
       " 'data/Vol-09-297-001.xml',\n",
       " 'data/AC Bagnes R10 0001.xml',\n",
       " 'data/Vol-09-296-001.xml',\n",
       " 'data/AC Bagnes R46 0202.xml',\n",
       " 'data/AC Bagnes R46 0070.xml',\n",
       " 'data/Vol-09-174-001.xml',\n",
       " 'data/AC Bagnes R5 0004.xml',\n",
       " 'data/Vol-09-070-001.xml',\n",
       " 'data/Vol-09-150-001.xml',\n",
       " 'data/AC Bagnes R5 0003.xml',\n",
       " 'data/AC Bagnes R46 0355.xml',\n",
       " 'data/Vol-09-295-001.xml',\n",
       " 'data/FRAN_0025_1443_L-1.xml',\n",
       " 'data/AC Bagnes R5 0051.xml',\n",
       " 'data/AC Bagnes R5 0291.xml',\n",
       " 'data/AC Bagnes R46 0071.xml',\n",
       " 'data/AC Bagnes R10 0401.xml',\n",
       " 'data/AC Bagnes R46 0002.xml',\n",
       " 'data/AC Bagnes R5 0371.xml',\n",
       " 'data/FRAN_0025_1289_L-0.xml',\n",
       " 'data/AC Bagnes R5 0272.xml',\n",
       " 'data/Vol-09-057-001.xml',\n",
       " 'data/AC Bagnes R46 0052.xml',\n",
       " 'data/AC Bagnes R10 0382.xml',\n",
       " 'data/AC Bagnes R5 0218.xml',\n",
       " 'data/FRAN_0025_0989_L-1.xml',\n",
       " 'data/AC Bagnes R5 0386.xml',\n",
       " 'data/AC Bagnes R5 0154.xml',\n",
       " 'data/AC Bagnes R5 0050.xml',\n",
       " 'data/AC Bagnes R10 0114.xml',\n",
       " 'data/AC Bagnes R10 0400.xml',\n",
       " 'data/AC Bagnes R5 0339.xml',\n",
       " 'data/FRAN_0025_1350_L-1.xml',\n",
       " 'data/FRAN_0025_0434_L-0.xml',\n",
       " 'data/AC Bagnes R5 0276.xml',\n",
       " 'data/AC Bagnes R10 0111.xml',\n",
       " 'data/AC Bagnes R46 0356.xml',\n",
       " 'data/FRAN_0025_0434_L-1.xml',\n",
       " 'data/AC Bagnes R46 0160.xml',\n",
       " 'data/AC Bagnes R10 0175.xml']"
      ]
     },
     "execution_count": 2,
     "metadata": {},
     "output_type": "execute_result"
    }
   ],
   "source": [
    "path_files = \"../CHABLE/data/\"\n",
    "all_files = [os.path.join('data', os.path.basename(x)) for x in glob.glob(path_files + '*.xml')]\n",
    "print(len(all_files))\n",
    "all_files"
   ]
  },
  {
   "cell_type": "markdown",
   "metadata": {},
   "source": [
    "To get a quick overview of which files is in our data folder, we can sort them. For example, when we need to select new files for transcription, this list can be useful."
   ]
  },
  {
   "cell_type": "code",
   "execution_count": 3,
   "metadata": {},
   "outputs": [
    {
     "data": {
      "text/plain": [
       "['data/AC Bagnes R10 0001.xml',\n",
       " 'data/AC Bagnes R10 0002.xml',\n",
       " 'data/AC Bagnes R10 0003.xml',\n",
       " 'data/AC Bagnes R10 0004.xml',\n",
       " 'data/AC Bagnes R10 0005.xml',\n",
       " 'data/AC Bagnes R10 0110.xml',\n",
       " 'data/AC Bagnes R10 0111.xml',\n",
       " 'data/AC Bagnes R10 0112.xml',\n",
       " 'data/AC Bagnes R10 0113.xml',\n",
       " 'data/AC Bagnes R10 0114.xml',\n",
       " 'data/AC Bagnes R10 0175.xml',\n",
       " 'data/AC Bagnes R10 0273.xml',\n",
       " 'data/AC Bagnes R10 0283.xml',\n",
       " 'data/AC Bagnes R10 0382.xml',\n",
       " 'data/AC Bagnes R10 0390.xml',\n",
       " 'data/AC Bagnes R10 0400.xml',\n",
       " 'data/AC Bagnes R10 0401.xml',\n",
       " 'data/AC Bagnes R10 0402.xml',\n",
       " 'data/AC Bagnes R10 0403.xml',\n",
       " 'data/AC Bagnes R10 0404.xml',\n",
       " 'data/AC Bagnes R46 0001.xml',\n",
       " 'data/AC Bagnes R46 0002.xml',\n",
       " 'data/AC Bagnes R46 0003.xml',\n",
       " 'data/AC Bagnes R46 0052.xml',\n",
       " 'data/AC Bagnes R46 0070.xml',\n",
       " 'data/AC Bagnes R46 0071.xml',\n",
       " 'data/AC Bagnes R46 0072.xml',\n",
       " 'data/AC Bagnes R46 0073.xml',\n",
       " 'data/AC Bagnes R46 0074.xml',\n",
       " 'data/AC Bagnes R46 0160.xml',\n",
       " 'data/AC Bagnes R46 0161.xml',\n",
       " 'data/AC Bagnes R46 0162.xml',\n",
       " 'data/AC Bagnes R46 0163.xml',\n",
       " 'data/AC Bagnes R46 0201.xml',\n",
       " 'data/AC Bagnes R46 0202.xml',\n",
       " 'data/AC Bagnes R46 0203.xml',\n",
       " 'data/AC Bagnes R46 0204.xml',\n",
       " 'data/AC Bagnes R46 0355.xml',\n",
       " 'data/AC Bagnes R46 0356.xml',\n",
       " 'data/AC Bagnes R46 0398.xml',\n",
       " 'data/AC Bagnes R5 0001.xml',\n",
       " 'data/AC Bagnes R5 0002.xml',\n",
       " 'data/AC Bagnes R5 0003.xml',\n",
       " 'data/AC Bagnes R5 0004.xml',\n",
       " 'data/AC Bagnes R5 0005.xml',\n",
       " 'data/AC Bagnes R5 0050.xml',\n",
       " 'data/AC Bagnes R5 0051.xml',\n",
       " 'data/AC Bagnes R5 0065.xml',\n",
       " 'data/AC Bagnes R5 0096.xml',\n",
       " 'data/AC Bagnes R5 0098.xml',\n",
       " 'data/AC Bagnes R5 0120.xml',\n",
       " 'data/AC Bagnes R5 0154.xml',\n",
       " 'data/AC Bagnes R5 0186.xml',\n",
       " 'data/AC Bagnes R5 0218.xml',\n",
       " 'data/AC Bagnes R5 0272.xml',\n",
       " 'data/AC Bagnes R5 0274.xml',\n",
       " 'data/AC Bagnes R5 0276.xml',\n",
       " 'data/AC Bagnes R5 0283.xml',\n",
       " 'data/AC Bagnes R5 0291.xml',\n",
       " 'data/AC Bagnes R5 0339.xml',\n",
       " 'data/AC Bagnes R5 0367.xml',\n",
       " 'data/AC Bagnes R5 0371.xml',\n",
       " 'data/AC Bagnes R5 0386.xml',\n",
       " 'data/FRAN_0025_0327_L-0.xml',\n",
       " 'data/FRAN_0025_0327_L-1.xml',\n",
       " 'data/FRAN_0025_0422_L-0.xml',\n",
       " 'data/FRAN_0025_0422_L-1.xml',\n",
       " 'data/FRAN_0025_0434_L-0.xml',\n",
       " 'data/FRAN_0025_0434_L-1.xml',\n",
       " 'data/FRAN_0025_0934_L-0.xml',\n",
       " 'data/FRAN_0025_0934_L-1.xml',\n",
       " 'data/FRAN_0025_0989_L-0.xml',\n",
       " 'data/FRAN_0025_0989_L-1.xml',\n",
       " 'data/FRAN_0025_1209_L-1.xml',\n",
       " 'data/FRAN_0025_1289_L-0.xml',\n",
       " 'data/FRAN_0025_1289_L-1.xml',\n",
       " 'data/FRAN_0025_1333_L-0.xml',\n",
       " 'data/FRAN_0025_1333_L-1.xml',\n",
       " 'data/FRAN_0025_1350_L-0.xml',\n",
       " 'data/FRAN_0025_1350_L-1.xml',\n",
       " 'data/FRAN_0025_1443_L-0.xml',\n",
       " 'data/FRAN_0025_1443_L-1.xml',\n",
       " 'data/FRAN_0025_1444_L-0.xml',\n",
       " 'data/FRAN_0025_1444_L-1.xml',\n",
       " 'data/FRAN_0025_2324_L-1.xml',\n",
       " 'data/Vol-09-001.pdf_page_1.xml',\n",
       " 'data/Vol-09-002-001.xml',\n",
       " 'data/Vol-09-003-001.xml',\n",
       " 'data/Vol-09-004-001.xml',\n",
       " 'data/Vol-09-005-001.xml',\n",
       " 'data/Vol-09-041-001.xml',\n",
       " 'data/Vol-09-043-001.xml',\n",
       " 'data/Vol-09-046-001.xml',\n",
       " 'data/Vol-09-055-001.xml',\n",
       " 'data/Vol-09-057-001.xml',\n",
       " 'data/Vol-09-064-001.xml',\n",
       " 'data/Vol-09-065-001.xml',\n",
       " 'data/Vol-09-068-001.xml',\n",
       " 'data/Vol-09-070-001.xml',\n",
       " 'data/Vol-09-070-001bis.xml',\n",
       " 'data/Vol-09-081-001.xml',\n",
       " 'data/Vol-09-093-001.xml',\n",
       " 'data/Vol-09-101-001.xml',\n",
       " 'data/Vol-09-131-001.xml',\n",
       " 'data/Vol-09-132-001.xml',\n",
       " 'data/Vol-09-133-001.xml',\n",
       " 'data/Vol-09-134-001.xml',\n",
       " 'data/Vol-09-150-001.xml',\n",
       " 'data/Vol-09-161-001.xml',\n",
       " 'data/Vol-09-174-001.xml',\n",
       " 'data/Vol-09-196-001.xml',\n",
       " 'data/Vol-09-265-001.xml',\n",
       " 'data/Vol-09-295-001.xml',\n",
       " 'data/Vol-09-296-001.xml',\n",
       " 'data/Vol-09-297-001.xml']"
      ]
     },
     "execution_count": 3,
     "metadata": {},
     "output_type": "execute_result"
    }
   ],
   "source": [
    "sorted(all_files)"
   ]
  },
  {
   "cell_type": "markdown",
   "metadata": {},
   "source": [
    "Reading the text files containing the name of the file for test and eval"
   ]
  },
  {
   "cell_type": "markdown",
   "metadata": {},
   "source": [
    "### Test"
   ]
  },
  {
   "cell_type": "code",
   "execution_count": 4,
   "metadata": {},
   "outputs": [
    {
     "data": {
      "text/plain": [
       "'data/AC Bagnes R5 0001.xml\\ndata/AC Bagnes R5 0002.xml\\ndata/AC Bagnes R5 0004.xml\\ndata/AC Bagnes R10 0003.xml\\ndata/AC Bagnes R10 0112.xml\\ndata/AC Bagnes R10 0390.xml\\ndata/AC Bagnes R46 0003.xml\\ndata/AC Bagnes R46 0160.xml\\ndata/AC Bagnes R46 0398.xml\\ndata/Vol-09-001.pdf_page_1.xml\\ndata/Vol-09-295-001.xml\\ndata/Vol-09-133-001.xml'"
      ]
     },
     "execution_count": 4,
     "metadata": {},
     "output_type": "execute_result"
    }
   ],
   "source": [
    "with open('test.txt', 'r') as f:\n",
    "    test = f.read()\n",
    "test"
   ]
  },
  {
   "cell_type": "code",
   "execution_count": 5,
   "metadata": {
    "scrolled": true
   },
   "outputs": [
    {
     "data": {
      "text/plain": [
       "['data/AC Bagnes R5 0001.xml',\n",
       " 'data/AC Bagnes R5 0002.xml',\n",
       " 'data/AC Bagnes R5 0004.xml',\n",
       " 'data/AC Bagnes R10 0003.xml',\n",
       " 'data/AC Bagnes R10 0112.xml',\n",
       " 'data/AC Bagnes R10 0390.xml',\n",
       " 'data/AC Bagnes R46 0003.xml',\n",
       " 'data/AC Bagnes R46 0160.xml',\n",
       " 'data/AC Bagnes R46 0398.xml',\n",
       " 'data/Vol-09-001.pdf_page_1.xml',\n",
       " 'data/Vol-09-295-001.xml',\n",
       " 'data/Vol-09-133-001.xml']"
      ]
     },
     "execution_count": 5,
     "metadata": {},
     "output_type": "execute_result"
    }
   ],
   "source": [
    "lst_test = []\n",
    "lst_test = test.split(\"\\n\")\n",
    "lst_test"
   ]
  },
  {
   "cell_type": "markdown",
   "metadata": {},
   "source": [
    "### Eval"
   ]
  },
  {
   "cell_type": "code",
   "execution_count": 6,
   "metadata": {},
   "outputs": [
    {
     "data": {
      "text/plain": [
       "'data/AC Bagnes R5 0003.xml\\ndata/AC Bagnes R10 0175.xml\\ndata/AC Bagnes R10 0401.xml\\ndata/AC Bagnes R46 0070.xml\\ndata/AC Bagnes R46 0355.xml\\ndata/Vol-09-005-001.xml\\ndata/Vol-09-131-001.xml'"
      ]
     },
     "execution_count": 6,
     "metadata": {},
     "output_type": "execute_result"
    }
   ],
   "source": [
    "with open('eval.txt', 'r') as f2:\n",
    "    eval = f2.read()\n",
    "eval"
   ]
  },
  {
   "cell_type": "code",
   "execution_count": 7,
   "metadata": {},
   "outputs": [
    {
     "data": {
      "text/plain": [
       "['data/AC Bagnes R5 0003.xml',\n",
       " 'data/AC Bagnes R10 0175.xml',\n",
       " 'data/AC Bagnes R10 0401.xml',\n",
       " 'data/AC Bagnes R46 0070.xml',\n",
       " 'data/AC Bagnes R46 0355.xml',\n",
       " 'data/Vol-09-005-001.xml',\n",
       " 'data/Vol-09-131-001.xml']"
      ]
     },
     "execution_count": 7,
     "metadata": {},
     "output_type": "execute_result"
    }
   ],
   "source": [
    "lst_eval = []\n",
    "lst_eval = eval.split(\"\\n\")\n",
    "lst_eval"
   ]
  },
  {
   "cell_type": "markdown",
   "metadata": {},
   "source": [
    "### Train"
   ]
  },
  {
   "cell_type": "code",
   "execution_count": 8,
   "metadata": {},
   "outputs": [
    {
     "name": "stdout",
     "output_type": "stream",
     "text": [
      "19\n"
     ]
    },
    {
     "data": {
      "text/plain": [
       "['data/AC Bagnes R5 0003.xml',\n",
       " 'data/AC Bagnes R10 0175.xml',\n",
       " 'data/AC Bagnes R10 0401.xml',\n",
       " 'data/AC Bagnes R46 0070.xml',\n",
       " 'data/AC Bagnes R46 0355.xml',\n",
       " 'data/Vol-09-005-001.xml',\n",
       " 'data/Vol-09-131-001.xml',\n",
       " 'data/AC Bagnes R5 0001.xml',\n",
       " 'data/AC Bagnes R5 0002.xml',\n",
       " 'data/AC Bagnes R5 0004.xml',\n",
       " 'data/AC Bagnes R10 0003.xml',\n",
       " 'data/AC Bagnes R10 0112.xml',\n",
       " 'data/AC Bagnes R10 0390.xml',\n",
       " 'data/AC Bagnes R46 0003.xml',\n",
       " 'data/AC Bagnes R46 0160.xml',\n",
       " 'data/AC Bagnes R46 0398.xml',\n",
       " 'data/Vol-09-001.pdf_page_1.xml',\n",
       " 'data/Vol-09-295-001.xml',\n",
       " 'data/Vol-09-133-001.xml']"
      ]
     },
     "execution_count": 8,
     "metadata": {},
     "output_type": "execute_result"
    }
   ],
   "source": [
    "to_remove = lst_eval + lst_test\n",
    "print(len(to_remove))\n",
    "to_remove"
   ]
  },
  {
   "cell_type": "code",
   "execution_count": 9,
   "metadata": {},
   "outputs": [
    {
     "name": "stdout",
     "output_type": "stream",
     "text": [
      "96\n"
     ]
    },
    {
     "data": {
      "text/plain": [
       "['data/FRAN_0025_0327_L-0.xml',\n",
       " 'data/AC Bagnes R5 0096.xml',\n",
       " 'data/FRAN_0025_1350_L-0.xml',\n",
       " 'data/AC Bagnes R5 0065.xml',\n",
       " 'data/Vol-09-002-001.xml',\n",
       " 'data/FRAN_0025_0934_L-1.xml',\n",
       " 'data/FRAN_0025_1443_L-0.xml',\n",
       " 'data/AC Bagnes R46 0203.xml',\n",
       " 'data/Vol-09-070-001bis.xml',\n",
       " 'data/AC Bagnes R10 0404.xml',\n",
       " 'data/AC Bagnes R5 0120.xml',\n",
       " 'data/FRAN_0025_0327_L-1.xml',\n",
       " 'data/FRAN_0025_0422_L-0.xml',\n",
       " 'data/AC Bagnes R46 0074.xml',\n",
       " 'data/AC Bagnes R5 0274.xml',\n",
       " 'data/Vol-09-003-001.xml',\n",
       " 'data/Vol-09-196-001.xml',\n",
       " 'data/FRAN_0025_1333_L-0.xml',\n",
       " 'data/FRAN_0025_1209_L-1.xml',\n",
       " 'data/AC Bagnes R5 0186.xml',\n",
       " 'data/Vol-09-093-001.xml',\n",
       " 'data/Vol-09-046-001.xml',\n",
       " 'data/Vol-09-043-001.xml',\n",
       " 'data/AC Bagnes R46 0073.xml',\n",
       " 'data/FRAN_0025_0422_L-1.xml',\n",
       " 'data/AC Bagnes R46 0161.xml',\n",
       " 'data/FRAN_0025_0989_L-0.xml',\n",
       " 'data/AC Bagnes R5 0098.xml',\n",
       " 'data/Vol-09-132-001.xml',\n",
       " 'data/AC Bagnes R10 0004.xml',\n",
       " 'data/FRAN_0025_2324_L-1.xml',\n",
       " 'data/FRAN_0025_1289_L-1.xml',\n",
       " 'data/FRAN_0025_1444_L-0.xml',\n",
       " 'data/Vol-09-265-001.xml',\n",
       " 'data/AC Bagnes R10 0283.xml',\n",
       " 'data/AC Bagnes R10 0002.xml',\n",
       " 'data/FRAN_0025_1333_L-1.xml',\n",
       " 'data/AC Bagnes R10 0402.xml',\n",
       " 'data/Vol-09-081-001.xml',\n",
       " 'data/Vol-09-161-001.xml',\n",
       " 'data/AC Bagnes R46 0001.xml',\n",
       " 'data/AC Bagnes R5 0283.xml',\n",
       " 'data/Vol-09-101-001.xml',\n",
       " 'data/AC Bagnes R46 0162.xml',\n",
       " 'data/FRAN_0025_1444_L-1.xml',\n",
       " 'data/AC Bagnes R10 0273.xml',\n",
       " 'data/Vol-09-004-001.xml',\n",
       " 'data/AC Bagnes R10 0113.xml',\n",
       " 'data/AC Bagnes R46 0204.xml',\n",
       " 'data/Vol-09-041-001.xml',\n",
       " 'data/AC Bagnes R46 0163.xml',\n",
       " 'data/AC Bagnes R10 0110.xml',\n",
       " 'data/Vol-09-055-001.xml',\n",
       " 'data/AC Bagnes R5 0367.xml',\n",
       " 'data/AC Bagnes R46 0201.xml',\n",
       " 'data/AC Bagnes R46 0072.xml',\n",
       " 'data/AC Bagnes R10 0005.xml',\n",
       " 'data/FRAN_0025_0934_L-0.xml',\n",
       " 'data/Vol-09-064-001.xml',\n",
       " 'data/AC Bagnes R5 0005.xml',\n",
       " 'data/Vol-09-065-001.xml',\n",
       " 'data/Vol-09-134-001.xml',\n",
       " 'data/AC Bagnes R10 0403.xml',\n",
       " 'data/Vol-09-068-001.xml',\n",
       " 'data/Vol-09-297-001.xml',\n",
       " 'data/AC Bagnes R10 0001.xml',\n",
       " 'data/Vol-09-296-001.xml',\n",
       " 'data/AC Bagnes R46 0202.xml',\n",
       " 'data/Vol-09-174-001.xml',\n",
       " 'data/Vol-09-070-001.xml',\n",
       " 'data/Vol-09-150-001.xml',\n",
       " 'data/FRAN_0025_1443_L-1.xml',\n",
       " 'data/AC Bagnes R5 0051.xml',\n",
       " 'data/AC Bagnes R5 0291.xml',\n",
       " 'data/AC Bagnes R46 0071.xml',\n",
       " 'data/AC Bagnes R46 0002.xml',\n",
       " 'data/AC Bagnes R5 0371.xml',\n",
       " 'data/FRAN_0025_1289_L-0.xml',\n",
       " 'data/AC Bagnes R5 0272.xml',\n",
       " 'data/Vol-09-057-001.xml',\n",
       " 'data/AC Bagnes R46 0052.xml',\n",
       " 'data/AC Bagnes R10 0382.xml',\n",
       " 'data/AC Bagnes R5 0218.xml',\n",
       " 'data/FRAN_0025_0989_L-1.xml',\n",
       " 'data/AC Bagnes R5 0386.xml',\n",
       " 'data/AC Bagnes R5 0154.xml',\n",
       " 'data/AC Bagnes R5 0050.xml',\n",
       " 'data/AC Bagnes R10 0114.xml',\n",
       " 'data/AC Bagnes R10 0400.xml',\n",
       " 'data/AC Bagnes R5 0339.xml',\n",
       " 'data/FRAN_0025_1350_L-1.xml',\n",
       " 'data/FRAN_0025_0434_L-0.xml',\n",
       " 'data/AC Bagnes R5 0276.xml',\n",
       " 'data/AC Bagnes R10 0111.xml',\n",
       " 'data/AC Bagnes R46 0356.xml',\n",
       " 'data/FRAN_0025_0434_L-1.xml']"
      ]
     },
     "execution_count": 9,
     "metadata": {},
     "output_type": "execute_result"
    }
   ],
   "source": [
    "train = [i for i in all_files if i not in to_remove]\n",
    "print(len(train))\n",
    "train"
   ]
  },
  {
   "cell_type": "code",
   "execution_count": 10,
   "metadata": {},
   "outputs": [],
   "source": [
    "outfile = open(\"train.txt\", \"w\")\n",
    "outfile.write( \"\\n\".join(str(i) for i in train))\n",
    "outfile.close()"
   ]
  },
  {
   "cell_type": "code",
   "execution_count": null,
   "metadata": {},
   "outputs": [],
   "source": []
  },
  {
   "cell_type": "code",
   "execution_count": null,
   "metadata": {},
   "outputs": [],
   "source": []
  }
 ],
 "metadata": {
  "kernelspec": {
   "display_name": "Python 3",
   "language": "python",
   "name": "python3"
  },
  "language_info": {
   "codemirror_mode": {
    "name": "ipython",
    "version": 3
   },
   "file_extension": ".py",
   "mimetype": "text/x-python",
   "name": "python",
   "nbconvert_exporter": "python",
   "pygments_lexer": "ipython3",
   "version": "3.7.3"
  }
 },
 "nbformat": 4,
 "nbformat_minor": 2
}
