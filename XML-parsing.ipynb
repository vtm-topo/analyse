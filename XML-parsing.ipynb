{
 "cells": [
  {
   "cell_type": "markdown",
   "metadata": {},
   "source": [
    "# Exploring how to parse xml Alto files"
   ]
  },
  {
   "cell_type": "markdown",
   "metadata": {},
   "source": [
    "We want to test if there are any differences in the recognition results if we remove the most complexe lines. In our case, it is mostly the \"mutations\"-> \"CustomLine:mutations\", but eventually also the \"francs\" ->  \"CustomLine:francs\" and the \"confins\" -> \"CustomLine:confins\""
   ]
  },
  {
   "cell_type": "markdown",
   "metadata": {},
   "source": [
    "### Learning and testing"
   ]
  },
  {
   "cell_type": "markdown",
   "metadata": {},
   "source": [
    "To remove those lines we need to modifiy the xml. I began with a few tests to learn how it works. I worked with xml before but I already forgot a lot and it was rather basic operations. I used this tutorial which isn't bad: https://www.edureka.co/blog/python-xml-parser-tutorial/"
   ]
  },
  {
   "cell_type": "code",
   "execution_count": 1,
   "metadata": {},
   "outputs": [
    {
     "data": {
      "text/plain": [
       "<_io.TextIOWrapper name='AC Bagnes R46 0072.xml' mode='r' encoding='UTF-8'>"
      ]
     },
     "execution_count": 1,
     "metadata": {},
     "output_type": "execute_result"
    }
   ],
   "source": [
    "f = open(\"AC Bagnes R46 0072.xml\", \"r\")\n",
    "f"
   ]
  },
  {
   "cell_type": "markdown",
   "metadata": {},
   "source": [
    "There is an alto parser library but it doesn't seem to work:"
   ]
  },
  {
   "cell_type": "code",
   "execution_count": 2,
   "metadata": {
    "scrolled": true
   },
   "outputs": [
    {
     "ename": "ValueError",
     "evalue": "Error when parsing XML: expecting tag {http://www.loc.gov/standards/alto/ns-v4#}alto to have child {http://www.loc.gov/standards/alto/ns-v3#}Description. Available children: ['{http://www.loc.gov/standards/alto/ns-v4#}Description', '{http://www.loc.gov/standards/alto/ns-v4#}Tags', '{http://www.loc.gov/standards/alto/ns-v4#}Layout']",
     "output_type": "error",
     "traceback": [
      "\u001b[0;31m---------------------------------------------------------------------------\u001b[0m",
      "\u001b[0;31mValueError\u001b[0m                                Traceback (most recent call last)",
      "\u001b[0;32m<ipython-input-2-a257b378fb99>\u001b[0m in \u001b[0;36m<module>\u001b[0;34m\u001b[0m\n\u001b[1;32m      1\u001b[0m \u001b[0;32mfrom\u001b[0m \u001b[0malto\u001b[0m \u001b[0;32mimport\u001b[0m \u001b[0mparse_file\u001b[0m\u001b[0;34m\u001b[0m\u001b[0;34m\u001b[0m\u001b[0m\n\u001b[1;32m      2\u001b[0m \u001b[0;34m\u001b[0m\u001b[0m\n\u001b[0;32m----> 3\u001b[0;31m \u001b[0malto\u001b[0m \u001b[0;34m=\u001b[0m \u001b[0mparse_file\u001b[0m\u001b[0;34m(\u001b[0m\u001b[0;34m'AC Bagnes R46 0072.xml'\u001b[0m\u001b[0;34m)\u001b[0m\u001b[0;34m\u001b[0m\u001b[0;34m\u001b[0m\u001b[0m\n\u001b[0m\u001b[1;32m      4\u001b[0m \u001b[0mprint\u001b[0m\u001b[0;34m(\u001b[0m\u001b[0malto\u001b[0m\u001b[0;34m.\u001b[0m\u001b[0mextract_words\u001b[0m\u001b[0;34m(\u001b[0m\u001b[0;34m)\u001b[0m\u001b[0;34m)\u001b[0m\u001b[0;34m\u001b[0m\u001b[0;34m\u001b[0m\u001b[0m\n",
      "\u001b[0;32m~/anaconda3/lib/python3.7/site-packages/alto/__init__.py\u001b[0m in \u001b[0;36mparse_file\u001b[0;34m(filename)\u001b[0m\n\u001b[1;32m    507\u001b[0m         \u001b[0mfilename\u001b[0m \u001b[0mof\u001b[0m \u001b[0mthe\u001b[0m \u001b[0mfile\u001b[0m \u001b[0mto\u001b[0m \u001b[0mload\u001b[0m\u001b[0;34m\u001b[0m\u001b[0;34m\u001b[0m\u001b[0m\n\u001b[1;32m    508\u001b[0m     \"\"\"\n\u001b[0;32m--> 509\u001b[0;31m     \u001b[0;32mreturn\u001b[0m \u001b[0mAlto\u001b[0m\u001b[0;34m.\u001b[0m\u001b[0mparse_file\u001b[0m\u001b[0;34m(\u001b[0m\u001b[0mfilename\u001b[0m\u001b[0;34m)\u001b[0m\u001b[0;34m\u001b[0m\u001b[0;34m\u001b[0m\u001b[0m\n\u001b[0m\u001b[1;32m    510\u001b[0m \u001b[0;34m\u001b[0m\u001b[0m\n\u001b[1;32m    511\u001b[0m \u001b[0;34m\u001b[0m\u001b[0m\n",
      "\u001b[0;32m~/anaconda3/lib/python3.7/site-packages/alto/__init__.py\u001b[0m in \u001b[0;36mparse_file\u001b[0;34m(filename)\u001b[0m\n\u001b[1;32m    432\u001b[0m         \"\"\"\n\u001b[1;32m    433\u001b[0m         \u001b[0mtree\u001b[0m \u001b[0;34m=\u001b[0m \u001b[0mElementTree\u001b[0m\u001b[0;34m.\u001b[0m\u001b[0mparse\u001b[0m\u001b[0;34m(\u001b[0m\u001b[0mfilename\u001b[0m\u001b[0;34m)\u001b[0m\u001b[0;34m\u001b[0m\u001b[0;34m\u001b[0m\u001b[0m\n\u001b[0;32m--> 434\u001b[0;31m         \u001b[0;32mreturn\u001b[0m \u001b[0mAlto\u001b[0m\u001b[0;34m.\u001b[0m\u001b[0mfrom_xml\u001b[0m\u001b[0;34m(\u001b[0m\u001b[0mtree\u001b[0m\u001b[0;34m.\u001b[0m\u001b[0mgetroot\u001b[0m\u001b[0;34m(\u001b[0m\u001b[0;34m)\u001b[0m\u001b[0;34m)\u001b[0m\u001b[0;34m\u001b[0m\u001b[0;34m\u001b[0m\u001b[0m\n\u001b[0m\u001b[1;32m    435\u001b[0m \u001b[0;34m\u001b[0m\u001b[0m\n\u001b[1;32m    436\u001b[0m     \u001b[0;34m@\u001b[0m\u001b[0mstaticmethod\u001b[0m\u001b[0;34m\u001b[0m\u001b[0;34m\u001b[0m\u001b[0m\n",
      "\u001b[0;32m~/anaconda3/lib/python3.7/site-packages/alto/__init__.py\u001b[0m in \u001b[0;36mfrom_xml\u001b[0;34m(cls, element)\u001b[0m\n\u001b[1;32m    417\u001b[0m         \u001b[0mchildren\u001b[0m \u001b[0;34m=\u001b[0m \u001b[0m_extract_unique_child_name_to_child\u001b[0m\u001b[0;34m(\u001b[0m\u001b[0melement\u001b[0m\u001b[0;34m)\u001b[0m\u001b[0;34m\u001b[0m\u001b[0;34m\u001b[0m\u001b[0m\n\u001b[1;32m    418\u001b[0m         return cls(\n\u001b[0;32m--> 419\u001b[0;31m             \u001b[0mdescription\u001b[0m\u001b[0;34m=\u001b[0m\u001b[0mDescription\u001b[0m\u001b[0;34m.\u001b[0m\u001b[0mfrom_xml\u001b[0m\u001b[0;34m(\u001b[0m\u001b[0m_get_tag\u001b[0m\u001b[0;34m(\u001b[0m\u001b[0melement\u001b[0m\u001b[0;34m.\u001b[0m\u001b[0mtag\u001b[0m\u001b[0;34m,\u001b[0m \u001b[0mchildren\u001b[0m\u001b[0;34m,\u001b[0m \u001b[0m_Tags\u001b[0m\u001b[0;34m.\u001b[0m\u001b[0mDESCRIPTION\u001b[0m\u001b[0;34m)\u001b[0m\u001b[0;34m)\u001b[0m\u001b[0;34m,\u001b[0m\u001b[0;34m\u001b[0m\u001b[0;34m\u001b[0m\u001b[0m\n\u001b[0m\u001b[1;32m    420\u001b[0m             \u001b[0mlayout\u001b[0m\u001b[0;34m=\u001b[0m\u001b[0mLayout\u001b[0m\u001b[0;34m.\u001b[0m\u001b[0mfrom_xml\u001b[0m\u001b[0;34m(\u001b[0m\u001b[0m_get_tag\u001b[0m\u001b[0;34m(\u001b[0m\u001b[0melement\u001b[0m\u001b[0;34m.\u001b[0m\u001b[0mtag\u001b[0m\u001b[0;34m,\u001b[0m \u001b[0mchildren\u001b[0m\u001b[0;34m,\u001b[0m \u001b[0m_Tags\u001b[0m\u001b[0;34m.\u001b[0m\u001b[0mLAYOUT\u001b[0m\u001b[0;34m)\u001b[0m\u001b[0;34m)\u001b[0m\u001b[0;34m,\u001b[0m\u001b[0;34m\u001b[0m\u001b[0;34m\u001b[0m\u001b[0m\n\u001b[1;32m    421\u001b[0m         )\n",
      "\u001b[0;32m~/anaconda3/lib/python3.7/site-packages/alto/__init__.py\u001b[0m in \u001b[0;36m_get_tag\u001b[0;34m(element_tag_name, children, tag_name)\u001b[0m\n\u001b[1;32m     80\u001b[0m     \u001b[0;32mif\u001b[0m \u001b[0mtag_name\u001b[0m \u001b[0;32mnot\u001b[0m \u001b[0;32min\u001b[0m \u001b[0mchildren\u001b[0m\u001b[0;34m:\u001b[0m\u001b[0;34m\u001b[0m\u001b[0;34m\u001b[0m\u001b[0m\n\u001b[1;32m     81\u001b[0m         raise ValueError(\n\u001b[0;32m---> 82\u001b[0;31m             \u001b[0;34mf\"Error when parsing XML: expecting tag {element_tag_name} to have child {tag_name}. \"\u001b[0m\u001b[0;34m\u001b[0m\u001b[0;34m\u001b[0m\u001b[0m\n\u001b[0m\u001b[1;32m     83\u001b[0m             \u001b[0;34mf\"Available children: {list(children.keys())[:_MAX_PRINT_CHILDREN]}\"\u001b[0m\u001b[0;34m\u001b[0m\u001b[0;34m\u001b[0m\u001b[0m\n\u001b[1;32m     84\u001b[0m         )\n",
      "\u001b[0;31mValueError\u001b[0m: Error when parsing XML: expecting tag {http://www.loc.gov/standards/alto/ns-v4#}alto to have child {http://www.loc.gov/standards/alto/ns-v3#}Description. Available children: ['{http://www.loc.gov/standards/alto/ns-v4#}Description', '{http://www.loc.gov/standards/alto/ns-v4#}Tags', '{http://www.loc.gov/standards/alto/ns-v4#}Layout']"
     ]
    }
   ],
   "source": [
    "from alto import parse_file\n",
    "\n",
    "alto = parse_file('AC Bagnes R46 0072.xml')\n",
    "print(alto.extract_words())"
   ]
  },
  {
   "cell_type": "code",
   "execution_count": 3,
   "metadata": {},
   "outputs": [
    {
     "name": "stdout",
     "output_type": "stream",
     "text": [
      "<Element '{http://www.loc.gov/standards/alto/ns-v4#}alto' at 0x7f7cb0175778>\n"
     ]
    }
   ],
   "source": [
    "import xml.etree.ElementTree as ET\n",
    "mytree = ET.parse(f)\n",
    "myroot = mytree.getroot()\n",
    "print(myroot)"
   ]
  },
  {
   "cell_type": "code",
   "execution_count": 4,
   "metadata": {},
   "outputs": [
    {
     "name": "stdout",
     "output_type": "stream",
     "text": [
      "<Element '{http://www.loc.gov/standards/alto/ns-v4#}alto' at 0x7f7cb0175958>\n"
     ]
    }
   ],
   "source": [
    "mytree = ET.parse('AC Bagnes R46 0072.xml')\n",
    "myroot = mytree.getroot()\n",
    "print(myroot)"
   ]
  },
  {
   "cell_type": "code",
   "execution_count": 5,
   "metadata": {},
   "outputs": [
    {
     "name": "stdout",
     "output_type": "stream",
     "text": [
      "{http://www.loc.gov/standards/alto/ns-v4#}alto\n"
     ]
    }
   ],
   "source": [
    "print(myroot.tag)"
   ]
  },
  {
   "cell_type": "code",
   "execution_count": 6,
   "metadata": {},
   "outputs": [
    {
     "name": "stdout",
     "output_type": "stream",
     "text": [
      "{'{http://www.w3.org/2001/XMLSchema-instance}schemaLocation': 'http://www.loc.gov/standards/alto/ns-v4# http://www.loc.gov/standards/alto/v4/alto-4-2.xsd'}\n"
     ]
    }
   ],
   "source": [
    "print(myroot.attrib)"
   ]
  },
  {
   "cell_type": "code",
   "execution_count": 7,
   "metadata": {},
   "outputs": [
    {
     "name": "stdout",
     "output_type": "stream",
     "text": [
      "{http://www.loc.gov/standards/alto/ns-v4#}MeasurementUnit {}\n",
      "{http://www.loc.gov/standards/alto/ns-v4#}sourceImageInformation {}\n"
     ]
    }
   ],
   "source": [
    "for x in myroot[0]:\n",
    "     print(x.tag, x.attrib)"
   ]
  },
  {
   "cell_type": "code",
   "execution_count": 8,
   "metadata": {},
   "outputs": [
    {
     "name": "stdout",
     "output_type": "stream",
     "text": [
      "{http://www.loc.gov/standards/alto/ns-v4#}Description {}\n",
      "{http://www.loc.gov/standards/alto/ns-v4#}Tags {}\n",
      "{http://www.loc.gov/standards/alto/ns-v4#}Layout {}\n"
     ]
    }
   ],
   "source": [
    "for x in myroot:\n",
    "     print(x.tag, x.attrib)"
   ]
  },
  {
   "cell_type": "code",
   "execution_count": 9,
   "metadata": {},
   "outputs": [
    {
     "name": "stdout",
     "output_type": "stream",
     "text": [
      "{http://www.loc.gov/standards/alto/ns-v4#}OtherTag {'ID': 'BT1', 'LABEL': 'Title', 'DESCRIPTION': 'block type Title'}\n",
      "{http://www.loc.gov/standards/alto/ns-v4#}OtherTag {'ID': 'BT406', 'LABEL': 'Pagination', 'DESCRIPTION': 'block type Pagination'}\n",
      "{http://www.loc.gov/standards/alto/ns-v4#}OtherTag {'ID': 'BT407', 'LABEL': 'Header', 'DESCRIPTION': 'block type Header'}\n",
      "{http://www.loc.gov/standards/alto/ns-v4#}OtherTag {'ID': 'BT408', 'LABEL': 'Contribuable', 'DESCRIPTION': 'block type Contribuable'}\n",
      "{http://www.loc.gov/standards/alto/ns-v4#}OtherTag {'ID': 'BT422', 'LABEL': 'CustomZone:entry#1', 'DESCRIPTION': 'block type CustomZone:entry#1'}\n",
      "{http://www.loc.gov/standards/alto/ns-v4#}OtherTag {'ID': 'BT423', 'LABEL': 'CustomZone:entry#2', 'DESCRIPTION': 'block type CustomZone:entry#2'}\n",
      "{http://www.loc.gov/standards/alto/ns-v4#}OtherTag {'ID': 'LT140', 'LABEL': 'CustomLine:confins', 'DESCRIPTION': 'line type CustomLine:confins'}\n",
      "{http://www.loc.gov/standards/alto/ns-v4#}OtherTag {'ID': 'LT141', 'LABEL': 'CustomLine:date', 'DESCRIPTION': 'line type CustomLine:date'}\n",
      "{http://www.loc.gov/standards/alto/ns-v4#}OtherTag {'ID': 'LT142', 'LABEL': 'CustomLine:francs', 'DESCRIPTION': 'line type CustomLine:francs'}\n",
      "{http://www.loc.gov/standards/alto/ns-v4#}OtherTag {'ID': 'LT143', 'LABEL': 'CustomLine:info', 'DESCRIPTION': 'line type CustomLine:info'}\n",
      "{http://www.loc.gov/standards/alto/ns-v4#}OtherTag {'ID': 'LT144', 'LABEL': 'CustomLine:mutations', 'DESCRIPTION': 'line type CustomLine:mutations'}\n",
      "{http://www.loc.gov/standards/alto/ns-v4#}OtherTag {'ID': 'LT145', 'LABEL': 'DefaultLine', 'DESCRIPTION': 'line type DefaultLine'}\n",
      "{http://www.loc.gov/standards/alto/ns-v4#}OtherTag {'ID': 'LT146', 'LABEL': 'HeadingLine:title', 'DESCRIPTION': 'line type HeadingLine:title'}\n"
     ]
    }
   ],
   "source": [
    "for x in myroot[1]:\n",
    "     print(x.tag, x.attrib)"
   ]
  },
  {
   "cell_type": "markdown",
   "metadata": {},
   "source": [
    "We are getting there. This is the content of <Tags> we need to retrieve the IDs of the tags with the LABEL: 'CustomLine:confins', 'CustomLine:francs', 'CustomLine:mutations'. Because the IDs aren't the same from registre to registre."
   ]
  },
  {
   "cell_type": "code",
   "execution_count": 10,
   "metadata": {},
   "outputs": [
    {
     "name": "stdout",
     "output_type": "stream",
     "text": [
      "{'ID': 'BT1', 'LABEL': 'Title', 'DESCRIPTION': 'block type Title'}\n",
      "{'ID': 'BT406', 'LABEL': 'Pagination', 'DESCRIPTION': 'block type Pagination'}\n",
      "{'ID': 'BT407', 'LABEL': 'Header', 'DESCRIPTION': 'block type Header'}\n",
      "{'ID': 'BT408', 'LABEL': 'Contribuable', 'DESCRIPTION': 'block type Contribuable'}\n",
      "{'ID': 'BT422', 'LABEL': 'CustomZone:entry#1', 'DESCRIPTION': 'block type CustomZone:entry#1'}\n",
      "{'ID': 'BT423', 'LABEL': 'CustomZone:entry#2', 'DESCRIPTION': 'block type CustomZone:entry#2'}\n",
      "{'ID': 'LT140', 'LABEL': 'CustomLine:confins', 'DESCRIPTION': 'line type CustomLine:confins'}\n",
      "{'ID': 'LT141', 'LABEL': 'CustomLine:date', 'DESCRIPTION': 'line type CustomLine:date'}\n",
      "{'ID': 'LT142', 'LABEL': 'CustomLine:francs', 'DESCRIPTION': 'line type CustomLine:francs'}\n",
      "{'ID': 'LT143', 'LABEL': 'CustomLine:info', 'DESCRIPTION': 'line type CustomLine:info'}\n",
      "{'ID': 'LT144', 'LABEL': 'CustomLine:mutations', 'DESCRIPTION': 'line type CustomLine:mutations'}\n",
      "{'ID': 'LT145', 'LABEL': 'DefaultLine', 'DESCRIPTION': 'line type DefaultLine'}\n",
      "{'ID': 'LT146', 'LABEL': 'HeadingLine:title', 'DESCRIPTION': 'line type HeadingLine:title'}\n"
     ]
    }
   ],
   "source": [
    "for x in myroot[1]:\n",
    "     print(x.attrib)"
   ]
  },
  {
   "cell_type": "code",
   "execution_count": 11,
   "metadata": {},
   "outputs": [
    {
     "data": {
      "text/plain": [
       "{'ID': 'LT140',\n",
       " 'LABEL': 'CustomLine:confins',\n",
       " 'DESCRIPTION': 'line type CustomLine:confins'}"
      ]
     },
     "execution_count": 11,
     "metadata": {},
     "output_type": "execute_result"
    }
   ],
   "source": [
    "#we can get to a specific element like this\n",
    "myroot[1][6].attrib\n",
    " "
   ]
  },
  {
   "cell_type": "code",
   "execution_count": 12,
   "metadata": {},
   "outputs": [
    {
     "name": "stdout",
     "output_type": "stream",
     "text": [
      "None\n"
     ]
    }
   ],
   "source": [
    "xoxo = mytree.find('Description')\n",
    "\n",
    "print(xoxo)"
   ]
  },
  {
   "cell_type": "markdown",
   "metadata": {},
   "source": [
    "And then to get to a specific value within it:"
   ]
  },
  {
   "cell_type": "code",
   "execution_count": 13,
   "metadata": {},
   "outputs": [
    {
     "data": {
      "text/plain": [
       "'CustomLine:confins'"
      ]
     },
     "execution_count": 13,
     "metadata": {},
     "output_type": "execute_result"
    }
   ],
   "source": [
    "myroot[1][6].attrib['LABEL']"
   ]
  },
  {
   "cell_type": "code",
   "execution_count": 14,
   "metadata": {},
   "outputs": [
    {
     "data": {
      "text/plain": [
       "'LT140'"
      ]
     },
     "execution_count": 14,
     "metadata": {},
     "output_type": "execute_result"
    }
   ],
   "source": [
    "myroot[1][6].attrib['ID']"
   ]
  },
  {
   "cell_type": "code",
   "execution_count": 15,
   "metadata": {},
   "outputs": [
    {
     "name": "stdout",
     "output_type": "stream",
     "text": [
      "Title\n",
      "Pagination\n",
      "Header\n",
      "Contribuable\n",
      "CustomZone:entry#1\n",
      "CustomZone:entry#2\n",
      "CustomLine:confins\n",
      "CustomLine:date\n",
      "CustomLine:francs\n",
      "CustomLine:info\n",
      "CustomLine:mutations\n",
      "DefaultLine\n",
      "HeadingLine:title\n"
     ]
    }
   ],
   "source": [
    "for x in myroot[1]:\n",
    "    print(x.attrib['LABEL'])"
   ]
  },
  {
   "cell_type": "code",
   "execution_count": 16,
   "metadata": {},
   "outputs": [
    {
     "name": "stdout",
     "output_type": "stream",
     "text": [
      "{'ID': 'LT140', 'LABEL': 'CustomLine:confins', 'DESCRIPTION': 'line type CustomLine:confins'}\n"
     ]
    }
   ],
   "source": [
    "for x in myroot[1]:\n",
    "    if x.attrib['LABEL'] == 'CustomLine:confins':\n",
    "        print(x.attrib)"
   ]
  },
  {
   "cell_type": "code",
   "execution_count": 17,
   "metadata": {},
   "outputs": [
    {
     "data": {
      "text/plain": [
       "'LT140'"
      ]
     },
     "execution_count": 17,
     "metadata": {},
     "output_type": "execute_result"
    }
   ],
   "source": [
    "for x in myroot[1]:\n",
    "    if x.attrib['LABEL'] == 'CustomLine:confins':\n",
    "        id_confins = x.attrib['ID']\n",
    "        \n",
    "id_confins"
   ]
  },
  {
   "cell_type": "markdown",
   "metadata": {},
   "source": [
    "We managed to retrieve one of the value that interests us, now let's get them all."
   ]
  },
  {
   "cell_type": "code",
   "execution_count": 18,
   "metadata": {},
   "outputs": [
    {
     "name": "stdout",
     "output_type": "stream",
     "text": [
      "Confins: LT140 , francs: LT142 ,  mutations: LT144\n"
     ]
    }
   ],
   "source": [
    "for x in myroot[1]:\n",
    "    if x.attrib['LABEL'] == 'CustomLine:confins':\n",
    "        id_confins = x.attrib['ID']\n",
    "    elif x.attrib['LABEL'] == 'CustomLine:francs':\n",
    "        id_francs = x.attrib['ID']\n",
    "    elif x.attrib['LABEL'] == 'CustomLine:mutations':\n",
    "        id_mutations = x.attrib['ID']\n",
    "        \n",
    "print('Confins:',id_confins,', ' 'francs:', id_francs,', ','mutations:', id_mutations)"
   ]
  },
  {
   "cell_type": "code",
   "execution_count": 19,
   "metadata": {},
   "outputs": [
    {
     "name": "stdout",
     "output_type": "stream",
     "text": [
      "{}\n",
      "{'ID': 'eSc_line_4d4c4eef', 'TAGREFS': 'LT142', 'BASELINE': '3207 1639 3314 1623', 'HPOS': '3191', 'VPOS': '1595', 'WIDTH': '131', 'HEIGHT': '66'}\n",
      "{'ID': 'eSc_line_951b83e7', 'TAGREFS': 'LT140', 'BASELINE': '1860 1839 1974 1837', 'HPOS': '1859', 'VPOS': '1788', 'WIDTH': '124', 'HEIGHT': '99'}\n"
     ]
    }
   ],
   "source": [
    "for x in myroot[2][0][0][0]:\n",
    "     print(x.attrib)"
   ]
  },
  {
   "cell_type": "markdown",
   "metadata": {},
   "source": [
    "we need to remove the textline where the TAGREFS matches the extracted tags like this TAGREFS=\"LT142\""
   ]
  },
  {
   "cell_type": "code",
   "execution_count": 20,
   "metadata": {
    "scrolled": true
   },
   "outputs": [
    {
     "name": "stdout",
     "output_type": "stream",
     "text": [
      "{'HPOS': '337', 'VPOS': '1384', 'WIDTH': '3899', 'HEIGHT': '484', 'ID': 'eSc_textblock_c04ef194', 'TAGREFS': 'BT422'}\n",
      "{'HPOS': '347', 'VPOS': '2805', 'WIDTH': '3869', 'HEIGHT': '403', 'ID': 'eSc_textblock_2cb9c300', 'TAGREFS': 'BT423'}\n",
      "{'HPOS': '326', 'VPOS': '4518', 'WIDTH': '3900', 'HEIGHT': '464', 'ID': 'eSc_textblock_bcb79c74', 'TAGREFS': 'BT423'}\n",
      "{'HPOS': '347', 'VPOS': '1888', 'WIDTH': '3899', 'HEIGHT': '413', 'ID': 'eSc_textblock_0d34253a', 'TAGREFS': 'BT423'}\n",
      "{'HPOS': '337', 'VPOS': '2321', 'WIDTH': '3899', 'HEIGHT': '464', 'ID': 'eSc_textblock_25e940bc', 'TAGREFS': 'BT422'}\n",
      "{'HPOS': '347', 'VPOS': '3228', 'WIDTH': '3869', 'HEIGHT': '434', 'ID': 'eSc_textblock_f2051c54', 'TAGREFS': 'BT422'}\n",
      "{'HPOS': '357', 'VPOS': '3692', 'WIDTH': '3839', 'HEIGHT': '393', 'ID': 'eSc_textblock_74971060', 'TAGREFS': 'BT423'}\n",
      "{'HPOS': '337', 'VPOS': '4115', 'WIDTH': '3859', 'HEIGHT': '403', 'ID': 'eSc_textblock_e780a44b', 'TAGREFS': 'BT422'}\n",
      "{'HPOS': '337', 'VPOS': '5002', 'WIDTH': '3929', 'HEIGHT': '433', 'ID': 'eSc_textblock_5990b359', 'TAGREFS': 'BT422'}\n",
      "{'HPOS': '347', 'VPOS': '5465', 'WIDTH': '3919', 'HEIGHT': '393', 'ID': 'eSc_textblock_b5a69581', 'TAGREFS': 'BT423'}\n",
      "{'HPOS': '296', 'VPOS': '518', 'WIDTH': '3859', 'HEIGHT': '383', 'ID': 'eSc_textblock_b2b48b33', 'TAGREFS': 'BT408'}\n",
      "{'HPOS': '367', 'VPOS': '5909', 'WIDTH': '3929', 'HEIGHT': '463', 'ID': 'eSc_textblock_6ab085e7', 'TAGREFS': 'BT422'}\n",
      "{'HPOS': '296', 'VPOS': '911', 'WIDTH': '3890', 'HEIGHT': '423', 'ID': 'eSc_textblock_15f345db', 'TAGREFS': 'BT407'}\n",
      "{'HPOS': '246', 'VPOS': '326', 'WIDTH': '604', 'HEIGHT': '232', 'ID': 'eSc_textblock_0a592b8e', 'TAGREFS': 'BT406'}\n",
      "{'ID': 'eSc_dummyblock_'}\n"
     ]
    }
   ],
   "source": [
    "for x in myroot[2][0][0]:\n",
    "     print(x.attrib)"
   ]
  },
  {
   "cell_type": "markdown",
   "metadata": {},
   "source": [
    "Until now, I have been travelling through the element in the xml tree with the position in the root. As we can see in the cell above, this starts to get a little clunky. There are also other way to parse the xml tree. I wanted to use the method findall but I forgot how to use it. If we want to find the OtherTag:"
   ]
  },
  {
   "cell_type": "code",
   "execution_count": 21,
   "metadata": {},
   "outputs": [
    {
     "data": {
      "text/plain": [
       "[]"
      ]
     },
     "execution_count": 21,
     "metadata": {},
     "output_type": "execute_result"
    }
   ],
   "source": [
    "myroot.findall('OtherTag')"
   ]
  },
  {
   "cell_type": "markdown",
   "metadata": {},
   "source": [
    "No result. I forgot that we first need to navigate through the different level in the tree with /"
   ]
  },
  {
   "cell_type": "code",
   "execution_count": 22,
   "metadata": {},
   "outputs": [
    {
     "data": {
      "text/plain": [
       "[]"
      ]
     },
     "execution_count": 22,
     "metadata": {},
     "output_type": "execute_result"
    }
   ],
   "source": [
    "myroot.findall('.//OtherTag')"
   ]
  },
  {
   "cell_type": "markdown",
   "metadata": {},
   "source": [
    "There is still nothing. This time we miss the namespace as explained here : https://docs.python.org/3/library/xml.etree.elementtree.html#parsing-xml-with-namespaces\n",
    "\n",
    "Here is a great tutorial on XML: https://www.datacamp.com/tutorial/python-xml-elementtree\n",
    "We can also see the name space while we check all the tag in the document:"
   ]
  },
  {
   "cell_type": "code",
   "execution_count": 23,
   "metadata": {
    "scrolled": true
   },
   "outputs": [
    {
     "data": {
      "text/plain": [
       "['{http://www.loc.gov/standards/alto/ns-v4#}alto',\n",
       " '{http://www.loc.gov/standards/alto/ns-v4#}Description',\n",
       " '{http://www.loc.gov/standards/alto/ns-v4#}MeasurementUnit',\n",
       " '{http://www.loc.gov/standards/alto/ns-v4#}sourceImageInformation',\n",
       " '{http://www.loc.gov/standards/alto/ns-v4#}fileName',\n",
       " '{http://www.loc.gov/standards/alto/ns-v4#}Tags',\n",
       " '{http://www.loc.gov/standards/alto/ns-v4#}OtherTag',\n",
       " '{http://www.loc.gov/standards/alto/ns-v4#}OtherTag',\n",
       " '{http://www.loc.gov/standards/alto/ns-v4#}OtherTag',\n",
       " '{http://www.loc.gov/standards/alto/ns-v4#}OtherTag',\n",
       " '{http://www.loc.gov/standards/alto/ns-v4#}OtherTag',\n",
       " '{http://www.loc.gov/standards/alto/ns-v4#}OtherTag',\n",
       " '{http://www.loc.gov/standards/alto/ns-v4#}OtherTag',\n",
       " '{http://www.loc.gov/standards/alto/ns-v4#}OtherTag',\n",
       " '{http://www.loc.gov/standards/alto/ns-v4#}OtherTag',\n",
       " '{http://www.loc.gov/standards/alto/ns-v4#}OtherTag',\n",
       " '{http://www.loc.gov/standards/alto/ns-v4#}OtherTag',\n",
       " '{http://www.loc.gov/standards/alto/ns-v4#}OtherTag',\n",
       " '{http://www.loc.gov/standards/alto/ns-v4#}OtherTag',\n",
       " '{http://www.loc.gov/standards/alto/ns-v4#}Layout',\n",
       " '{http://www.loc.gov/standards/alto/ns-v4#}Page',\n",
       " '{http://www.loc.gov/standards/alto/ns-v4#}PrintSpace',\n",
       " '{http://www.loc.gov/standards/alto/ns-v4#}TextBlock',\n",
       " '{http://www.loc.gov/standards/alto/ns-v4#}Shape',\n",
       " '{http://www.loc.gov/standards/alto/ns-v4#}Polygon',\n",
       " '{http://www.loc.gov/standards/alto/ns-v4#}TextLine',\n",
       " '{http://www.loc.gov/standards/alto/ns-v4#}Shape',\n",
       " '{http://www.loc.gov/standards/alto/ns-v4#}Polygon',\n",
       " '{http://www.loc.gov/standards/alto/ns-v4#}String',\n",
       " '{http://www.loc.gov/standards/alto/ns-v4#}TextLine',\n",
       " '{http://www.loc.gov/standards/alto/ns-v4#}Shape',\n",
       " '{http://www.loc.gov/standards/alto/ns-v4#}Polygon',\n",
       " '{http://www.loc.gov/standards/alto/ns-v4#}String',\n",
       " '{http://www.loc.gov/standards/alto/ns-v4#}TextBlock',\n",
       " '{http://www.loc.gov/standards/alto/ns-v4#}Shape',\n",
       " '{http://www.loc.gov/standards/alto/ns-v4#}Polygon',\n",
       " '{http://www.loc.gov/standards/alto/ns-v4#}TextLine',\n",
       " '{http://www.loc.gov/standards/alto/ns-v4#}Shape',\n",
       " '{http://www.loc.gov/standards/alto/ns-v4#}Polygon',\n",
       " '{http://www.loc.gov/standards/alto/ns-v4#}String',\n",
       " '{http://www.loc.gov/standards/alto/ns-v4#}TextBlock',\n",
       " '{http://www.loc.gov/standards/alto/ns-v4#}Shape',\n",
       " '{http://www.loc.gov/standards/alto/ns-v4#}Polygon',\n",
       " '{http://www.loc.gov/standards/alto/ns-v4#}TextLine',\n",
       " '{http://www.loc.gov/standards/alto/ns-v4#}Shape',\n",
       " '{http://www.loc.gov/standards/alto/ns-v4#}Polygon',\n",
       " '{http://www.loc.gov/standards/alto/ns-v4#}String',\n",
       " '{http://www.loc.gov/standards/alto/ns-v4#}TextBlock',\n",
       " '{http://www.loc.gov/standards/alto/ns-v4#}Shape',\n",
       " '{http://www.loc.gov/standards/alto/ns-v4#}Polygon',\n",
       " '{http://www.loc.gov/standards/alto/ns-v4#}TextBlock',\n",
       " '{http://www.loc.gov/standards/alto/ns-v4#}Shape',\n",
       " '{http://www.loc.gov/standards/alto/ns-v4#}Polygon',\n",
       " '{http://www.loc.gov/standards/alto/ns-v4#}TextBlock',\n",
       " '{http://www.loc.gov/standards/alto/ns-v4#}Shape',\n",
       " '{http://www.loc.gov/standards/alto/ns-v4#}Polygon',\n",
       " '{http://www.loc.gov/standards/alto/ns-v4#}TextBlock',\n",
       " '{http://www.loc.gov/standards/alto/ns-v4#}Shape',\n",
       " '{http://www.loc.gov/standards/alto/ns-v4#}Polygon',\n",
       " '{http://www.loc.gov/standards/alto/ns-v4#}TextBlock',\n",
       " '{http://www.loc.gov/standards/alto/ns-v4#}Shape',\n",
       " '{http://www.loc.gov/standards/alto/ns-v4#}Polygon',\n",
       " '{http://www.loc.gov/standards/alto/ns-v4#}TextBlock',\n",
       " '{http://www.loc.gov/standards/alto/ns-v4#}Shape',\n",
       " '{http://www.loc.gov/standards/alto/ns-v4#}Polygon',\n",
       " '{http://www.loc.gov/standards/alto/ns-v4#}TextBlock',\n",
       " '{http://www.loc.gov/standards/alto/ns-v4#}Shape',\n",
       " '{http://www.loc.gov/standards/alto/ns-v4#}Polygon',\n",
       " '{http://www.loc.gov/standards/alto/ns-v4#}TextBlock',\n",
       " '{http://www.loc.gov/standards/alto/ns-v4#}Shape',\n",
       " '{http://www.loc.gov/standards/alto/ns-v4#}Polygon',\n",
       " '{http://www.loc.gov/standards/alto/ns-v4#}TextBlock',\n",
       " '{http://www.loc.gov/standards/alto/ns-v4#}Shape',\n",
       " '{http://www.loc.gov/standards/alto/ns-v4#}Polygon',\n",
       " '{http://www.loc.gov/standards/alto/ns-v4#}TextBlock',\n",
       " '{http://www.loc.gov/standards/alto/ns-v4#}Shape',\n",
       " '{http://www.loc.gov/standards/alto/ns-v4#}Polygon',\n",
       " '{http://www.loc.gov/standards/alto/ns-v4#}TextBlock',\n",
       " '{http://www.loc.gov/standards/alto/ns-v4#}Shape',\n",
       " '{http://www.loc.gov/standards/alto/ns-v4#}Polygon',\n",
       " '{http://www.loc.gov/standards/alto/ns-v4#}TextBlock',\n",
       " '{http://www.loc.gov/standards/alto/ns-v4#}TextLine',\n",
       " '{http://www.loc.gov/standards/alto/ns-v4#}Shape',\n",
       " '{http://www.loc.gov/standards/alto/ns-v4#}Polygon',\n",
       " '{http://www.loc.gov/standards/alto/ns-v4#}String',\n",
       " '{http://www.loc.gov/standards/alto/ns-v4#}TextLine',\n",
       " '{http://www.loc.gov/standards/alto/ns-v4#}Shape',\n",
       " '{http://www.loc.gov/standards/alto/ns-v4#}Polygon',\n",
       " '{http://www.loc.gov/standards/alto/ns-v4#}String',\n",
       " '{http://www.loc.gov/standards/alto/ns-v4#}TextLine',\n",
       " '{http://www.loc.gov/standards/alto/ns-v4#}Shape',\n",
       " '{http://www.loc.gov/standards/alto/ns-v4#}Polygon',\n",
       " '{http://www.loc.gov/standards/alto/ns-v4#}String',\n",
       " '{http://www.loc.gov/standards/alto/ns-v4#}TextLine',\n",
       " '{http://www.loc.gov/standards/alto/ns-v4#}Shape',\n",
       " '{http://www.loc.gov/standards/alto/ns-v4#}Polygon',\n",
       " '{http://www.loc.gov/standards/alto/ns-v4#}String',\n",
       " '{http://www.loc.gov/standards/alto/ns-v4#}TextLine',\n",
       " '{http://www.loc.gov/standards/alto/ns-v4#}Shape',\n",
       " '{http://www.loc.gov/standards/alto/ns-v4#}Polygon',\n",
       " '{http://www.loc.gov/standards/alto/ns-v4#}String',\n",
       " '{http://www.loc.gov/standards/alto/ns-v4#}TextLine',\n",
       " '{http://www.loc.gov/standards/alto/ns-v4#}Shape',\n",
       " '{http://www.loc.gov/standards/alto/ns-v4#}Polygon',\n",
       " '{http://www.loc.gov/standards/alto/ns-v4#}String',\n",
       " '{http://www.loc.gov/standards/alto/ns-v4#}TextLine',\n",
       " '{http://www.loc.gov/standards/alto/ns-v4#}Shape',\n",
       " '{http://www.loc.gov/standards/alto/ns-v4#}Polygon',\n",
       " '{http://www.loc.gov/standards/alto/ns-v4#}String',\n",
       " '{http://www.loc.gov/standards/alto/ns-v4#}TextLine',\n",
       " '{http://www.loc.gov/standards/alto/ns-v4#}Shape',\n",
       " '{http://www.loc.gov/standards/alto/ns-v4#}Polygon',\n",
       " '{http://www.loc.gov/standards/alto/ns-v4#}String',\n",
       " '{http://www.loc.gov/standards/alto/ns-v4#}TextLine',\n",
       " '{http://www.loc.gov/standards/alto/ns-v4#}Shape',\n",
       " '{http://www.loc.gov/standards/alto/ns-v4#}Polygon',\n",
       " '{http://www.loc.gov/standards/alto/ns-v4#}String',\n",
       " '{http://www.loc.gov/standards/alto/ns-v4#}TextLine',\n",
       " '{http://www.loc.gov/standards/alto/ns-v4#}Shape',\n",
       " '{http://www.loc.gov/standards/alto/ns-v4#}Polygon',\n",
       " '{http://www.loc.gov/standards/alto/ns-v4#}String',\n",
       " '{http://www.loc.gov/standards/alto/ns-v4#}TextLine',\n",
       " '{http://www.loc.gov/standards/alto/ns-v4#}Shape',\n",
       " '{http://www.loc.gov/standards/alto/ns-v4#}Polygon',\n",
       " '{http://www.loc.gov/standards/alto/ns-v4#}String',\n",
       " '{http://www.loc.gov/standards/alto/ns-v4#}TextLine',\n",
       " '{http://www.loc.gov/standards/alto/ns-v4#}Shape',\n",
       " '{http://www.loc.gov/standards/alto/ns-v4#}Polygon',\n",
       " '{http://www.loc.gov/standards/alto/ns-v4#}String',\n",
       " '{http://www.loc.gov/standards/alto/ns-v4#}TextLine',\n",
       " '{http://www.loc.gov/standards/alto/ns-v4#}Shape',\n",
       " '{http://www.loc.gov/standards/alto/ns-v4#}Polygon',\n",
       " '{http://www.loc.gov/standards/alto/ns-v4#}String',\n",
       " '{http://www.loc.gov/standards/alto/ns-v4#}TextLine',\n",
       " '{http://www.loc.gov/standards/alto/ns-v4#}Shape',\n",
       " '{http://www.loc.gov/standards/alto/ns-v4#}Polygon',\n",
       " '{http://www.loc.gov/standards/alto/ns-v4#}String',\n",
       " '{http://www.loc.gov/standards/alto/ns-v4#}TextLine',\n",
       " '{http://www.loc.gov/standards/alto/ns-v4#}Shape',\n",
       " '{http://www.loc.gov/standards/alto/ns-v4#}Polygon',\n",
       " '{http://www.loc.gov/standards/alto/ns-v4#}String',\n",
       " '{http://www.loc.gov/standards/alto/ns-v4#}TextLine',\n",
       " '{http://www.loc.gov/standards/alto/ns-v4#}Shape',\n",
       " '{http://www.loc.gov/standards/alto/ns-v4#}Polygon',\n",
       " '{http://www.loc.gov/standards/alto/ns-v4#}String',\n",
       " '{http://www.loc.gov/standards/alto/ns-v4#}TextLine',\n",
       " '{http://www.loc.gov/standards/alto/ns-v4#}Shape',\n",
       " '{http://www.loc.gov/standards/alto/ns-v4#}Polygon',\n",
       " '{http://www.loc.gov/standards/alto/ns-v4#}String',\n",
       " '{http://www.loc.gov/standards/alto/ns-v4#}TextLine',\n",
       " '{http://www.loc.gov/standards/alto/ns-v4#}Shape',\n",
       " '{http://www.loc.gov/standards/alto/ns-v4#}Polygon',\n",
       " '{http://www.loc.gov/standards/alto/ns-v4#}String',\n",
       " '{http://www.loc.gov/standards/alto/ns-v4#}TextLine',\n",
       " '{http://www.loc.gov/standards/alto/ns-v4#}Shape',\n",
       " '{http://www.loc.gov/standards/alto/ns-v4#}Polygon',\n",
       " '{http://www.loc.gov/standards/alto/ns-v4#}String',\n",
       " '{http://www.loc.gov/standards/alto/ns-v4#}TextLine',\n",
       " '{http://www.loc.gov/standards/alto/ns-v4#}Shape',\n",
       " '{http://www.loc.gov/standards/alto/ns-v4#}Polygon',\n",
       " '{http://www.loc.gov/standards/alto/ns-v4#}String',\n",
       " '{http://www.loc.gov/standards/alto/ns-v4#}TextLine',\n",
       " '{http://www.loc.gov/standards/alto/ns-v4#}Shape',\n",
       " '{http://www.loc.gov/standards/alto/ns-v4#}Polygon',\n",
       " '{http://www.loc.gov/standards/alto/ns-v4#}String',\n",
       " '{http://www.loc.gov/standards/alto/ns-v4#}TextLine',\n",
       " '{http://www.loc.gov/standards/alto/ns-v4#}Shape',\n",
       " '{http://www.loc.gov/standards/alto/ns-v4#}Polygon',\n",
       " '{http://www.loc.gov/standards/alto/ns-v4#}String',\n",
       " '{http://www.loc.gov/standards/alto/ns-v4#}TextLine',\n",
       " '{http://www.loc.gov/standards/alto/ns-v4#}Shape',\n",
       " '{http://www.loc.gov/standards/alto/ns-v4#}Polygon',\n",
       " '{http://www.loc.gov/standards/alto/ns-v4#}String',\n",
       " '{http://www.loc.gov/standards/alto/ns-v4#}TextLine',\n",
       " '{http://www.loc.gov/standards/alto/ns-v4#}Shape',\n",
       " '{http://www.loc.gov/standards/alto/ns-v4#}Polygon',\n",
       " '{http://www.loc.gov/standards/alto/ns-v4#}String',\n",
       " '{http://www.loc.gov/standards/alto/ns-v4#}TextLine',\n",
       " '{http://www.loc.gov/standards/alto/ns-v4#}Shape',\n",
       " '{http://www.loc.gov/standards/alto/ns-v4#}Polygon',\n",
       " '{http://www.loc.gov/standards/alto/ns-v4#}String',\n",
       " '{http://www.loc.gov/standards/alto/ns-v4#}TextLine',\n",
       " '{http://www.loc.gov/standards/alto/ns-v4#}Shape',\n",
       " '{http://www.loc.gov/standards/alto/ns-v4#}Polygon',\n",
       " '{http://www.loc.gov/standards/alto/ns-v4#}String',\n",
       " '{http://www.loc.gov/standards/alto/ns-v4#}TextLine',\n",
       " '{http://www.loc.gov/standards/alto/ns-v4#}Shape',\n",
       " '{http://www.loc.gov/standards/alto/ns-v4#}Polygon',\n",
       " '{http://www.loc.gov/standards/alto/ns-v4#}String',\n",
       " '{http://www.loc.gov/standards/alto/ns-v4#}TextLine',\n",
       " '{http://www.loc.gov/standards/alto/ns-v4#}Shape',\n",
       " '{http://www.loc.gov/standards/alto/ns-v4#}Polygon',\n",
       " '{http://www.loc.gov/standards/alto/ns-v4#}String',\n",
       " '{http://www.loc.gov/standards/alto/ns-v4#}TextLine',\n",
       " '{http://www.loc.gov/standards/alto/ns-v4#}Shape',\n",
       " '{http://www.loc.gov/standards/alto/ns-v4#}Polygon',\n",
       " '{http://www.loc.gov/standards/alto/ns-v4#}String',\n",
       " '{http://www.loc.gov/standards/alto/ns-v4#}TextLine',\n",
       " '{http://www.loc.gov/standards/alto/ns-v4#}Shape',\n",
       " '{http://www.loc.gov/standards/alto/ns-v4#}Polygon',\n",
       " '{http://www.loc.gov/standards/alto/ns-v4#}String',\n",
       " '{http://www.loc.gov/standards/alto/ns-v4#}TextLine',\n",
       " '{http://www.loc.gov/standards/alto/ns-v4#}Shape',\n",
       " '{http://www.loc.gov/standards/alto/ns-v4#}Polygon',\n",
       " '{http://www.loc.gov/standards/alto/ns-v4#}String',\n",
       " '{http://www.loc.gov/standards/alto/ns-v4#}TextLine',\n",
       " '{http://www.loc.gov/standards/alto/ns-v4#}Shape',\n",
       " '{http://www.loc.gov/standards/alto/ns-v4#}Polygon',\n",
       " '{http://www.loc.gov/standards/alto/ns-v4#}String',\n",
       " '{http://www.loc.gov/standards/alto/ns-v4#}TextLine',\n",
       " '{http://www.loc.gov/standards/alto/ns-v4#}Shape',\n",
       " '{http://www.loc.gov/standards/alto/ns-v4#}Polygon',\n",
       " '{http://www.loc.gov/standards/alto/ns-v4#}String',\n",
       " '{http://www.loc.gov/standards/alto/ns-v4#}TextLine',\n",
       " '{http://www.loc.gov/standards/alto/ns-v4#}Shape',\n",
       " '{http://www.loc.gov/standards/alto/ns-v4#}Polygon',\n",
       " '{http://www.loc.gov/standards/alto/ns-v4#}String',\n",
       " '{http://www.loc.gov/standards/alto/ns-v4#}TextLine',\n",
       " '{http://www.loc.gov/standards/alto/ns-v4#}Shape',\n",
       " '{http://www.loc.gov/standards/alto/ns-v4#}Polygon',\n",
       " '{http://www.loc.gov/standards/alto/ns-v4#}String',\n",
       " '{http://www.loc.gov/standards/alto/ns-v4#}TextLine',\n",
       " '{http://www.loc.gov/standards/alto/ns-v4#}Shape',\n",
       " '{http://www.loc.gov/standards/alto/ns-v4#}Polygon',\n",
       " '{http://www.loc.gov/standards/alto/ns-v4#}String',\n",
       " '{http://www.loc.gov/standards/alto/ns-v4#}TextLine',\n",
       " '{http://www.loc.gov/standards/alto/ns-v4#}Shape',\n",
       " '{http://www.loc.gov/standards/alto/ns-v4#}Polygon',\n",
       " '{http://www.loc.gov/standards/alto/ns-v4#}String',\n",
       " '{http://www.loc.gov/standards/alto/ns-v4#}TextLine',\n",
       " '{http://www.loc.gov/standards/alto/ns-v4#}Shape',\n",
       " '{http://www.loc.gov/standards/alto/ns-v4#}Polygon',\n",
       " '{http://www.loc.gov/standards/alto/ns-v4#}String',\n",
       " '{http://www.loc.gov/standards/alto/ns-v4#}TextLine',\n",
       " '{http://www.loc.gov/standards/alto/ns-v4#}Shape',\n",
       " '{http://www.loc.gov/standards/alto/ns-v4#}Polygon',\n",
       " '{http://www.loc.gov/standards/alto/ns-v4#}String',\n",
       " '{http://www.loc.gov/standards/alto/ns-v4#}TextLine',\n",
       " '{http://www.loc.gov/standards/alto/ns-v4#}Shape',\n",
       " '{http://www.loc.gov/standards/alto/ns-v4#}Polygon',\n",
       " '{http://www.loc.gov/standards/alto/ns-v4#}String',\n",
       " '{http://www.loc.gov/standards/alto/ns-v4#}TextLine',\n",
       " '{http://www.loc.gov/standards/alto/ns-v4#}Shape',\n",
       " '{http://www.loc.gov/standards/alto/ns-v4#}Polygon',\n",
       " '{http://www.loc.gov/standards/alto/ns-v4#}String',\n",
       " '{http://www.loc.gov/standards/alto/ns-v4#}TextLine',\n",
       " '{http://www.loc.gov/standards/alto/ns-v4#}Shape',\n",
       " '{http://www.loc.gov/standards/alto/ns-v4#}Polygon',\n",
       " '{http://www.loc.gov/standards/alto/ns-v4#}String',\n",
       " '{http://www.loc.gov/standards/alto/ns-v4#}TextLine',\n",
       " '{http://www.loc.gov/standards/alto/ns-v4#}Shape',\n",
       " '{http://www.loc.gov/standards/alto/ns-v4#}Polygon',\n",
       " '{http://www.loc.gov/standards/alto/ns-v4#}String',\n",
       " '{http://www.loc.gov/standards/alto/ns-v4#}TextLine',\n",
       " '{http://www.loc.gov/standards/alto/ns-v4#}Shape',\n",
       " '{http://www.loc.gov/standards/alto/ns-v4#}Polygon',\n",
       " '{http://www.loc.gov/standards/alto/ns-v4#}String',\n",
       " '{http://www.loc.gov/standards/alto/ns-v4#}TextLine',\n",
       " '{http://www.loc.gov/standards/alto/ns-v4#}Shape',\n",
       " '{http://www.loc.gov/standards/alto/ns-v4#}Polygon',\n",
       " '{http://www.loc.gov/standards/alto/ns-v4#}String',\n",
       " '{http://www.loc.gov/standards/alto/ns-v4#}TextLine',\n",
       " '{http://www.loc.gov/standards/alto/ns-v4#}Shape',\n",
       " '{http://www.loc.gov/standards/alto/ns-v4#}Polygon',\n",
       " '{http://www.loc.gov/standards/alto/ns-v4#}String',\n",
       " '{http://www.loc.gov/standards/alto/ns-v4#}TextLine',\n",
       " '{http://www.loc.gov/standards/alto/ns-v4#}Shape',\n",
       " '{http://www.loc.gov/standards/alto/ns-v4#}Polygon',\n",
       " '{http://www.loc.gov/standards/alto/ns-v4#}String',\n",
       " '{http://www.loc.gov/standards/alto/ns-v4#}TextLine',\n",
       " '{http://www.loc.gov/standards/alto/ns-v4#}Shape',\n",
       " '{http://www.loc.gov/standards/alto/ns-v4#}Polygon',\n",
       " '{http://www.loc.gov/standards/alto/ns-v4#}String',\n",
       " '{http://www.loc.gov/standards/alto/ns-v4#}TextLine',\n",
       " '{http://www.loc.gov/standards/alto/ns-v4#}Shape',\n",
       " '{http://www.loc.gov/standards/alto/ns-v4#}Polygon',\n",
       " '{http://www.loc.gov/standards/alto/ns-v4#}String',\n",
       " '{http://www.loc.gov/standards/alto/ns-v4#}TextLine',\n",
       " '{http://www.loc.gov/standards/alto/ns-v4#}Shape',\n",
       " '{http://www.loc.gov/standards/alto/ns-v4#}Polygon',\n",
       " '{http://www.loc.gov/standards/alto/ns-v4#}String',\n",
       " '{http://www.loc.gov/standards/alto/ns-v4#}TextLine',\n",
       " '{http://www.loc.gov/standards/alto/ns-v4#}Shape',\n",
       " '{http://www.loc.gov/standards/alto/ns-v4#}Polygon',\n",
       " '{http://www.loc.gov/standards/alto/ns-v4#}String',\n",
       " '{http://www.loc.gov/standards/alto/ns-v4#}TextLine',\n",
       " '{http://www.loc.gov/standards/alto/ns-v4#}Shape',\n",
       " '{http://www.loc.gov/standards/alto/ns-v4#}Polygon',\n",
       " '{http://www.loc.gov/standards/alto/ns-v4#}String',\n",
       " '{http://www.loc.gov/standards/alto/ns-v4#}TextLine',\n",
       " '{http://www.loc.gov/standards/alto/ns-v4#}Shape',\n",
       " '{http://www.loc.gov/standards/alto/ns-v4#}Polygon',\n",
       " '{http://www.loc.gov/standards/alto/ns-v4#}String',\n",
       " '{http://www.loc.gov/standards/alto/ns-v4#}TextLine',\n",
       " '{http://www.loc.gov/standards/alto/ns-v4#}Shape',\n",
       " '{http://www.loc.gov/standards/alto/ns-v4#}Polygon',\n",
       " '{http://www.loc.gov/standards/alto/ns-v4#}String',\n",
       " '{http://www.loc.gov/standards/alto/ns-v4#}TextLine',\n",
       " '{http://www.loc.gov/standards/alto/ns-v4#}Shape',\n",
       " '{http://www.loc.gov/standards/alto/ns-v4#}Polygon',\n",
       " '{http://www.loc.gov/standards/alto/ns-v4#}String',\n",
       " '{http://www.loc.gov/standards/alto/ns-v4#}TextLine',\n",
       " '{http://www.loc.gov/standards/alto/ns-v4#}Shape',\n",
       " '{http://www.loc.gov/standards/alto/ns-v4#}Polygon',\n",
       " '{http://www.loc.gov/standards/alto/ns-v4#}String',\n",
       " '{http://www.loc.gov/standards/alto/ns-v4#}TextLine',\n",
       " '{http://www.loc.gov/standards/alto/ns-v4#}Shape',\n",
       " '{http://www.loc.gov/standards/alto/ns-v4#}Polygon',\n",
       " '{http://www.loc.gov/standards/alto/ns-v4#}String',\n",
       " '{http://www.loc.gov/standards/alto/ns-v4#}TextLine',\n",
       " '{http://www.loc.gov/standards/alto/ns-v4#}Shape',\n",
       " '{http://www.loc.gov/standards/alto/ns-v4#}Polygon',\n",
       " '{http://www.loc.gov/standards/alto/ns-v4#}String',\n",
       " '{http://www.loc.gov/standards/alto/ns-v4#}TextLine',\n",
       " '{http://www.loc.gov/standards/alto/ns-v4#}Shape',\n",
       " '{http://www.loc.gov/standards/alto/ns-v4#}Polygon',\n",
       " '{http://www.loc.gov/standards/alto/ns-v4#}String',\n",
       " '{http://www.loc.gov/standards/alto/ns-v4#}TextLine',\n",
       " '{http://www.loc.gov/standards/alto/ns-v4#}Shape',\n",
       " '{http://www.loc.gov/standards/alto/ns-v4#}Polygon',\n",
       " '{http://www.loc.gov/standards/alto/ns-v4#}String',\n",
       " '{http://www.loc.gov/standards/alto/ns-v4#}TextLine',\n",
       " '{http://www.loc.gov/standards/alto/ns-v4#}Shape',\n",
       " '{http://www.loc.gov/standards/alto/ns-v4#}Polygon',\n",
       " '{http://www.loc.gov/standards/alto/ns-v4#}String',\n",
       " '{http://www.loc.gov/standards/alto/ns-v4#}TextLine',\n",
       " '{http://www.loc.gov/standards/alto/ns-v4#}Shape',\n",
       " '{http://www.loc.gov/standards/alto/ns-v4#}Polygon',\n",
       " '{http://www.loc.gov/standards/alto/ns-v4#}String',\n",
       " '{http://www.loc.gov/standards/alto/ns-v4#}TextLine',\n",
       " '{http://www.loc.gov/standards/alto/ns-v4#}Shape',\n",
       " '{http://www.loc.gov/standards/alto/ns-v4#}Polygon',\n",
       " '{http://www.loc.gov/standards/alto/ns-v4#}String',\n",
       " '{http://www.loc.gov/standards/alto/ns-v4#}TextLine',\n",
       " '{http://www.loc.gov/standards/alto/ns-v4#}Shape',\n",
       " '{http://www.loc.gov/standards/alto/ns-v4#}Polygon',\n",
       " '{http://www.loc.gov/standards/alto/ns-v4#}String',\n",
       " '{http://www.loc.gov/standards/alto/ns-v4#}TextLine',\n",
       " '{http://www.loc.gov/standards/alto/ns-v4#}Shape',\n",
       " '{http://www.loc.gov/standards/alto/ns-v4#}Polygon',\n",
       " '{http://www.loc.gov/standards/alto/ns-v4#}String',\n",
       " '{http://www.loc.gov/standards/alto/ns-v4#}TextLine',\n",
       " '{http://www.loc.gov/standards/alto/ns-v4#}Shape',\n",
       " '{http://www.loc.gov/standards/alto/ns-v4#}Polygon',\n",
       " '{http://www.loc.gov/standards/alto/ns-v4#}String',\n",
       " '{http://www.loc.gov/standards/alto/ns-v4#}TextLine',\n",
       " '{http://www.loc.gov/standards/alto/ns-v4#}Shape',\n",
       " '{http://www.loc.gov/standards/alto/ns-v4#}Polygon',\n",
       " '{http://www.loc.gov/standards/alto/ns-v4#}String',\n",
       " '{http://www.loc.gov/standards/alto/ns-v4#}TextLine',\n",
       " '{http://www.loc.gov/standards/alto/ns-v4#}Shape',\n",
       " '{http://www.loc.gov/standards/alto/ns-v4#}Polygon',\n",
       " '{http://www.loc.gov/standards/alto/ns-v4#}String',\n",
       " '{http://www.loc.gov/standards/alto/ns-v4#}TextLine',\n",
       " '{http://www.loc.gov/standards/alto/ns-v4#}Shape',\n",
       " '{http://www.loc.gov/standards/alto/ns-v4#}Polygon',\n",
       " '{http://www.loc.gov/standards/alto/ns-v4#}String',\n",
       " '{http://www.loc.gov/standards/alto/ns-v4#}TextLine',\n",
       " '{http://www.loc.gov/standards/alto/ns-v4#}Shape',\n",
       " '{http://www.loc.gov/standards/alto/ns-v4#}Polygon',\n",
       " '{http://www.loc.gov/standards/alto/ns-v4#}String',\n",
       " '{http://www.loc.gov/standards/alto/ns-v4#}TextLine',\n",
       " '{http://www.loc.gov/standards/alto/ns-v4#}Shape',\n",
       " '{http://www.loc.gov/standards/alto/ns-v4#}Polygon',\n",
       " '{http://www.loc.gov/standards/alto/ns-v4#}String',\n",
       " '{http://www.loc.gov/standards/alto/ns-v4#}TextLine',\n",
       " '{http://www.loc.gov/standards/alto/ns-v4#}Shape',\n",
       " '{http://www.loc.gov/standards/alto/ns-v4#}Polygon',\n",
       " '{http://www.loc.gov/standards/alto/ns-v4#}String',\n",
       " '{http://www.loc.gov/standards/alto/ns-v4#}TextLine',\n",
       " '{http://www.loc.gov/standards/alto/ns-v4#}Shape',\n",
       " '{http://www.loc.gov/standards/alto/ns-v4#}Polygon',\n",
       " '{http://www.loc.gov/standards/alto/ns-v4#}String',\n",
       " '{http://www.loc.gov/standards/alto/ns-v4#}TextLine',\n",
       " '{http://www.loc.gov/standards/alto/ns-v4#}Shape',\n",
       " '{http://www.loc.gov/standards/alto/ns-v4#}Polygon',\n",
       " '{http://www.loc.gov/standards/alto/ns-v4#}String',\n",
       " '{http://www.loc.gov/standards/alto/ns-v4#}TextLine',\n",
       " '{http://www.loc.gov/standards/alto/ns-v4#}Shape',\n",
       " '{http://www.loc.gov/standards/alto/ns-v4#}Polygon',\n",
       " '{http://www.loc.gov/standards/alto/ns-v4#}String',\n",
       " '{http://www.loc.gov/standards/alto/ns-v4#}TextLine',\n",
       " '{http://www.loc.gov/standards/alto/ns-v4#}Shape',\n",
       " '{http://www.loc.gov/standards/alto/ns-v4#}Polygon',\n",
       " '{http://www.loc.gov/standards/alto/ns-v4#}String',\n",
       " '{http://www.loc.gov/standards/alto/ns-v4#}TextLine',\n",
       " '{http://www.loc.gov/standards/alto/ns-v4#}Shape',\n",
       " '{http://www.loc.gov/standards/alto/ns-v4#}Polygon',\n",
       " '{http://www.loc.gov/standards/alto/ns-v4#}String',\n",
       " '{http://www.loc.gov/standards/alto/ns-v4#}TextLine',\n",
       " '{http://www.loc.gov/standards/alto/ns-v4#}Shape',\n",
       " '{http://www.loc.gov/standards/alto/ns-v4#}Polygon',\n",
       " '{http://www.loc.gov/standards/alto/ns-v4#}String',\n",
       " '{http://www.loc.gov/standards/alto/ns-v4#}TextLine',\n",
       " '{http://www.loc.gov/standards/alto/ns-v4#}Shape',\n",
       " '{http://www.loc.gov/standards/alto/ns-v4#}Polygon',\n",
       " '{http://www.loc.gov/standards/alto/ns-v4#}String',\n",
       " '{http://www.loc.gov/standards/alto/ns-v4#}TextLine',\n",
       " '{http://www.loc.gov/standards/alto/ns-v4#}Shape',\n",
       " '{http://www.loc.gov/standards/alto/ns-v4#}Polygon',\n",
       " '{http://www.loc.gov/standards/alto/ns-v4#}String',\n",
       " '{http://www.loc.gov/standards/alto/ns-v4#}TextLine',\n",
       " '{http://www.loc.gov/standards/alto/ns-v4#}Shape',\n",
       " '{http://www.loc.gov/standards/alto/ns-v4#}Polygon',\n",
       " '{http://www.loc.gov/standards/alto/ns-v4#}String',\n",
       " '{http://www.loc.gov/standards/alto/ns-v4#}TextLine',\n",
       " '{http://www.loc.gov/standards/alto/ns-v4#}Shape',\n",
       " '{http://www.loc.gov/standards/alto/ns-v4#}Polygon',\n",
       " '{http://www.loc.gov/standards/alto/ns-v4#}String',\n",
       " '{http://www.loc.gov/standards/alto/ns-v4#}TextLine',\n",
       " '{http://www.loc.gov/standards/alto/ns-v4#}Shape',\n",
       " '{http://www.loc.gov/standards/alto/ns-v4#}Polygon',\n",
       " '{http://www.loc.gov/standards/alto/ns-v4#}String',\n",
       " '{http://www.loc.gov/standards/alto/ns-v4#}TextLine',\n",
       " '{http://www.loc.gov/standards/alto/ns-v4#}Shape',\n",
       " '{http://www.loc.gov/standards/alto/ns-v4#}Polygon',\n",
       " '{http://www.loc.gov/standards/alto/ns-v4#}String',\n",
       " '{http://www.loc.gov/standards/alto/ns-v4#}TextLine',\n",
       " '{http://www.loc.gov/standards/alto/ns-v4#}Shape',\n",
       " '{http://www.loc.gov/standards/alto/ns-v4#}Polygon',\n",
       " '{http://www.loc.gov/standards/alto/ns-v4#}String',\n",
       " '{http://www.loc.gov/standards/alto/ns-v4#}TextLine',\n",
       " '{http://www.loc.gov/standards/alto/ns-v4#}Shape',\n",
       " '{http://www.loc.gov/standards/alto/ns-v4#}Polygon',\n",
       " '{http://www.loc.gov/standards/alto/ns-v4#}String',\n",
       " '{http://www.loc.gov/standards/alto/ns-v4#}TextLine',\n",
       " '{http://www.loc.gov/standards/alto/ns-v4#}Shape',\n",
       " '{http://www.loc.gov/standards/alto/ns-v4#}Polygon',\n",
       " '{http://www.loc.gov/standards/alto/ns-v4#}String',\n",
       " '{http://www.loc.gov/standards/alto/ns-v4#}TextLine',\n",
       " '{http://www.loc.gov/standards/alto/ns-v4#}Shape',\n",
       " '{http://www.loc.gov/standards/alto/ns-v4#}Polygon',\n",
       " '{http://www.loc.gov/standards/alto/ns-v4#}String',\n",
       " '{http://www.loc.gov/standards/alto/ns-v4#}TextLine',\n",
       " '{http://www.loc.gov/standards/alto/ns-v4#}Shape',\n",
       " '{http://www.loc.gov/standards/alto/ns-v4#}Polygon',\n",
       " '{http://www.loc.gov/standards/alto/ns-v4#}String',\n",
       " '{http://www.loc.gov/standards/alto/ns-v4#}TextLine',\n",
       " '{http://www.loc.gov/standards/alto/ns-v4#}Shape',\n",
       " '{http://www.loc.gov/standards/alto/ns-v4#}Polygon',\n",
       " '{http://www.loc.gov/standards/alto/ns-v4#}String',\n",
       " '{http://www.loc.gov/standards/alto/ns-v4#}TextLine',\n",
       " '{http://www.loc.gov/standards/alto/ns-v4#}Shape',\n",
       " '{http://www.loc.gov/standards/alto/ns-v4#}Polygon',\n",
       " '{http://www.loc.gov/standards/alto/ns-v4#}String',\n",
       " '{http://www.loc.gov/standards/alto/ns-v4#}TextLine',\n",
       " '{http://www.loc.gov/standards/alto/ns-v4#}Shape',\n",
       " '{http://www.loc.gov/standards/alto/ns-v4#}Polygon',\n",
       " '{http://www.loc.gov/standards/alto/ns-v4#}String',\n",
       " '{http://www.loc.gov/standards/alto/ns-v4#}TextLine',\n",
       " '{http://www.loc.gov/standards/alto/ns-v4#}Shape',\n",
       " '{http://www.loc.gov/standards/alto/ns-v4#}Polygon',\n",
       " '{http://www.loc.gov/standards/alto/ns-v4#}String',\n",
       " '{http://www.loc.gov/standards/alto/ns-v4#}TextLine',\n",
       " '{http://www.loc.gov/standards/alto/ns-v4#}Shape',\n",
       " '{http://www.loc.gov/standards/alto/ns-v4#}Polygon',\n",
       " '{http://www.loc.gov/standards/alto/ns-v4#}String',\n",
       " '{http://www.loc.gov/standards/alto/ns-v4#}TextLine',\n",
       " '{http://www.loc.gov/standards/alto/ns-v4#}Shape',\n",
       " '{http://www.loc.gov/standards/alto/ns-v4#}Polygon',\n",
       " '{http://www.loc.gov/standards/alto/ns-v4#}String',\n",
       " '{http://www.loc.gov/standards/alto/ns-v4#}TextLine',\n",
       " '{http://www.loc.gov/standards/alto/ns-v4#}Shape',\n",
       " '{http://www.loc.gov/standards/alto/ns-v4#}Polygon',\n",
       " '{http://www.loc.gov/standards/alto/ns-v4#}String',\n",
       " '{http://www.loc.gov/standards/alto/ns-v4#}TextLine',\n",
       " '{http://www.loc.gov/standards/alto/ns-v4#}Shape',\n",
       " '{http://www.loc.gov/standards/alto/ns-v4#}Polygon',\n",
       " '{http://www.loc.gov/standards/alto/ns-v4#}String',\n",
       " '{http://www.loc.gov/standards/alto/ns-v4#}TextLine',\n",
       " '{http://www.loc.gov/standards/alto/ns-v4#}Shape',\n",
       " '{http://www.loc.gov/standards/alto/ns-v4#}Polygon',\n",
       " '{http://www.loc.gov/standards/alto/ns-v4#}String',\n",
       " '{http://www.loc.gov/standards/alto/ns-v4#}TextLine',\n",
       " '{http://www.loc.gov/standards/alto/ns-v4#}Shape',\n",
       " '{http://www.loc.gov/standards/alto/ns-v4#}Polygon',\n",
       " '{http://www.loc.gov/standards/alto/ns-v4#}String',\n",
       " '{http://www.loc.gov/standards/alto/ns-v4#}TextLine',\n",
       " '{http://www.loc.gov/standards/alto/ns-v4#}Shape',\n",
       " '{http://www.loc.gov/standards/alto/ns-v4#}Polygon',\n",
       " '{http://www.loc.gov/standards/alto/ns-v4#}String',\n",
       " '{http://www.loc.gov/standards/alto/ns-v4#}TextLine',\n",
       " '{http://www.loc.gov/standards/alto/ns-v4#}Shape',\n",
       " '{http://www.loc.gov/standards/alto/ns-v4#}Polygon',\n",
       " '{http://www.loc.gov/standards/alto/ns-v4#}String',\n",
       " '{http://www.loc.gov/standards/alto/ns-v4#}TextLine',\n",
       " '{http://www.loc.gov/standards/alto/ns-v4#}Shape',\n",
       " '{http://www.loc.gov/standards/alto/ns-v4#}Polygon',\n",
       " '{http://www.loc.gov/standards/alto/ns-v4#}String',\n",
       " '{http://www.loc.gov/standards/alto/ns-v4#}TextLine',\n",
       " '{http://www.loc.gov/standards/alto/ns-v4#}Shape',\n",
       " '{http://www.loc.gov/standards/alto/ns-v4#}Polygon',\n",
       " '{http://www.loc.gov/standards/alto/ns-v4#}String',\n",
       " '{http://www.loc.gov/standards/alto/ns-v4#}TextLine',\n",
       " '{http://www.loc.gov/standards/alto/ns-v4#}Shape',\n",
       " '{http://www.loc.gov/standards/alto/ns-v4#}Polygon',\n",
       " '{http://www.loc.gov/standards/alto/ns-v4#}String',\n",
       " '{http://www.loc.gov/standards/alto/ns-v4#}TextLine',\n",
       " '{http://www.loc.gov/standards/alto/ns-v4#}Shape',\n",
       " '{http://www.loc.gov/standards/alto/ns-v4#}Polygon',\n",
       " '{http://www.loc.gov/standards/alto/ns-v4#}String',\n",
       " '{http://www.loc.gov/standards/alto/ns-v4#}TextLine',\n",
       " '{http://www.loc.gov/standards/alto/ns-v4#}Shape',\n",
       " '{http://www.loc.gov/standards/alto/ns-v4#}Polygon',\n",
       " '{http://www.loc.gov/standards/alto/ns-v4#}String',\n",
       " '{http://www.loc.gov/standards/alto/ns-v4#}TextLine',\n",
       " '{http://www.loc.gov/standards/alto/ns-v4#}Shape',\n",
       " '{http://www.loc.gov/standards/alto/ns-v4#}Polygon',\n",
       " '{http://www.loc.gov/standards/alto/ns-v4#}String',\n",
       " '{http://www.loc.gov/standards/alto/ns-v4#}TextLine',\n",
       " '{http://www.loc.gov/standards/alto/ns-v4#}Shape',\n",
       " '{http://www.loc.gov/standards/alto/ns-v4#}Polygon',\n",
       " '{http://www.loc.gov/standards/alto/ns-v4#}String',\n",
       " '{http://www.loc.gov/standards/alto/ns-v4#}TextLine',\n",
       " '{http://www.loc.gov/standards/alto/ns-v4#}Shape',\n",
       " '{http://www.loc.gov/standards/alto/ns-v4#}Polygon',\n",
       " '{http://www.loc.gov/standards/alto/ns-v4#}String',\n",
       " '{http://www.loc.gov/standards/alto/ns-v4#}TextLine',\n",
       " '{http://www.loc.gov/standards/alto/ns-v4#}Shape',\n",
       " '{http://www.loc.gov/standards/alto/ns-v4#}Polygon',\n",
       " '{http://www.loc.gov/standards/alto/ns-v4#}String',\n",
       " '{http://www.loc.gov/standards/alto/ns-v4#}TextLine',\n",
       " '{http://www.loc.gov/standards/alto/ns-v4#}Shape',\n",
       " '{http://www.loc.gov/standards/alto/ns-v4#}Polygon',\n",
       " '{http://www.loc.gov/standards/alto/ns-v4#}String',\n",
       " '{http://www.loc.gov/standards/alto/ns-v4#}TextLine',\n",
       " '{http://www.loc.gov/standards/alto/ns-v4#}Shape',\n",
       " '{http://www.loc.gov/standards/alto/ns-v4#}Polygon',\n",
       " '{http://www.loc.gov/standards/alto/ns-v4#}String',\n",
       " '{http://www.loc.gov/standards/alto/ns-v4#}TextLine',\n",
       " '{http://www.loc.gov/standards/alto/ns-v4#}Shape',\n",
       " '{http://www.loc.gov/standards/alto/ns-v4#}Polygon',\n",
       " '{http://www.loc.gov/standards/alto/ns-v4#}String',\n",
       " '{http://www.loc.gov/standards/alto/ns-v4#}TextLine',\n",
       " '{http://www.loc.gov/standards/alto/ns-v4#}Shape',\n",
       " '{http://www.loc.gov/standards/alto/ns-v4#}Polygon',\n",
       " '{http://www.loc.gov/standards/alto/ns-v4#}String',\n",
       " '{http://www.loc.gov/standards/alto/ns-v4#}TextLine',\n",
       " '{http://www.loc.gov/standards/alto/ns-v4#}Shape',\n",
       " '{http://www.loc.gov/standards/alto/ns-v4#}Polygon',\n",
       " '{http://www.loc.gov/standards/alto/ns-v4#}String',\n",
       " '{http://www.loc.gov/standards/alto/ns-v4#}TextLine',\n",
       " '{http://www.loc.gov/standards/alto/ns-v4#}Shape',\n",
       " '{http://www.loc.gov/standards/alto/ns-v4#}Polygon',\n",
       " '{http://www.loc.gov/standards/alto/ns-v4#}String',\n",
       " '{http://www.loc.gov/standards/alto/ns-v4#}TextLine',\n",
       " '{http://www.loc.gov/standards/alto/ns-v4#}Shape',\n",
       " '{http://www.loc.gov/standards/alto/ns-v4#}Polygon',\n",
       " '{http://www.loc.gov/standards/alto/ns-v4#}String',\n",
       " '{http://www.loc.gov/standards/alto/ns-v4#}TextLine',\n",
       " '{http://www.loc.gov/standards/alto/ns-v4#}Shape',\n",
       " '{http://www.loc.gov/standards/alto/ns-v4#}Polygon',\n",
       " '{http://www.loc.gov/standards/alto/ns-v4#}String',\n",
       " '{http://www.loc.gov/standards/alto/ns-v4#}TextLine',\n",
       " '{http://www.loc.gov/standards/alto/ns-v4#}Shape',\n",
       " '{http://www.loc.gov/standards/alto/ns-v4#}Polygon',\n",
       " '{http://www.loc.gov/standards/alto/ns-v4#}String',\n",
       " '{http://www.loc.gov/standards/alto/ns-v4#}TextLine',\n",
       " '{http://www.loc.gov/standards/alto/ns-v4#}Shape',\n",
       " '{http://www.loc.gov/standards/alto/ns-v4#}Polygon',\n",
       " '{http://www.loc.gov/standards/alto/ns-v4#}String',\n",
       " '{http://www.loc.gov/standards/alto/ns-v4#}TextLine',\n",
       " '{http://www.loc.gov/standards/alto/ns-v4#}Shape',\n",
       " '{http://www.loc.gov/standards/alto/ns-v4#}Polygon',\n",
       " '{http://www.loc.gov/standards/alto/ns-v4#}String',\n",
       " '{http://www.loc.gov/standards/alto/ns-v4#}TextLine',\n",
       " '{http://www.loc.gov/standards/alto/ns-v4#}Shape',\n",
       " '{http://www.loc.gov/standards/alto/ns-v4#}Polygon',\n",
       " '{http://www.loc.gov/standards/alto/ns-v4#}String',\n",
       " '{http://www.loc.gov/standards/alto/ns-v4#}TextLine',\n",
       " '{http://www.loc.gov/standards/alto/ns-v4#}Shape',\n",
       " '{http://www.loc.gov/standards/alto/ns-v4#}Polygon',\n",
       " '{http://www.loc.gov/standards/alto/ns-v4#}String',\n",
       " '{http://www.loc.gov/standards/alto/ns-v4#}TextLine',\n",
       " '{http://www.loc.gov/standards/alto/ns-v4#}Shape',\n",
       " '{http://www.loc.gov/standards/alto/ns-v4#}Polygon',\n",
       " '{http://www.loc.gov/standards/alto/ns-v4#}String',\n",
       " '{http://www.loc.gov/standards/alto/ns-v4#}TextLine',\n",
       " '{http://www.loc.gov/standards/alto/ns-v4#}Shape',\n",
       " '{http://www.loc.gov/standards/alto/ns-v4#}Polygon',\n",
       " '{http://www.loc.gov/standards/alto/ns-v4#}String',\n",
       " '{http://www.loc.gov/standards/alto/ns-v4#}TextLine',\n",
       " '{http://www.loc.gov/standards/alto/ns-v4#}Shape',\n",
       " '{http://www.loc.gov/standards/alto/ns-v4#}Polygon',\n",
       " '{http://www.loc.gov/standards/alto/ns-v4#}String',\n",
       " '{http://www.loc.gov/standards/alto/ns-v4#}TextLine',\n",
       " '{http://www.loc.gov/standards/alto/ns-v4#}Shape',\n",
       " '{http://www.loc.gov/standards/alto/ns-v4#}Polygon',\n",
       " '{http://www.loc.gov/standards/alto/ns-v4#}String',\n",
       " '{http://www.loc.gov/standards/alto/ns-v4#}TextLine',\n",
       " '{http://www.loc.gov/standards/alto/ns-v4#}Shape',\n",
       " '{http://www.loc.gov/standards/alto/ns-v4#}Polygon',\n",
       " '{http://www.loc.gov/standards/alto/ns-v4#}String',\n",
       " '{http://www.loc.gov/standards/alto/ns-v4#}TextLine',\n",
       " '{http://www.loc.gov/standards/alto/ns-v4#}Shape',\n",
       " '{http://www.loc.gov/standards/alto/ns-v4#}Polygon',\n",
       " '{http://www.loc.gov/standards/alto/ns-v4#}String',\n",
       " '{http://www.loc.gov/standards/alto/ns-v4#}TextLine',\n",
       " '{http://www.loc.gov/standards/alto/ns-v4#}Shape',\n",
       " '{http://www.loc.gov/standards/alto/ns-v4#}Polygon',\n",
       " '{http://www.loc.gov/standards/alto/ns-v4#}String',\n",
       " '{http://www.loc.gov/standards/alto/ns-v4#}TextLine',\n",
       " '{http://www.loc.gov/standards/alto/ns-v4#}Shape',\n",
       " '{http://www.loc.gov/standards/alto/ns-v4#}Polygon',\n",
       " '{http://www.loc.gov/standards/alto/ns-v4#}String',\n",
       " '{http://www.loc.gov/standards/alto/ns-v4#}TextLine',\n",
       " '{http://www.loc.gov/standards/alto/ns-v4#}Shape',\n",
       " '{http://www.loc.gov/standards/alto/ns-v4#}Polygon',\n",
       " '{http://www.loc.gov/standards/alto/ns-v4#}String',\n",
       " '{http://www.loc.gov/standards/alto/ns-v4#}TextLine',\n",
       " '{http://www.loc.gov/standards/alto/ns-v4#}Shape',\n",
       " '{http://www.loc.gov/standards/alto/ns-v4#}Polygon',\n",
       " '{http://www.loc.gov/standards/alto/ns-v4#}String',\n",
       " '{http://www.loc.gov/standards/alto/ns-v4#}TextLine',\n",
       " '{http://www.loc.gov/standards/alto/ns-v4#}Shape',\n",
       " '{http://www.loc.gov/standards/alto/ns-v4#}Polygon',\n",
       " '{http://www.loc.gov/standards/alto/ns-v4#}String',\n",
       " '{http://www.loc.gov/standards/alto/ns-v4#}TextLine',\n",
       " '{http://www.loc.gov/standards/alto/ns-v4#}Shape',\n",
       " '{http://www.loc.gov/standards/alto/ns-v4#}Polygon',\n",
       " '{http://www.loc.gov/standards/alto/ns-v4#}String',\n",
       " '{http://www.loc.gov/standards/alto/ns-v4#}TextLine',\n",
       " '{http://www.loc.gov/standards/alto/ns-v4#}Shape',\n",
       " '{http://www.loc.gov/standards/alto/ns-v4#}Polygon',\n",
       " '{http://www.loc.gov/standards/alto/ns-v4#}String',\n",
       " '{http://www.loc.gov/standards/alto/ns-v4#}TextLine',\n",
       " '{http://www.loc.gov/standards/alto/ns-v4#}Shape',\n",
       " '{http://www.loc.gov/standards/alto/ns-v4#}Polygon',\n",
       " '{http://www.loc.gov/standards/alto/ns-v4#}String',\n",
       " '{http://www.loc.gov/standards/alto/ns-v4#}TextLine',\n",
       " '{http://www.loc.gov/standards/alto/ns-v4#}Shape',\n",
       " '{http://www.loc.gov/standards/alto/ns-v4#}Polygon',\n",
       " '{http://www.loc.gov/standards/alto/ns-v4#}String',\n",
       " '{http://www.loc.gov/standards/alto/ns-v4#}TextLine',\n",
       " '{http://www.loc.gov/standards/alto/ns-v4#}Shape',\n",
       " '{http://www.loc.gov/standards/alto/ns-v4#}Polygon',\n",
       " '{http://www.loc.gov/standards/alto/ns-v4#}String',\n",
       " '{http://www.loc.gov/standards/alto/ns-v4#}TextLine',\n",
       " '{http://www.loc.gov/standards/alto/ns-v4#}Shape',\n",
       " '{http://www.loc.gov/standards/alto/ns-v4#}Polygon',\n",
       " '{http://www.loc.gov/standards/alto/ns-v4#}String',\n",
       " '{http://www.loc.gov/standards/alto/ns-v4#}TextLine',\n",
       " '{http://www.loc.gov/standards/alto/ns-v4#}Shape',\n",
       " '{http://www.loc.gov/standards/alto/ns-v4#}Polygon',\n",
       " '{http://www.loc.gov/standards/alto/ns-v4#}String',\n",
       " '{http://www.loc.gov/standards/alto/ns-v4#}TextLine',\n",
       " '{http://www.loc.gov/standards/alto/ns-v4#}Shape',\n",
       " '{http://www.loc.gov/standards/alto/ns-v4#}Polygon',\n",
       " '{http://www.loc.gov/standards/alto/ns-v4#}String',\n",
       " '{http://www.loc.gov/standards/alto/ns-v4#}TextLine',\n",
       " '{http://www.loc.gov/standards/alto/ns-v4#}Shape',\n",
       " '{http://www.loc.gov/standards/alto/ns-v4#}Polygon',\n",
       " '{http://www.loc.gov/standards/alto/ns-v4#}String',\n",
       " '{http://www.loc.gov/standards/alto/ns-v4#}TextLine',\n",
       " '{http://www.loc.gov/standards/alto/ns-v4#}Shape',\n",
       " '{http://www.loc.gov/standards/alto/ns-v4#}Polygon',\n",
       " '{http://www.loc.gov/standards/alto/ns-v4#}String',\n",
       " '{http://www.loc.gov/standards/alto/ns-v4#}TextLine',\n",
       " '{http://www.loc.gov/standards/alto/ns-v4#}Shape',\n",
       " '{http://www.loc.gov/standards/alto/ns-v4#}Polygon',\n",
       " '{http://www.loc.gov/standards/alto/ns-v4#}String',\n",
       " '{http://www.loc.gov/standards/alto/ns-v4#}TextLine',\n",
       " '{http://www.loc.gov/standards/alto/ns-v4#}Shape',\n",
       " '{http://www.loc.gov/standards/alto/ns-v4#}Polygon',\n",
       " '{http://www.loc.gov/standards/alto/ns-v4#}String',\n",
       " '{http://www.loc.gov/standards/alto/ns-v4#}TextLine',\n",
       " '{http://www.loc.gov/standards/alto/ns-v4#}Shape',\n",
       " '{http://www.loc.gov/standards/alto/ns-v4#}Polygon',\n",
       " '{http://www.loc.gov/standards/alto/ns-v4#}String',\n",
       " '{http://www.loc.gov/standards/alto/ns-v4#}TextLine',\n",
       " '{http://www.loc.gov/standards/alto/ns-v4#}Shape',\n",
       " '{http://www.loc.gov/standards/alto/ns-v4#}Polygon',\n",
       " '{http://www.loc.gov/standards/alto/ns-v4#}String',\n",
       " '{http://www.loc.gov/standards/alto/ns-v4#}TextLine',\n",
       " '{http://www.loc.gov/standards/alto/ns-v4#}Shape',\n",
       " '{http://www.loc.gov/standards/alto/ns-v4#}Polygon',\n",
       " '{http://www.loc.gov/standards/alto/ns-v4#}String',\n",
       " '{http://www.loc.gov/standards/alto/ns-v4#}TextLine',\n",
       " '{http://www.loc.gov/standards/alto/ns-v4#}Shape',\n",
       " '{http://www.loc.gov/standards/alto/ns-v4#}Polygon',\n",
       " '{http://www.loc.gov/standards/alto/ns-v4#}String',\n",
       " '{http://www.loc.gov/standards/alto/ns-v4#}TextLine',\n",
       " '{http://www.loc.gov/standards/alto/ns-v4#}Shape',\n",
       " '{http://www.loc.gov/standards/alto/ns-v4#}Polygon',\n",
       " '{http://www.loc.gov/standards/alto/ns-v4#}String',\n",
       " '{http://www.loc.gov/standards/alto/ns-v4#}TextLine',\n",
       " '{http://www.loc.gov/standards/alto/ns-v4#}Shape',\n",
       " '{http://www.loc.gov/standards/alto/ns-v4#}Polygon',\n",
       " '{http://www.loc.gov/standards/alto/ns-v4#}String',\n",
       " '{http://www.loc.gov/standards/alto/ns-v4#}TextLine',\n",
       " '{http://www.loc.gov/standards/alto/ns-v4#}Shape',\n",
       " '{http://www.loc.gov/standards/alto/ns-v4#}Polygon',\n",
       " '{http://www.loc.gov/standards/alto/ns-v4#}String',\n",
       " '{http://www.loc.gov/standards/alto/ns-v4#}TextLine',\n",
       " '{http://www.loc.gov/standards/alto/ns-v4#}Shape',\n",
       " '{http://www.loc.gov/standards/alto/ns-v4#}Polygon',\n",
       " '{http://www.loc.gov/standards/alto/ns-v4#}String',\n",
       " '{http://www.loc.gov/standards/alto/ns-v4#}TextLine',\n",
       " '{http://www.loc.gov/standards/alto/ns-v4#}Shape',\n",
       " '{http://www.loc.gov/standards/alto/ns-v4#}Polygon',\n",
       " '{http://www.loc.gov/standards/alto/ns-v4#}String',\n",
       " '{http://www.loc.gov/standards/alto/ns-v4#}TextLine',\n",
       " '{http://www.loc.gov/standards/alto/ns-v4#}Shape',\n",
       " '{http://www.loc.gov/standards/alto/ns-v4#}Polygon',\n",
       " '{http://www.loc.gov/standards/alto/ns-v4#}String',\n",
       " '{http://www.loc.gov/standards/alto/ns-v4#}TextLine',\n",
       " '{http://www.loc.gov/standards/alto/ns-v4#}Shape',\n",
       " '{http://www.loc.gov/standards/alto/ns-v4#}Polygon',\n",
       " '{http://www.loc.gov/standards/alto/ns-v4#}String',\n",
       " '{http://www.loc.gov/standards/alto/ns-v4#}TextLine',\n",
       " '{http://www.loc.gov/standards/alto/ns-v4#}Shape',\n",
       " '{http://www.loc.gov/standards/alto/ns-v4#}Polygon',\n",
       " '{http://www.loc.gov/standards/alto/ns-v4#}String',\n",
       " '{http://www.loc.gov/standards/alto/ns-v4#}TextLine',\n",
       " '{http://www.loc.gov/standards/alto/ns-v4#}Shape',\n",
       " '{http://www.loc.gov/standards/alto/ns-v4#}Polygon',\n",
       " '{http://www.loc.gov/standards/alto/ns-v4#}String',\n",
       " '{http://www.loc.gov/standards/alto/ns-v4#}TextLine',\n",
       " '{http://www.loc.gov/standards/alto/ns-v4#}Shape',\n",
       " '{http://www.loc.gov/standards/alto/ns-v4#}Polygon',\n",
       " '{http://www.loc.gov/standards/alto/ns-v4#}String',\n",
       " '{http://www.loc.gov/standards/alto/ns-v4#}TextLine',\n",
       " '{http://www.loc.gov/standards/alto/ns-v4#}Shape',\n",
       " '{http://www.loc.gov/standards/alto/ns-v4#}Polygon',\n",
       " '{http://www.loc.gov/standards/alto/ns-v4#}String',\n",
       " '{http://www.loc.gov/standards/alto/ns-v4#}TextLine',\n",
       " '{http://www.loc.gov/standards/alto/ns-v4#}Shape',\n",
       " '{http://www.loc.gov/standards/alto/ns-v4#}Polygon',\n",
       " '{http://www.loc.gov/standards/alto/ns-v4#}String',\n",
       " '{http://www.loc.gov/standards/alto/ns-v4#}TextLine',\n",
       " '{http://www.loc.gov/standards/alto/ns-v4#}Shape',\n",
       " '{http://www.loc.gov/standards/alto/ns-v4#}Polygon',\n",
       " '{http://www.loc.gov/standards/alto/ns-v4#}String',\n",
       " '{http://www.loc.gov/standards/alto/ns-v4#}TextLine',\n",
       " '{http://www.loc.gov/standards/alto/ns-v4#}Shape',\n",
       " '{http://www.loc.gov/standards/alto/ns-v4#}Polygon',\n",
       " '{http://www.loc.gov/standards/alto/ns-v4#}String',\n",
       " '{http://www.loc.gov/standards/alto/ns-v4#}TextLine',\n",
       " '{http://www.loc.gov/standards/alto/ns-v4#}Shape',\n",
       " '{http://www.loc.gov/standards/alto/ns-v4#}Polygon',\n",
       " '{http://www.loc.gov/standards/alto/ns-v4#}String',\n",
       " '{http://www.loc.gov/standards/alto/ns-v4#}TextLine',\n",
       " '{http://www.loc.gov/standards/alto/ns-v4#}Shape',\n",
       " '{http://www.loc.gov/standards/alto/ns-v4#}Polygon',\n",
       " '{http://www.loc.gov/standards/alto/ns-v4#}String',\n",
       " '{http://www.loc.gov/standards/alto/ns-v4#}TextLine',\n",
       " '{http://www.loc.gov/standards/alto/ns-v4#}Shape',\n",
       " '{http://www.loc.gov/standards/alto/ns-v4#}Polygon',\n",
       " '{http://www.loc.gov/standards/alto/ns-v4#}String',\n",
       " '{http://www.loc.gov/standards/alto/ns-v4#}TextLine',\n",
       " '{http://www.loc.gov/standards/alto/ns-v4#}Shape',\n",
       " '{http://www.loc.gov/standards/alto/ns-v4#}Polygon',\n",
       " '{http://www.loc.gov/standards/alto/ns-v4#}String',\n",
       " '{http://www.loc.gov/standards/alto/ns-v4#}TextLine',\n",
       " '{http://www.loc.gov/standards/alto/ns-v4#}Shape',\n",
       " '{http://www.loc.gov/standards/alto/ns-v4#}Polygon',\n",
       " '{http://www.loc.gov/standards/alto/ns-v4#}String',\n",
       " '{http://www.loc.gov/standards/alto/ns-v4#}TextLine',\n",
       " '{http://www.loc.gov/standards/alto/ns-v4#}Shape',\n",
       " '{http://www.loc.gov/standards/alto/ns-v4#}Polygon',\n",
       " '{http://www.loc.gov/standards/alto/ns-v4#}String',\n",
       " '{http://www.loc.gov/standards/alto/ns-v4#}TextLine',\n",
       " '{http://www.loc.gov/standards/alto/ns-v4#}Shape',\n",
       " '{http://www.loc.gov/standards/alto/ns-v4#}Polygon',\n",
       " '{http://www.loc.gov/standards/alto/ns-v4#}String']"
      ]
     },
     "execution_count": 23,
     "metadata": {},
     "output_type": "execute_result"
    }
   ],
   "source": [
    "tree = ET.parse(\"AC Bagnes R46 0072.xml\")\n",
    "root = tree.getroot()\n",
    "[elem.tag for elem in root.iter()]"
   ]
  },
  {
   "cell_type": "markdown",
   "metadata": {},
   "source": [
    "Based on that, we can try again findall"
   ]
  },
  {
   "cell_type": "code",
   "execution_count": 24,
   "metadata": {},
   "outputs": [
    {
     "data": {
      "text/plain": [
       "[<Element '{http://www.loc.gov/standards/alto/ns-v4#}OtherTag' at 0x7f7cb010fb88>,\n",
       " <Element '{http://www.loc.gov/standards/alto/ns-v4#}OtherTag' at 0x7f7cb010fbd8>,\n",
       " <Element '{http://www.loc.gov/standards/alto/ns-v4#}OtherTag' at 0x7f7cb010fc28>,\n",
       " <Element '{http://www.loc.gov/standards/alto/ns-v4#}OtherTag' at 0x7f7cb010fc78>,\n",
       " <Element '{http://www.loc.gov/standards/alto/ns-v4#}OtherTag' at 0x7f7cb010fd18>,\n",
       " <Element '{http://www.loc.gov/standards/alto/ns-v4#}OtherTag' at 0x7f7cb010fdb8>,\n",
       " <Element '{http://www.loc.gov/standards/alto/ns-v4#}OtherTag' at 0x7f7cb010fe58>,\n",
       " <Element '{http://www.loc.gov/standards/alto/ns-v4#}OtherTag' at 0x7f7cb010fef8>,\n",
       " <Element '{http://www.loc.gov/standards/alto/ns-v4#}OtherTag' at 0x7f7cb010ff98>,\n",
       " <Element '{http://www.loc.gov/standards/alto/ns-v4#}OtherTag' at 0x7f7cb011b098>,\n",
       " <Element '{http://www.loc.gov/standards/alto/ns-v4#}OtherTag' at 0x7f7cb011b138>,\n",
       " <Element '{http://www.loc.gov/standards/alto/ns-v4#}OtherTag' at 0x7f7cb011b188>,\n",
       " <Element '{http://www.loc.gov/standards/alto/ns-v4#}OtherTag' at 0x7f7cb011b228>]"
      ]
     },
     "execution_count": 24,
     "metadata": {},
     "output_type": "execute_result"
    }
   ],
   "source": [
    "myroot.findall('.//{http://www.loc.gov/standards/alto/ns-v4#}OtherTag')"
   ]
  },
  {
   "cell_type": "markdown",
   "metadata": {},
   "source": [
    "And we finally manage to make findall working and retrieve us a list of element.\n",
    "Here are some ways to know a bit what in the tree:"
   ]
  },
  {
   "cell_type": "code",
   "execution_count": 25,
   "metadata": {},
   "outputs": [
    {
     "name": "stdout",
     "output_type": "stream",
     "text": [
      "{http://www.loc.gov/standards/alto/ns-v4#}Description\n",
      "{http://www.loc.gov/standards/alto/ns-v4#}Tags\n",
      "{http://www.loc.gov/standards/alto/ns-v4#}Layout\n"
     ]
    }
   ],
   "source": [
    "root = tree.getroot()\n",
    "for child in root:\n",
    "    print(child.tag)"
   ]
  },
  {
   "cell_type": "markdown",
   "metadata": {},
   "source": [
    "And then the child of the child, though we don't really know what element belong to which one."
   ]
  },
  {
   "cell_type": "code",
   "execution_count": 26,
   "metadata": {},
   "outputs": [
    {
     "name": "stdout",
     "output_type": "stream",
     "text": [
      "{http://www.loc.gov/standards/alto/ns-v4#}MeasurementUnit\n",
      "{http://www.loc.gov/standards/alto/ns-v4#}sourceImageInformation\n",
      "{http://www.loc.gov/standards/alto/ns-v4#}OtherTag\n",
      "{http://www.loc.gov/standards/alto/ns-v4#}OtherTag\n",
      "{http://www.loc.gov/standards/alto/ns-v4#}OtherTag\n",
      "{http://www.loc.gov/standards/alto/ns-v4#}OtherTag\n",
      "{http://www.loc.gov/standards/alto/ns-v4#}OtherTag\n",
      "{http://www.loc.gov/standards/alto/ns-v4#}OtherTag\n",
      "{http://www.loc.gov/standards/alto/ns-v4#}OtherTag\n",
      "{http://www.loc.gov/standards/alto/ns-v4#}OtherTag\n",
      "{http://www.loc.gov/standards/alto/ns-v4#}OtherTag\n",
      "{http://www.loc.gov/standards/alto/ns-v4#}OtherTag\n",
      "{http://www.loc.gov/standards/alto/ns-v4#}OtherTag\n",
      "{http://www.loc.gov/standards/alto/ns-v4#}OtherTag\n",
      "{http://www.loc.gov/standards/alto/ns-v4#}OtherTag\n",
      "{http://www.loc.gov/standards/alto/ns-v4#}Page\n"
     ]
    }
   ],
   "source": [
    "for child in root:\n",
    "    for x in child:\n",
    "        print(x.tag)"
   ]
  },
  {
   "cell_type": "code",
   "execution_count": 27,
   "metadata": {},
   "outputs": [
    {
     "name": "stdout",
     "output_type": "stream",
     "text": [
      "{http://www.loc.gov/standards/alto/ns-v4#}Description\n",
      "{http://www.loc.gov/standards/alto/ns-v4#}MeasurementUnit\n",
      "{http://www.loc.gov/standards/alto/ns-v4#}sourceImageInformation\n",
      "{http://www.loc.gov/standards/alto/ns-v4#}Tags\n",
      "{http://www.loc.gov/standards/alto/ns-v4#}OtherTag\n",
      "{http://www.loc.gov/standards/alto/ns-v4#}OtherTag\n",
      "{http://www.loc.gov/standards/alto/ns-v4#}OtherTag\n",
      "{http://www.loc.gov/standards/alto/ns-v4#}OtherTag\n",
      "{http://www.loc.gov/standards/alto/ns-v4#}OtherTag\n",
      "{http://www.loc.gov/standards/alto/ns-v4#}OtherTag\n",
      "{http://www.loc.gov/standards/alto/ns-v4#}OtherTag\n",
      "{http://www.loc.gov/standards/alto/ns-v4#}OtherTag\n",
      "{http://www.loc.gov/standards/alto/ns-v4#}OtherTag\n",
      "{http://www.loc.gov/standards/alto/ns-v4#}OtherTag\n",
      "{http://www.loc.gov/standards/alto/ns-v4#}OtherTag\n",
      "{http://www.loc.gov/standards/alto/ns-v4#}OtherTag\n",
      "{http://www.loc.gov/standards/alto/ns-v4#}OtherTag\n",
      "{http://www.loc.gov/standards/alto/ns-v4#}Layout\n",
      "{http://www.loc.gov/standards/alto/ns-v4#}Page\n"
     ]
    }
   ],
   "source": [
    "for child in root:\n",
    "    print(child.tag)\n",
    "    for x in child:\n",
    "        print(x.tag)"
   ]
  },
  {
   "cell_type": "markdown",
   "metadata": {},
   "source": [
    "We can retrieve the OtherTag like we did before to see what line correspond to which ID:"
   ]
  },
  {
   "cell_type": "code",
   "execution_count": 28,
   "metadata": {
    "scrolled": true
   },
   "outputs": [
    {
     "name": "stdout",
     "output_type": "stream",
     "text": [
      "{'ID': 'BT1', 'LABEL': 'Title', 'DESCRIPTION': 'block type Title'}\n",
      "{'ID': 'BT406', 'LABEL': 'Pagination', 'DESCRIPTION': 'block type Pagination'}\n",
      "{'ID': 'BT407', 'LABEL': 'Header', 'DESCRIPTION': 'block type Header'}\n",
      "{'ID': 'BT408', 'LABEL': 'Contribuable', 'DESCRIPTION': 'block type Contribuable'}\n",
      "{'ID': 'BT422', 'LABEL': 'CustomZone:entry#1', 'DESCRIPTION': 'block type CustomZone:entry#1'}\n",
      "{'ID': 'BT423', 'LABEL': 'CustomZone:entry#2', 'DESCRIPTION': 'block type CustomZone:entry#2'}\n",
      "{'ID': 'LT140', 'LABEL': 'CustomLine:confins', 'DESCRIPTION': 'line type CustomLine:confins'}\n",
      "{'ID': 'LT141', 'LABEL': 'CustomLine:date', 'DESCRIPTION': 'line type CustomLine:date'}\n",
      "{'ID': 'LT142', 'LABEL': 'CustomLine:francs', 'DESCRIPTION': 'line type CustomLine:francs'}\n",
      "{'ID': 'LT143', 'LABEL': 'CustomLine:info', 'DESCRIPTION': 'line type CustomLine:info'}\n",
      "{'ID': 'LT144', 'LABEL': 'CustomLine:mutations', 'DESCRIPTION': 'line type CustomLine:mutations'}\n",
      "{'ID': 'LT145', 'LABEL': 'DefaultLine', 'DESCRIPTION': 'line type DefaultLine'}\n",
      "{'ID': 'LT146', 'LABEL': 'HeadingLine:title', 'DESCRIPTION': 'line type HeadingLine:title'}\n"
     ]
    }
   ],
   "source": [
    "for t in root.iter('{http://www.loc.gov/standards/alto/ns-v4#}OtherTag'):\n",
    "    print(t.attrib)"
   ]
  },
  {
   "cell_type": "markdown",
   "metadata": {},
   "source": [
    "For each search we still must type the name space, we can shorten the ns with a *  but for that we need to use lxml and not ElementTree"
   ]
  },
  {
   "cell_type": "code",
   "execution_count": 45,
   "metadata": {},
   "outputs": [],
   "source": [
    "from lxml import etree\n",
    "\n",
    "tree = etree.parse(\"AC Bagnes R46 0072.xml\")\n",
    "root = tree.getroot()"
   ]
  },
  {
   "cell_type": "code",
   "execution_count": 46,
   "metadata": {},
   "outputs": [
    {
     "name": "stdout",
     "output_type": "stream",
     "text": [
      "{'ID': 'BT1', 'LABEL': 'Title', 'DESCRIPTION': 'block type Title'}\n",
      "{'ID': 'BT406', 'LABEL': 'Pagination', 'DESCRIPTION': 'block type Pagination'}\n",
      "{'ID': 'BT407', 'LABEL': 'Header', 'DESCRIPTION': 'block type Header'}\n",
      "{'ID': 'BT408', 'LABEL': 'Contribuable', 'DESCRIPTION': 'block type Contribuable'}\n",
      "{'ID': 'BT422', 'LABEL': 'CustomZone:entry#1', 'DESCRIPTION': 'block type CustomZone:entry#1'}\n",
      "{'ID': 'BT423', 'LABEL': 'CustomZone:entry#2', 'DESCRIPTION': 'block type CustomZone:entry#2'}\n",
      "{'ID': 'LT140', 'LABEL': 'CustomLine:confins', 'DESCRIPTION': 'line type CustomLine:confins'}\n",
      "{'ID': 'LT141', 'LABEL': 'CustomLine:date', 'DESCRIPTION': 'line type CustomLine:date'}\n",
      "{'ID': 'LT142', 'LABEL': 'CustomLine:francs', 'DESCRIPTION': 'line type CustomLine:francs'}\n",
      "{'ID': 'LT143', 'LABEL': 'CustomLine:info', 'DESCRIPTION': 'line type CustomLine:info'}\n",
      "{'ID': 'LT144', 'LABEL': 'CustomLine:mutations', 'DESCRIPTION': 'line type CustomLine:mutations'}\n",
      "{'ID': 'LT145', 'LABEL': 'DefaultLine', 'DESCRIPTION': 'line type DefaultLine'}\n",
      "{'ID': 'LT146', 'LABEL': 'HeadingLine:title', 'DESCRIPTION': 'line type HeadingLine:title'}\n"
     ]
    }
   ],
   "source": [
    "for t in root.iter('{*}OtherTag'):\n",
    "    print(t.attrib)"
   ]
  },
  {
   "cell_type": "markdown",
   "metadata": {},
   "source": [
    "Or use a dictionnary like it is advised in the documentation"
   ]
  },
  {
   "cell_type": "code",
   "execution_count": 47,
   "metadata": {},
   "outputs": [],
   "source": [
    "ns = {'al': 'http://www.loc.gov/standards/alto/ns-v4#'}"
   ]
  },
  {
   "cell_type": "code",
   "execution_count": 48,
   "metadata": {},
   "outputs": [],
   "source": [
    "for t in root.iter('al:OtherTag'):\n",
    "    print(t.attrib)"
   ]
  },
  {
   "cell_type": "code",
   "execution_count": 49,
   "metadata": {},
   "outputs": [
    {
     "data": {
      "text/plain": [
       "[<Element {http://www.loc.gov/standards/alto/ns-v4#}OtherTag at 0x7f7ca1382d08>,\n",
       " <Element {http://www.loc.gov/standards/alto/ns-v4#}OtherTag at 0x7f7ca1382c88>,\n",
       " <Element {http://www.loc.gov/standards/alto/ns-v4#}OtherTag at 0x7f7ca1382d48>,\n",
       " <Element {http://www.loc.gov/standards/alto/ns-v4#}OtherTag at 0x7f7ca1382d88>,\n",
       " <Element {http://www.loc.gov/standards/alto/ns-v4#}OtherTag at 0x7f7ca1382bc8>,\n",
       " <Element {http://www.loc.gov/standards/alto/ns-v4#}OtherTag at 0x7f7ca1382e08>,\n",
       " <Element {http://www.loc.gov/standards/alto/ns-v4#}OtherTag at 0x7f7ca1382e48>,\n",
       " <Element {http://www.loc.gov/standards/alto/ns-v4#}OtherTag at 0x7f7ca1382e88>,\n",
       " <Element {http://www.loc.gov/standards/alto/ns-v4#}OtherTag at 0x7f7ca1382ec8>,\n",
       " <Element {http://www.loc.gov/standards/alto/ns-v4#}OtherTag at 0x7f7ca1382f08>,\n",
       " <Element {http://www.loc.gov/standards/alto/ns-v4#}OtherTag at 0x7f7ca1382f48>,\n",
       " <Element {http://www.loc.gov/standards/alto/ns-v4#}OtherTag at 0x7f7ca1382f88>,\n",
       " <Element {http://www.loc.gov/standards/alto/ns-v4#}OtherTag at 0x7f7cb01277c8>]"
      ]
     },
     "execution_count": 49,
     "metadata": {},
     "output_type": "execute_result"
    }
   ],
   "source": [
    "root.findall('.//{*}OtherTag')"
   ]
  },
  {
   "cell_type": "code",
   "execution_count": 50,
   "metadata": {},
   "outputs": [
    {
     "data": {
      "text/plain": [
       "[<Element {http://www.loc.gov/standards/alto/ns-v4#}OtherTag at 0x7f7ca1382d08>,\n",
       " <Element {http://www.loc.gov/standards/alto/ns-v4#}OtherTag at 0x7f7ca1382c88>,\n",
       " <Element {http://www.loc.gov/standards/alto/ns-v4#}OtherTag at 0x7f7ca1382d48>,\n",
       " <Element {http://www.loc.gov/standards/alto/ns-v4#}OtherTag at 0x7f7ca1382d88>,\n",
       " <Element {http://www.loc.gov/standards/alto/ns-v4#}OtherTag at 0x7f7ca1382bc8>,\n",
       " <Element {http://www.loc.gov/standards/alto/ns-v4#}OtherTag at 0x7f7ca1382e08>,\n",
       " <Element {http://www.loc.gov/standards/alto/ns-v4#}OtherTag at 0x7f7ca1382e48>,\n",
       " <Element {http://www.loc.gov/standards/alto/ns-v4#}OtherTag at 0x7f7ca1382e88>,\n",
       " <Element {http://www.loc.gov/standards/alto/ns-v4#}OtherTag at 0x7f7ca1382ec8>,\n",
       " <Element {http://www.loc.gov/standards/alto/ns-v4#}OtherTag at 0x7f7ca1382f08>,\n",
       " <Element {http://www.loc.gov/standards/alto/ns-v4#}OtherTag at 0x7f7ca1382f48>,\n",
       " <Element {http://www.loc.gov/standards/alto/ns-v4#}OtherTag at 0x7f7ca1382f88>,\n",
       " <Element {http://www.loc.gov/standards/alto/ns-v4#}OtherTag at 0x7f7cb01277c8>]"
      ]
     },
     "execution_count": 50,
     "metadata": {},
     "output_type": "execute_result"
    }
   ],
   "source": [
    "root.findall('.//al:OtherTag', ns)"
   ]
  },
  {
   "cell_type": "markdown",
   "metadata": {},
   "source": [
    "The dictionnary method seems to work for findall but not for iter. The shortcut with  \"{*}\"  is probably better since it works with iter and findall, makes the text more readable. It is also important to notice that in our files we only work with one type of namespace making the dictionnary less useful than stated in the doc.\n",
    "\n",
    "Now that we manage to work with findall and iter, we can retrieve our ID again using this method"
   ]
  },
  {
   "cell_type": "code",
   "execution_count": 51,
   "metadata": {},
   "outputs": [
    {
     "name": "stdout",
     "output_type": "stream",
     "text": [
      "Confins: LT140 , francs: LT142 ,  mutations: LT144\n"
     ]
    }
   ],
   "source": [
    "for x in root.iter('{*}OtherTag'):\n",
    "    if x.attrib['LABEL'] == 'CustomLine:confins':\n",
    "        id_confins = x.attrib['ID']\n",
    "    elif x.attrib['LABEL'] == 'CustomLine:francs':\n",
    "        id_francs = x.attrib['ID']\n",
    "    elif x.attrib['LABEL'] == 'CustomLine:mutations':\n",
    "        id_mutations = x.attrib['ID']\n",
    "        \n",
    "print('Confins:',id_confins,', ' 'francs:', id_francs,', ','mutations:', id_mutations)"
   ]
  },
  {
   "cell_type": "markdown",
   "metadata": {},
   "source": [
    "The method above is more readable and cleaner than our first try, it might be a tiny bit slower since it need to iterate through the tree to find matching tag before starting the for loop. The result is similar either way. We can time them just for fun."
   ]
  },
  {
   "cell_type": "code",
   "execution_count": 55,
   "metadata": {},
   "outputs": [
    {
     "name": "stdout",
     "output_type": "stream",
     "text": [
      "function taking 0.0001 seconds\n",
      "Confins: LT140 , francs: LT142 ,  mutations: LT144\n"
     ]
    }
   ],
   "source": [
    "import time\n",
    "\n",
    "def main():\n",
    "\n",
    "    tic = time.perf_counter()\n",
    "    \n",
    "    for x in root.iter('{*}OtherTag'):\n",
    "        if x.attrib['LABEL'] == 'CustomLine:confins':\n",
    "            id_conf = x.attrib['ID']\n",
    "        elif x.attrib['LABEL'] == 'CustomLine:francs':\n",
    "            id_fran = x.attrib['ID']\n",
    "        elif x.attrib['LABEL'] == 'CustomLine:mutations':\n",
    "            id_muta = x.attrib['ID']\n",
    "\n",
    "    toc = time.perf_counter()\n",
    "\n",
    "    print(f\"function taking {toc - tic:0.4f} seconds\")\n",
    "    print('Confins:',id_conf,', ' 'francs:', id_fran,', ','mutations:', id_muta)\n",
    "    \n",
    "main()"
   ]
  },
  {
   "cell_type": "code",
   "execution_count": 56,
   "metadata": {},
   "outputs": [
    {
     "name": "stdout",
     "output_type": "stream",
     "text": [
      "function taking 0.0000 seconds\n",
      "Confins: LT140 , francs: LT142 ,  mutations: LT144\n"
     ]
    }
   ],
   "source": [
    "import time\n",
    "\n",
    "def main2():\n",
    "\n",
    "    tic = time.perf_counter()\n",
    "\n",
    "    for x in myroot[1]:\n",
    "        if x.attrib['LABEL'] == 'CustomLine:confins':\n",
    "            id_confins = x.attrib['ID']\n",
    "        elif x.attrib['LABEL'] == 'CustomLine:francs':\n",
    "            id_francs = x.attrib['ID']\n",
    "        elif x.attrib['LABEL'] == 'CustomLine:mutations':\n",
    "            id_mutations = x.attrib['ID']\n",
    "\n",
    "    toc = time.perf_counter()\n",
    "\n",
    "    print(f\"function taking {toc - tic:0.4f} seconds\")\n",
    "\n",
    "\n",
    "    print('Confins:',id_confins,', ' 'francs:', id_francs,', ','mutations:', id_mutations)\n",
    "    \n",
    "main2()"
   ]
  },
  {
   "cell_type": "markdown",
   "metadata": {},
   "source": [
    "Let's go back to what was our problem, finding all textlines and removing textlinesn in which TAGREFS matches the ID of mutations.\n",
    "First, finding all textlines:"
   ]
  },
  {
   "cell_type": "code",
   "execution_count": 57,
   "metadata": {
    "scrolled": true
   },
   "outputs": [
    {
     "name": "stdout",
     "output_type": "stream",
     "text": [
      "{'ID': 'eSc_line_4d4c4eef', 'TAGREFS': 'LT142', 'BASELINE': '3207 1639 3314 1623', 'HPOS': '3191', 'VPOS': '1595', 'WIDTH': '131', 'HEIGHT': '66'}\n",
      "{'ID': 'eSc_line_951b83e7', 'TAGREFS': 'LT140', 'BASELINE': '1860 1839 1974 1837', 'HPOS': '1859', 'VPOS': '1788', 'WIDTH': '124', 'HEIGHT': '99'}\n",
      "{'ID': 'eSc_line_b1d69b29', 'TAGREFS': 'LT142', 'BASELINE': '3159 2877 3331 2872', 'HPOS': '3148', 'VPOS': '2808', 'WIDTH': '181', 'HEIGHT': '90'}\n",
      "{'ID': 'eSc_line_fee73231', 'TAGREFS': 'LT142', 'BASELINE': '3227 4729 3321 4726', 'HPOS': '3222', 'VPOS': '4661', 'WIDTH': '96', 'HEIGHT': '101'}\n",
      "{'ID': 'eSc_line_e7ead31c', 'TAGREFS': 'LT146', 'BASELINE': '1028 468 3516 401', 'HPOS': '1017', 'VPOS': '203', 'WIDTH': '2499', 'HEIGHT': '282'}\n",
      "{'ID': 'eSc_line_63141b09', 'TAGREFS': 'LT145', 'BASELINE': '293 497 802 480', 'HPOS': '288', 'VPOS': '355', 'WIDTH': '514', 'HEIGHT': '181'}\n",
      "{'ID': 'eSc_line_46ca1056', 'TAGREFS': 'LT145', 'BASELINE': '367 723 4019 638', 'HPOS': '361', 'VPOS': '519', 'WIDTH': '3707', 'HEIGHT': '238'}\n",
      "{'ID': 'eSc_line_5a66043a', 'TAGREFS': 'LT145', 'BASELINE': '373 864 2470 841 3968 791', 'HPOS': '367', 'VPOS': '672', 'WIDTH': '3601', 'HEIGHT': '220'}\n",
      "{'ID': 'eSc_line_bc0d15ef', 'TAGREFS': 'LT145', 'BASELINE': '380 1020 555 1017', 'HPOS': '378', 'VPOS': '975', 'WIDTH': '175', 'HEIGHT': '58'}\n",
      "{'ID': 'eSc_line_e96492fa', 'TAGREFS': 'LT145', 'BASELINE': '3159 1022 3261 1022', 'HPOS': '3159', 'VPOS': '954', 'WIDTH': '102', 'HEIGHT': '108'}\n",
      "{'ID': 'eSc_line_97465998', 'TAGREFS': 'LT145', 'BASELINE': '3420 1022 3566 1011', 'HPOS': '3408', 'VPOS': '937', 'WIDTH': '158', 'HEIGHT': '108'}\n",
      "{'ID': 'eSc_line_418c8203', 'TAGREFS': 'LT145', 'BASELINE': '1345 1045 2583 1028', 'HPOS': '1339', 'VPOS': '949', 'WIDTH': '1244', 'HEIGHT': '124'}\n",
      "{'ID': 'eSc_line_063f041b', 'TAGREFS': 'LT145', 'BASELINE': '691 1050 777 1050', 'HPOS': '689', 'VPOS': '971', 'WIDTH': '85', 'HEIGHT': '115'}\n",
      "{'ID': 'eSc_line_a971367a', 'TAGREFS': 'LT145', 'BASELINE': '377 1074 573 1074', 'HPOS': '373', 'VPOS': '1044', 'WIDTH': '210', 'HEIGHT': '55'}\n",
      "{'ID': 'eSc_line_df3bcf15', 'TAGREFS': 'LT145', 'BASELINE': '3685 1084 4166 1096', 'HPOS': '3680', 'VPOS': '1015', 'WIDTH': '486', 'HEIGHT': '101'}\n",
      "{'ID': 'eSc_line_965fd36a', 'TAGREFS': 'LT145', 'BASELINE': '3382 1107 3595 1101', 'HPOS': '3380', 'VPOS': '1036', 'WIDTH': '209', 'HEIGHT': '94'}\n",
      "{'ID': 'eSc_line_51cdc877', 'TAGREFS': 'LT145', 'BASELINE': '3086 1118 3320 1108', 'HPOS': '3080', 'VPOS': '1063', 'WIDTH': '238', 'HEIGHT': '112'}\n",
      "{'ID': 'eSc_line_61080071', 'TAGREFS': 'LT145', 'BASELINE': '356 1124 581 1127', 'HPOS': '348', 'VPOS': '1100', 'WIDTH': '231', 'HEIGHT': '44'}\n",
      "{'ID': 'eSc_line_dca3a1f2', 'TAGREFS': 'LT145', 'BASELINE': '694 1133 768 1133', 'HPOS': '689', 'VPOS': '1110', 'WIDTH': '83', 'HEIGHT': '59'}\n",
      "{'ID': 'eSc_line_025bc0e1', 'TAGREFS': 'LT145', 'BASELINE': '386 1180 567 1180', 'HPOS': '384', 'VPOS': '1145', 'WIDTH': '192', 'HEIGHT': '64'}\n",
      "{'ID': 'eSc_line_eb812fb5', 'TAGREFS': 'LT145', 'BASELINE': '2351 1220 2583 1220', 'HPOS': '2351', 'VPOS': '1158', 'WIDTH': '232', 'HEIGHT': '90'}\n",
      "{'ID': 'eSc_line_1f131832', 'TAGREFS': 'LT145', 'BASELINE': '1475 1226 1673 1226', 'HPOS': '1475', 'VPOS': '1158', 'WIDTH': '198', 'HEIGHT': '124'}\n",
      "{'ID': 'eSc_line_749ba834', 'TAGREFS': 'LT145', 'BASELINE': '359 1228 585 1231', 'HPOS': '354', 'VPOS': '1191', 'WIDTH': '235', 'HEIGHT': '53'}\n",
      "{'ID': 'eSc_line_4fbf3f9d', 'TAGREFS': 'LT145', 'BASELINE': '932 1237 1213 1237', 'HPOS': '927', 'VPOS': '1146', 'WIDTH': '282', 'HEIGHT': '130'}\n",
      "{'ID': 'eSc_line_d45cf1ec', 'TAGREFS': 'LT145', 'BASELINE': '644 1240 813 1240', 'HPOS': '638', 'VPOS': '1189', 'WIDTH': '170', 'HEIGHT': '99'}\n",
      "{'ID': 'eSc_line_e4c659a7', 'TAGREFS': 'LT145', 'BASELINE': '3420 1248 3575 1238', 'HPOS': '3413', 'VPOS': '1204', 'WIDTH': '159', 'HEIGHT': '58'}\n",
      "{'ID': 'eSc_line_b280df1c', 'TAGREFS': 'LT145', 'BASELINE': '3137 1254 3275 1254', 'HPOS': '3131', 'VPOS': '1211', 'WIDTH': '144', 'HEIGHT': '59'}\n",
      "{'ID': 'eSc_line_9b0a01ba', 'TAGREFS': 'LT145', 'BASELINE': '356 1278 581 1284', 'HPOS': '342', 'VPOS': '1245', 'WIDTH': '234', 'HEIGHT': '58'}\n",
      "{'ID': 'eSc_line_005f543b', 'TAGREFS': 'LT144', 'BASELINE': '3673 1512 4150 1524', 'HPOS': '3663', 'VPOS': '1367', 'WIDTH': '486', 'HEIGHT': '203'}\n",
      "{'ID': 'eSc_line_88b737b8', 'TAGREFS': 'LT142', 'BASELINE': '3465 1514 3572 1553', 'HPOS': '3461', 'VPOS': '1439', 'WIDTH': '180', 'HEIGHT': '131'}\n",
      "{'ID': 'eSc_line_41573b14', 'TAGREFS': 'LT142', 'BASELINE': '3190 1524 3314 1518', 'HPOS': '3188', 'VPOS': '1455', 'WIDTH': '148', 'HEIGHT': '98'}\n",
      "{'ID': 'eSc_line_ee470e80', 'TAGREFS': 'LT141', 'BASELINE': '4192 1536 4236 1536', 'HPOS': '4188', 'VPOS': '1446', 'WIDTH': '46', 'HEIGHT': '147'}\n",
      "{'ID': 'eSc_line_e5b21113', 'TAGREFS': 'LT140', 'BASELINE': '1854 1565 3046 1531', 'HPOS': '1854', 'VPOS': '1401', 'WIDTH': '1192', 'HEIGHT': '248'}\n",
      "{'ID': 'eSc_line_5a0feb89', 'TAGREFS': 'LT143', 'BASELINE': '1334 1570 1665 1571 1695 1565', 'HPOS': '1284', 'VPOS': '1460', 'WIDTH': '456', 'HEIGHT': '223'}\n",
      "{'ID': 'eSc_line_e0a1e25d', 'TAGREFS': 'LT143', 'BASELINE': '872 1574 1288 1570', 'HPOS': '864', 'VPOS': '1452', 'WIDTH': '419', 'HEIGHT': '163'}\n",
      "{'ID': 'eSc_line_c2a79eaf', 'TAGREFS': 'LT143', 'BASELINE': '587 1576 830 1574', 'HPOS': '582', 'VPOS': '1446', 'WIDTH': '243', 'HEIGHT': '181'}\n",
      "{'ID': 'eSc_line_76b61f05', 'TAGREFS': 'LT142', 'BASELINE': '3196 1589 3308 1586', 'HPOS': '3193', 'VPOS': '1542', 'WIDTH': '132', 'HEIGHT': '60'}\n",
      "{'ID': 'eSc_line_58b314b0', 'TAGREFS': 'LT142', 'BASELINE': '3538 1593 3629 1595', 'HPOS': '3533', 'VPOS': '1535', 'WIDTH': '106', 'HEIGHT': '91'}\n",
      "{'ID': 'eSc_line_058f3f35', 'TAGREFS': 'LT144', 'BASELINE': '3670 1596 4070 1604', 'HPOS': '3663', 'VPOS': '1519', 'WIDTH': '401', 'HEIGHT': '136'}\n",
      "{'ID': 'eSc_line_44c2a695', 'TAGREFS': 'LT143', 'BASELINE': '1435 1643 1734 1628', 'HPOS': '1430', 'VPOS': '1571', 'WIDTH': '313', 'HEIGHT': '89'}\n",
      "{'ID': 'eSc_line_7cd4c096', 'TAGREFS': 'LT140', 'BASELINE': '1856 1655 1938 1655', 'HPOS': '1854', 'VPOS': '1570', 'WIDTH': '79', 'HEIGHT': '125'}\n",
      "{'ID': 'eSc_line_50955497', 'TAGREFS': 'LT144', 'BASELINE': '3668 1711 4114 1701 4205 1727', 'HPOS': '3657', 'VPOS': '1615', 'WIDTH': '561', 'HEIGHT': '147'}\n",
      "{'ID': 'eSc_line_abf6760a', 'TAGREFS': 'LT140', 'BASELINE': '1862 1745 1950 1745', 'HPOS': '1859', 'VPOS': '1661', 'WIDTH': '85', 'HEIGHT': '130'}\n",
      "{'ID': 'eSc_line_4bf3374f', 'TAGREFS': 'LT143', 'BASELINE': '1339 1751 1622 1743', 'HPOS': '1334', 'VPOS': '1661', 'WIDTH': '294', 'HEIGHT': '126'}\n",
      "{'ID': 'eSc_line_7f254ad0', 'TAGREFS': 'LT140', 'BASELINE': '1862 2010 2894 1988', 'HPOS': '1859', 'VPOS': '1847', 'WIDTH': '1029', 'HEIGHT': '198'}\n",
      "{'ID': 'eSc_line_d71f7239', 'TAGREFS': 'LT144', 'BASELINE': '3680 1796 4143 1796', 'HPOS': '3680', 'VPOS': '1723', 'WIDTH': '463', 'HEIGHT': '124'}\n",
      "{'ID': 'eSc_line_f1588d80', 'TAGREFS': 'LT142', 'BASELINE': '3510 1971 3640 1971', 'HPOS': '3504', 'VPOS': '1904', 'WIDTH': '168', 'HEIGHT': '130'}\n",
      "{'ID': 'eSc_line_d7bf05bb', 'TAGREFS': 'LT144', 'BASELINE': '3673 1971 4120 1971', 'HPOS': '3668', 'VPOS': '1841', 'WIDTH': '465', 'HEIGHT': '181'}\n",
      "{'ID': 'eSc_line_f1e600ca', 'TAGREFS': 'LT142', 'BASELINE': '3211 1978 3341 1978', 'HPOS': '3210', 'VPOS': '1870', 'WIDTH': '130', 'HEIGHT': '135'}\n",
      "{'ID': 'eSc_line_80bd4032', 'TAGREFS': 'LT141', 'BASELINE': '4198 2016 4221 2016', 'HPOS': '4194', 'VPOS': '1937', 'WIDTH': '23', 'HEIGHT': '119'}\n",
      "{'ID': 'eSc_line_f9f7793e', 'TAGREFS': 'LT143', 'BASELINE': '1317 2022 1826 2011', 'HPOS': '1244', 'VPOS': '1881', 'WIDTH': '591', 'HEIGHT': '251'}\n",
      "{'ID': 'eSc_line_e6b3f53d', 'TAGREFS': 'LT143', 'BASELINE': '866 2023 1221 2017', 'HPOS': '864', 'VPOS': '1875', 'WIDTH': '351', 'HEIGHT': '273'}\n",
      "{'ID': 'eSc_line_187ca59b', 'TAGREFS': 'LT143', 'BASELINE': '604 2028 833 2024', 'HPOS': '599', 'VPOS': '1926', 'WIDTH': '250', 'HEIGHT': '147'}\n",
      "{'ID': 'eSc_line_d99a639f', 'TAGREFS': 'LT142', 'BASELINE': '3195 2045 3304 2038', 'HPOS': '3193', 'VPOS': '1984', 'WIDTH': '130', 'HEIGHT': '78'}\n",
      "{'ID': 'eSc_line_9222a419', 'TAGREFS': 'LT142', 'BASELINE': '3575 2049 3646 2040', 'HPOS': '3561', 'VPOS': '1971', 'WIDTH': '79', 'HEIGHT': '96'}\n",
      "{'ID': 'eSc_line_ec1cb1c0', 'TAGREFS': 'LT144', 'BASELINE': '3943 2053 4149 2067', 'HPOS': '3892', 'VPOS': '1984', 'WIDTH': '279', 'HEIGHT': '145'}\n",
      "{'ID': 'eSc_line_fdf45724', 'TAGREFS': 'LT140', 'BASELINE': '1859 2107 1962 2112 2229 2101 2526 2101', 'HPOS': '1854', 'VPOS': '2028', 'WIDTH': '693', 'HEIGHT': '93'}\n",
      "{'ID': 'eSc_line_d7679b05', 'TAGREFS': 'LT140', 'BASELINE': '1848 2197 2781 2175', 'HPOS': '1845', 'VPOS': '2111', 'WIDTH': '944', 'HEIGHT': '109'}\n",
      "{'ID': 'eSc_line_6c3b2329', 'TAGREFS': 'LT140', 'BASELINE': '1842 2288 2905 2271', 'HPOS': '1842', 'VPOS': '2205', 'WIDTH': '1063', 'HEIGHT': '168'}\n",
      "{'ID': 'eSc_line_741000b9', 'TAGREFS': 'LT144', 'BASELINE': '3685 2424 4154 2412', 'HPOS': '3674', 'VPOS': '2305', 'WIDTH': '475', 'HEIGHT': '181'}\n",
      "{'ID': 'eSc_line_c0d1b2dc', 'TAGREFS': 'LT142', 'BASELINE': '3493 2429 3646 2425', 'HPOS': '3487', 'VPOS': '2316', 'WIDTH': '153', 'HEIGHT': '147'}\n",
      "{'ID': 'eSc_line_a1a34590', 'TAGREFS': 'LT141', 'BASELINE': '4186 2434 4209 2437', 'HPOS': '4183', 'VPOS': '2413', 'WIDTH': '36', 'HEIGHT': '44'}\n",
      "{'ID': 'eSc_line_fbf0c748', 'TAGREFS': 'LT142', 'BASELINE': '3177 2435 3306 2435', 'HPOS': '3176', 'VPOS': '2389', 'WIDTH': '174', 'HEIGHT': '60'}\n",
      "{'ID': 'eSc_line_5ab7d6ad', 'TAGREFS': 'LT140', 'BASELINE': '1862 2448 2656 2435', 'HPOS': '1856', 'VPOS': '2350', 'WIDTH': '795', 'HEIGHT': '121'}\n",
      "{'ID': 'eSc_line_d8e38e8d', 'TAGREFS': 'LT143', 'BASELINE': '1319 2457 1850 2448', 'HPOS': '1311', 'VPOS': '2344', 'WIDTH': '537', 'HEIGHT': '153'}\n",
      "{'ID': 'eSc_line_281d4a99', 'TAGREFS': 'LT143', 'BASELINE': '893 2464 1287 2457', 'HPOS': '881', 'VPOS': '2288', 'WIDTH': '402', 'HEIGHT': '226'}\n",
      "{'ID': 'eSc_line_8335932d', 'TAGREFS': 'LT143', 'BASELINE': '604 2469 857 2465', 'HPOS': '599', 'VPOS': '2350', 'WIDTH': '254', 'HEIGHT': '147'}\n",
      "{'ID': 'eSc_line_91f4a52c', 'TAGREFS': 'LT144', 'BASELINE': '3866 2514 4143 2514', 'HPOS': '3866', 'VPOS': '2429', 'WIDTH': '277', 'HEIGHT': '147'}\n",
      "{'ID': 'eSc_line_a70ea53f', 'TAGREFS': 'LT142', 'BASELINE': '3126 2531 3329 2531', 'HPOS': '3126', 'VPOS': '2443', 'WIDTH': '219', 'HEIGHT': '144'}\n",
      "{'ID': 'eSc_line_fb407d2f', 'TAGREFS': 'LT142', 'BASELINE': '3476 2531 3652 2511', 'HPOS': '3459', 'VPOS': '2418', 'WIDTH': '192', 'HEIGHT': '164'}\n",
      "{'ID': 'eSc_line_5dc6f4a7', 'TAGREFS': 'LT140', 'BASELINE': '1842 2559 2820 2531', 'HPOS': '1842', 'VPOS': '2456', 'WIDTH': '978', 'HEIGHT': '120'}\n",
      "{'ID': 'eSc_line_bac060b6', 'TAGREFS': 'LT144', 'BASELINE': '3651 2627 4149 2610', 'HPOS': '3640', 'VPOS': '2497', 'WIDTH': '509', 'HEIGHT': '248'}\n",
      "{'ID': 'eSc_line_3004ef1b', 'TAGREFS': 'LT140', 'BASELINE': '1848 2649 2928 2621', 'HPOS': '1842', 'VPOS': '2536', 'WIDTH': '1086', 'HEIGHT': '142'}\n",
      "{'ID': 'eSc_line_c561889d', 'TAGREFS': 'LT144', 'BASELINE': '3685 2884 4109 2864', 'HPOS': '3668', 'VPOS': '2762', 'WIDTH': '436', 'HEIGHT': '181'}\n",
      "{'ID': 'eSc_line_d84c5ff1', 'TAGREFS': 'LT140', 'BASELINE': '1871 2896 2922 2881', 'HPOS': '1865', 'VPOS': '2734', 'WIDTH': '1051', 'HEIGHT': '204'}\n",
      "{'ID': 'eSc_line_a536d9da', 'TAGREFS': 'LT143', 'BASELINE': '616 2904 847 2892', 'HPOS': '604', 'VPOS': '2774', 'WIDTH': '243', 'HEIGHT': '293'}\n",
      "{'ID': 'eSc_line_9a42c3cb', 'TAGREFS': 'LT143', 'BASELINE': '1294 2904 1817 2897', 'HPOS': '1283', 'VPOS': '2779', 'WIDTH': '531', 'HEIGHT': '260'}\n",
      "{'ID': 'eSc_line_b084585d', 'TAGREFS': 'LT143', 'BASELINE': '955 2909 1062 2904', 'HPOS': '944', 'VPOS': '2774', 'WIDTH': '118', 'HEIGHT': '169'}\n",
      "{'ID': 'eSc_line_6268560b', 'TAGREFS': 'LT140', 'BASELINE': '1854 3084 2696 3062', 'HPOS': '1854', 'VPOS': '2988', 'WIDTH': '850', 'HEIGHT': '125'}\n",
      "{'ID': 'eSc_line_6a70e58e', 'TAGREFS': 'LT141', 'BASELINE': '4186 2647 4224 2647', 'HPOS': '4183', 'VPOS': '2609', 'WIDTH': '45', 'HEIGHT': '57'}\n",
      "{'ID': 'eSc_line_806c239d', 'TAGREFS': 'LT144', 'BASELINE': '3940 2712 4154 2712', 'HPOS': '3940', 'VPOS': '2615', 'WIDTH': '214', 'HEIGHT': '153'}\n",
      "{'ID': 'eSc_line_bc3f92f1', 'TAGREFS': 'LT140', 'BASELINE': '1837 2740 2577 2723', 'HPOS': '1831', 'VPOS': '2632', 'WIDTH': '746', 'HEIGHT': '147'}\n",
      "{'ID': 'eSc_line_471b5b24', 'TAGREFS': 'LT142', 'BASELINE': '3504 2892 3664 2885', 'HPOS': '3499', 'VPOS': '2817', 'WIDTH': '180', 'HEIGHT': '98'}\n",
      "{'ID': 'eSc_line_0bcbfb80', 'TAGREFS': 'LT141', 'BASELINE': '4189 2905 4215 2905', 'HPOS': '4188', 'VPOS': '2874', 'WIDTH': '27', 'HEIGHT': '86'}\n",
      "{'ID': 'eSc_line_033ed0e7', 'TAGREFS': 'LT144', 'BASELINE': '3753 2966 4132 2977', 'HPOS': '3747', 'VPOS': '2875', 'WIDTH': '385', 'HEIGHT': '170'}\n",
      "{'ID': 'eSc_line_3dc84024', 'TAGREFS': 'LT142', 'BASELINE': '3148 2977 3306 2966', 'HPOS': '3148', 'VPOS': '2892', 'WIDTH': '189', 'HEIGHT': '96'}\n",
      "{'ID': 'eSc_line_cbf9d83b', 'TAGREFS': 'LT142', 'BASELINE': '3520 2982 3659 2977', 'HPOS': '3516', 'VPOS': '2917', 'WIDTH': '154', 'HEIGHT': '88'}\n",
      "{'ID': 'eSc_line_a08896d9', 'TAGREFS': 'LT140', 'BASELINE': '1865 2988 1972 2988 2119 2988 2413 2983', 'HPOS': '1859', 'VPOS': '2920', 'WIDTH': '582', 'HEIGHT': '84'}\n",
      "{'ID': 'eSc_line_da5f0dbb', 'TAGREFS': 'LT140', 'BASELINE': '1848 3180 2899 3158', 'HPOS': '1848', 'VPOS': '3104', 'WIDTH': '1051', 'HEIGHT': '116'}\n",
      "{'ID': 'eSc_line_1e4b0652', 'TAGREFS': 'LT142', 'BASELINE': '3510 3327 3661 3329', 'HPOS': '3499', 'VPOS': '3237', 'WIDTH': '158', 'HEIGHT': '130'}\n",
      "{'ID': 'eSc_line_0932347e', 'TAGREFS': 'LT144', 'BASELINE': '3676 3329 4041 3333', 'HPOS': '3674', 'VPOS': '3180', 'WIDTH': '362', 'HEIGHT': '232'}\n",
      "{'ID': 'eSc_line_8e0b33dc', 'TAGREFS': 'LT142', 'BASELINE': '3178 3332 3356 3332', 'HPOS': '3176', 'VPOS': '3226', 'WIDTH': '178', 'HEIGHT': '117'}\n",
      "{'ID': 'eSc_line_d6026f26', 'TAGREFS': 'LT140', 'BASELINE': '1848 3333 2730 3333', 'HPOS': '1848', 'VPOS': '3209', 'WIDTH': '882', 'HEIGHT': '157'}\n",
      "{'ID': 'eSc_line_978f45c2', 'TAGREFS': 'LT143', 'BASELINE': '1294 3339 1820 3339', 'HPOS': '1294', 'VPOS': '3220', 'WIDTH': '526', 'HEIGHT': '226'}\n",
      "{'ID': 'eSc_line_02ad78b2', 'TAGREFS': 'LT143', 'BASELINE': '610 3350 870 3339', 'HPOS': '604', 'VPOS': '3214', 'WIDTH': '266', 'HEIGHT': '238'}\n",
      "{'ID': 'eSc_line_c201559d', 'TAGREFS': 'LT143', 'BASELINE': '994 3350 1085 3339', 'HPOS': '977', 'VPOS': '3214', 'WIDTH': '108', 'HEIGHT': '181'}\n",
      "{'ID': 'eSc_line_7755577a', 'TAGREFS': 'LT142', 'BASELINE': '3510 3406 3634 3412', 'HPOS': '3510', 'VPOS': '3351', 'WIDTH': '166', 'HEIGHT': '98'}\n",
      "{'ID': 'eSc_line_addf9f1d', 'TAGREFS': 'LT144', 'BASELINE': '3900 3412 4160 3418', 'HPOS': '3894', 'VPOS': '3322', 'WIDTH': '266', 'HEIGHT': '147'}\n",
      "{'ID': 'eSc_line_91bc9b14', 'TAGREFS': 'LT142', 'BASELINE': '3176 3418 3357 3406', 'HPOS': '3176', 'VPOS': '3336', 'WIDTH': '192', 'HEIGHT': '127'}\n",
      "{'ID': 'eSc_line_8482e355', 'TAGREFS': 'LT140', 'BASELINE': '1871 3429 1984 3429 2114 3429 2419 3423', 'HPOS': '1861', 'VPOS': '3357', 'WIDTH': '579', 'HEIGHT': '82'}\n",
      "{'ID': 'eSc_line_40324311', 'TAGREFS': 'LT144', 'BASELINE': '3668 3514 4149 3514', 'HPOS': '3668', 'VPOS': '3361', 'WIDTH': '481', 'HEIGHT': '221'}\n",
      "{'ID': 'eSc_line_0ed40b9e', 'TAGREFS': 'LT140', 'BASELINE': '1865 3519 2781 3503', 'HPOS': '1859', 'VPOS': '3429', 'WIDTH': '922', 'HEIGHT': '136'}\n",
      "{'ID': 'eSc_line_a5517440', 'TAGREFS': 'LT144', 'BASELINE': '3917 3604 4149 3593', 'HPOS': '3911', 'VPOS': '3519', 'WIDTH': '238', 'HEIGHT': '142'}\n",
      "{'ID': 'eSc_line_d8b27850', 'TAGREFS': 'LT140', 'BASELINE': '1854 3616 2945 3599', 'HPOS': '1848', 'VPOS': '3514', 'WIDTH': '1097', 'HEIGHT': '158'}\n",
      "{'ID': 'eSc_line_d9e2503b', 'TAGREFS': 'LT143', 'BASELINE': '916 3773 1215 3768', 'HPOS': '915', 'VPOS': '3644', 'WIDTH': '330', 'HEIGHT': '254'}\n",
      "{'ID': 'eSc_line_90bdc9dc', 'TAGREFS': 'LT142', 'BASELINE': '3188 3774 3318 3768', 'HPOS': '3188', 'VPOS': '3700', 'WIDTH': '176', 'HEIGHT': '97'}\n",
      "{'ID': 'eSc_line_01160928', 'TAGREFS': 'LT142', 'BASELINE': '3510 3774 3643 3775', 'HPOS': '3499', 'VPOS': '3638', 'WIDTH': '141', 'HEIGHT': '158'}\n",
      "{'ID': 'eSc_line_e00cd205', 'TAGREFS': 'LT144', 'BASELINE': '3694 3775 4132 3779', 'HPOS': '3691', 'VPOS': '3649', 'WIDTH': '435', 'HEIGHT': '170'}\n",
      "{'ID': 'eSc_line_9476071f', 'TAGREFS': 'LT143', 'BASELINE': '616 3779 863 3774', 'HPOS': '604', 'VPOS': '3599', 'WIDTH': '255', 'HEIGHT': '226'}\n",
      "{'ID': 'eSc_line_0192177a', 'TAGREFS': 'LT143', 'BASELINE': '1328 3779 1707 3762', 'HPOS': '1317', 'VPOS': '3644', 'WIDTH': '390', 'HEIGHT': '231'}\n",
      "{'ID': 'eSc_line_b4b1e2a6', 'TAGREFS': 'LT140', 'BASELINE': '1871 3779 2815 3745', 'HPOS': '1871', 'VPOS': '3651', 'WIDTH': '944', 'HEIGHT': '168'}\n",
      "{'ID': 'eSc_line_9772f635', 'TAGREFS': 'LT142', 'BASELINE': '3199 3839 3332 3824', 'HPOS': '3185', 'VPOS': '3786', 'WIDTH': '150', 'HEIGHT': '106'}\n",
      "{'ID': 'eSc_line_4a5cd8b8', 'TAGREFS': 'LT142', 'BASELINE': '3533 3847 3670 3844', 'HPOS': '3527', 'VPOS': '3745', 'WIDTH': '141', 'HEIGHT': '142'}\n",
      "{'ID': 'eSc_line_9d5dd4c7', 'TAGREFS': 'LT140', 'BASELINE': '1865 3870 2939 3858', 'HPOS': '1859', 'VPOS': '3779', 'WIDTH': '1080', 'HEIGHT': '125'}\n",
      "{'ID': 'eSc_line_b3ab0a83', 'TAGREFS': 'LT144', 'BASELINE': '3911 3875 4166 3864', 'HPOS': '3906', 'VPOS': '3785', 'WIDTH': '260', 'HEIGHT': '130'}\n",
      "{'ID': 'eSc_line_6dea1e83', 'TAGREFS': 'LT140', 'BASELINE': '1865 3960 2820 3955', 'HPOS': '1862', 'VPOS': '3881', 'WIDTH': '958', 'HEIGHT': '107'}\n",
      "{'ID': 'eSc_line_7baccad9', 'TAGREFS': 'LT140', 'BASELINE': '1854 4056 2752 4045 2922 4017', 'HPOS': '1854', 'VPOS': '3973', 'WIDTH': '1068', 'HEIGHT': '117'}\n",
      "{'ID': 'eSc_line_16195024', 'TAGREFS': 'LT140', 'BASELINE': '1879 4222 2956 4214', 'HPOS': '1876', 'VPOS': '4079', 'WIDTH': '1074', 'HEIGHT': '169'}\n",
      "{'ID': 'eSc_line_068cfadf', 'TAGREFS': 'LT143', 'BASELINE': '1331 4226 1844 4222', 'HPOS': '1328', 'VPOS': '4073', 'WIDTH': '514', 'HEIGHT': '271'}\n",
      "{'ID': 'eSc_line_ccc32467', 'TAGREFS': 'LT143', 'BASELINE': '901 4229 1296 4226', 'HPOS': '898', 'VPOS': '4077', 'WIDTH': '443', 'HEIGHT': '369'}\n",
      "{'ID': 'eSc_line_58b6a615', 'TAGREFS': 'LT143', 'BASELINE': '627 4231 863 4229', 'HPOS': '621', 'VPOS': '4084', 'WIDTH': '238', 'HEIGHT': '170'}\n",
      "{'ID': 'eSc_line_97218711', 'TAGREFS': 'LT142', 'BASELINE': '3199 4231 3335 4231', 'HPOS': '3199', 'VPOS': '4138', 'WIDTH': '195', 'HEIGHT': '150'}\n",
      "{'ID': 'eSc_line_6d05da5c', 'TAGREFS': 'LT144', 'BASELINE': '3691 4232 4178 4220', 'HPOS': '3685', 'VPOS': '4147', 'WIDTH': '495', 'HEIGHT': '136'}\n",
      "{'ID': 'eSc_line_4822d058', 'TAGREFS': 'LT142', 'BASELINE': '3482 4237 3649 4233', 'HPOS': '3476', 'VPOS': '4161', 'WIDTH': '178', 'HEIGHT': '116'}\n",
      "{'ID': 'eSc_line_3eaa014d', 'TAGREFS': 'LT140', 'BASELINE': '1871 4310 1989 4310 2136 4310 2707 4305', 'HPOS': '1865', 'VPOS': '4257', 'WIDTH': '857', 'HEIGHT': '99'}\n",
      "{'ID': 'eSc_line_5f723920', 'TAGREFS': 'LT144', 'BASELINE': '3736 4322 4154 4333', 'HPOS': '3730', 'VPOS': '4226', 'WIDTH': '424', 'HEIGHT': '226'}\n",
      "{'ID': 'eSc_line_f025db46', 'TAGREFS': 'LT140', 'BASELINE': '1876 4401 1978 4401', 'HPOS': '1872', 'VPOS': '4353', 'WIDTH': '111', 'HEIGHT': '69'}\n",
      "{'ID': 'eSc_line_fff2af58', 'TAGREFS': 'LT140', 'BASELINE': '1882 4496 2012 4486', 'HPOS': '1876', 'VPOS': '4434', 'WIDTH': '130', 'HEIGHT': '80'}\n",
      "{'ID': 'eSc_line_02fea7a3', 'TAGREFS': 'LT143', 'BASELINE': '1317 4655 1856 4659', 'HPOS': '1305', 'VPOS': '4508', 'WIDTH': '549', 'HEIGHT': '339'}\n",
      "{'ID': 'eSc_line_138f2f1d', 'TAGREFS': 'LT140', 'BASELINE': '1876 4659 2871 4666', 'HPOS': '1871', 'VPOS': '4570', 'WIDTH': '1024', 'HEIGHT': '172'}\n",
      "{'ID': 'eSc_line_154f67db', 'TAGREFS': 'LT142', 'BASELINE': '3225 4660 3332 4662', 'HPOS': '3216', 'VPOS': '4613', 'WIDTH': '129', 'HEIGHT': '70'}\n",
      "{'ID': 'eSc_line_cd771e36', 'TAGREFS': 'LT143', 'BASELINE': '901 4665 1226 4655', 'HPOS': '898', 'VPOS': '4529', 'WIDTH': '359', 'HEIGHT': '256'}\n",
      "{'ID': 'eSc_line_62721943', 'TAGREFS': 'LT142', 'BASELINE': '3498 4671 3640 4671', 'HPOS': '3493', 'VPOS': '4604', 'WIDTH': '161', 'HEIGHT': '84'}\n",
      "{'ID': 'eSc_line_f5dd1f28', 'TAGREFS': 'LT143', 'BASELINE': '633 4672 872 4665', 'HPOS': '621', 'VPOS': '4503', 'WIDTH': '249', 'HEIGHT': '271'}\n",
      "{'ID': 'eSc_line_9cc64c8a', 'TAGREFS': 'LT144', 'BASELINE': '3713 4683 4120 4666', 'HPOS': '3708', 'VPOS': '4536', 'WIDTH': '412', 'HEIGHT': '255'}\n",
      "{'ID': 'eSc_line_c97429ea', 'TAGREFS': 'LT142', 'BASELINE': '3521 4729 3655 4727', 'HPOS': '3506', 'VPOS': '4680', 'WIDTH': '169', 'HEIGHT': '99'}\n",
      "{'ID': 'eSc_line_d3c76c14', 'TAGREFS': 'LT140', 'BASELINE': '1893 4751 1950 4751', 'HPOS': '1893', 'VPOS': '4697', 'WIDTH': '64', 'HEIGHT': '84'}\n",
      "{'ID': 'eSc_line_6a058129', 'TAGREFS': 'LT144', 'BASELINE': '3937 4757 4166 4757', 'HPOS': '3934', 'VPOS': '4672', 'WIDTH': '226', 'HEIGHT': '164'}\n",
      "{'ID': 'eSc_line_387b2703', 'TAGREFS': 'LT140', 'BASELINE': '1876 4842 1984 4842', 'HPOS': '1876', 'VPOS': '4797', 'WIDTH': '112', 'HEIGHT': '62'}\n",
      "{'ID': 'eSc_line_113f749f', 'TAGREFS': 'LT140', 'BASELINE': '1878 4933 2006 4943', 'HPOS': '1876', 'VPOS': '4887', 'WIDTH': '132', 'HEIGHT': '79'}\n",
      "{'ID': 'eSc_line_8502be5a', 'TAGREFS': 'LT143', 'BASELINE': '1413 5096 1847 5100', 'HPOS': '1401', 'VPOS': '4983', 'WIDTH': '441', 'HEIGHT': '203'}\n",
      "{'ID': 'eSc_line_e52d72c6', 'TAGREFS': 'LT140', 'BASELINE': '1874 5100 2594 5107', 'HPOS': '1865', 'VPOS': '4972', 'WIDTH': '724', 'HEIGHT': '169'}\n",
      "{'ID': 'eSc_line_caa02f94', 'TAGREFS': 'LT143', 'BASELINE': '899 5106 1322 5096', 'HPOS': '898', 'VPOS': '4926', 'WIDTH': '421', 'HEIGHT': '215'}\n",
      "{'ID': 'eSc_line_1c1edb09', 'TAGREFS': 'LT143', 'BASELINE': '633 5113 866 5107', 'HPOS': '621', 'VPOS': '4943', 'WIDTH': '243', 'HEIGHT': '209'}\n",
      "{'ID': 'eSc_line_f47b56c7', 'TAGREFS': 'LT144', 'BASELINE': '3711 5125 4081 5118', 'HPOS': '3702', 'VPOS': '4994', 'WIDTH': '373', 'HEIGHT': '209'}\n",
      "{'ID': 'eSc_line_c42f618e', 'TAGREFS': 'LT142', 'BASELINE': '3182 5130 3391 5124', 'HPOS': '3182', 'VPOS': '5033', 'WIDTH': '209', 'HEIGHT': '181'}\n",
      "{'ID': 'eSc_line_f8c3419f', 'TAGREFS': 'LT142', 'BASELINE': '3476 5130 3673 5126', 'HPOS': '3470', 'VPOS': '4938', 'WIDTH': '198', 'HEIGHT': '254'}\n",
      "{'ID': 'eSc_line_53a45299', 'TAGREFS': 'LT141', 'BASELINE': '4209 5148 4239 5148', 'HPOS': '4205', 'VPOS': '5051', 'WIDTH': '29', 'HEIGHT': '118'}\n",
      "{'ID': 'eSc_line_dc716a0f', 'TAGREFS': 'LT140', 'BASELINE': '1871 5203 2809 5203', 'HPOS': '1871', 'VPOS': '5124', 'WIDTH': '938', 'HEIGHT': '130'}\n",
      "{'ID': 'eSc_line_1dc4dea0', 'TAGREFS': 'LT144', 'BASELINE': '3916 5220 4171 5220', 'HPOS': '3911', 'VPOS': '5124', 'WIDTH': '255', 'HEIGHT': '170'}\n",
      "{'ID': 'eSc_line_e299c336', 'TAGREFS': 'LT140', 'BASELINE': '1871 5294 2741 5292', 'HPOS': '1865', 'VPOS': '5218', 'WIDTH': '875', 'HEIGHT': '99'}\n",
      "{'ID': 'eSc_line_f8fad4cc', 'TAGREFS': 'LT140', 'BASELINE': '1865 5390 2707 5384', 'HPOS': '1859', 'VPOS': '5309', 'WIDTH': '848', 'HEIGHT': '120'}\n",
      "{'ID': 'eSc_line_1ffdcfa7', 'TAGREFS': 'LT140', 'BASELINE': '1871 5542 2894 5551', 'HPOS': '1859', 'VPOS': '5455', 'WIDTH': '1029', 'HEIGHT': '169'}\n",
      "{'ID': 'eSc_line_d59106a1', 'TAGREFS': 'LT143', 'BASELINE': '638 5553 869 5553', 'HPOS': '633', 'VPOS': '5412', 'WIDTH': '231', 'HEIGHT': '175'}\n",
      "{'ID': 'eSc_line_19db3cfa', 'TAGREFS': 'LT143', 'BASELINE': '899 5553 1311 5553', 'HPOS': '898', 'VPOS': '5432', 'WIDTH': '407', 'HEIGHT': '161'}\n",
      "{'ID': 'eSc_line_003c0741', 'TAGREFS': 'LT143', 'BASELINE': '1418 5553 1820 5542', 'HPOS': '1413', 'VPOS': '5446', 'WIDTH': '407', 'HEIGHT': '237'}\n",
      "{'ID': 'eSc_line_90c0d3fb', 'TAGREFS': 'LT142', 'BASELINE': '3205 5576 3356 5576', 'HPOS': '3199', 'VPOS': '5390', 'WIDTH': '153', 'HEIGHT': '260'}\n",
      "{'ID': 'eSc_line_493829a1', 'TAGREFS': 'LT144', 'BASELINE': '3726 5580 4070 5576', 'HPOS': '3719', 'VPOS': '5446', 'WIDTH': '345', 'HEIGHT': '192'}\n",
      "{'ID': 'eSc_line_960b5f1f', 'TAGREFS': 'LT142', 'BASELINE': '3504 5582 3685 5580', 'HPOS': '3499', 'VPOS': '5407', 'WIDTH': '181', 'HEIGHT': '231'}\n",
      "{'ID': 'eSc_line_499610f5', 'TAGREFS': 'LT140', 'BASELINE': '1888 5650 2933 5661', 'HPOS': '1882', 'VPOS': '5582', 'WIDTH': '1073', 'HEIGHT': '118'}\n",
      "{'ID': 'eSc_line_2f3a919f', 'TAGREFS': 'LT144', 'BASELINE': '3957 5666 4194 5666', 'HPOS': '3940', 'VPOS': '5573', 'WIDTH': '271', 'HEIGHT': '185'}\n",
      "{'ID': 'eSc_line_2d8af3ec', 'TAGREFS': 'LT140', 'BASELINE': '1882 5734 2035 5729 2131 5729 2442 5729', 'HPOS': '1871', 'VPOS': '5644', 'WIDTH': '565', 'HEIGHT': '135'}\n",
      "{'ID': 'eSc_line_df7bee6a', 'TAGREFS': 'LT140', 'BASELINE': '1859 5836 2487 5825', 'HPOS': '1854', 'VPOS': '5740', 'WIDTH': '633', 'HEIGHT': '152'}\n",
      "{'ID': 'eSc_line_0f356ca9', 'TAGREFS': 'LT143', 'BASELINE': '655 5994 866 5996', 'HPOS': '644', 'VPOS': '5887', 'WIDTH': '220', 'HEIGHT': '158'}\n",
      "{'ID': 'eSc_line_a84e67ae', 'TAGREFS': 'LT140', 'BASELINE': '1876 5994 2843 6011', 'HPOS': '1876', 'VPOS': '5897', 'WIDTH': '967', 'HEIGHT': '176'}\n",
      "{'ID': 'eSc_line_5904ad11', 'TAGREFS': 'LT143', 'BASELINE': '899 5996 1362 6000', 'HPOS': '898', 'VPOS': '5887', 'WIDTH': '458', 'HEIGHT': '166'}\n",
      "{'ID': 'eSc_line_90c8798a', 'TAGREFS': 'LT143', 'BASELINE': '1447 6000 1825 5989', 'HPOS': '1441', 'VPOS': '5892', 'WIDTH': '384', 'HEIGHT': '187'}\n",
      "{'ID': 'eSc_line_eb5c7212', 'TAGREFS': 'LT142', 'BASELINE': '3217 6023 3368 6020', 'HPOS': '3216', 'VPOS': '5957', 'WIDTH': '156', 'HEIGHT': '95'}\n",
      "{'ID': 'eSc_line_505d74f6', 'TAGREFS': 'LT141', 'BASELINE': '4227 6035 4254 6032', 'HPOS': '4222', 'VPOS': '5994', 'WIDTH': '46', 'HEIGHT': '67'}\n",
      "{'ID': 'eSc_line_03c519d4', 'TAGREFS': 'LT144', 'BASELINE': '3697 6043 4055 6037', 'HPOS': '3691', 'VPOS': '5926', 'WIDTH': '398', 'HEIGHT': '136'}\n",
      "{'ID': 'eSc_line_fd812c45', 'TAGREFS': 'LT142', 'BASELINE': '3606 6045 3685 6043', 'HPOS': '3600', 'VPOS': '5957', 'WIDTH': '85', 'HEIGHT': '114'}\n",
      "{'ID': 'eSc_line_19f18a7c', 'TAGREFS': 'LT140', 'BASELINE': '1888 6091 2457 6097', 'HPOS': '1876', 'VPOS': '6017', 'WIDTH': '577', 'HEIGHT': '118'}\n",
      "{'ID': 'eSc_line_59c78ac0', 'TAGREFS': 'LT144', 'BASELINE': '3906 6130 4183 6130', 'HPOS': '3894', 'VPOS': '6037', 'WIDTH': '290', 'HEIGHT': '172'}\n",
      "{'ID': 'eSc_line_583b64ed', 'TAGREFS': 'LT140', 'BASELINE': '1876 6192 2792 6192', 'HPOS': '1876', 'VPOS': '6109', 'WIDTH': '934', 'HEIGHT': '111'}\n",
      "{'ID': 'eSc_line_fa109da7', 'TAGREFS': 'LT140', 'BASELINE': '1865 6288 2504 6288 2656 6277 2716 6266 2798 6271', 'HPOS': '1859', 'VPOS': '6209', 'WIDTH': '973', 'HEIGHT': '124'}\n"
     ]
    }
   ],
   "source": [
    "for t in root.iter('{*}TextLine'):\n",
    "    print(t.attrib)"
   ]
  },
  {
   "cell_type": "code",
   "execution_count": 58,
   "metadata": {},
   "outputs": [
    {
     "name": "stdout",
     "output_type": "stream",
     "text": [
      "<Element {http://www.loc.gov/standards/alto/ns-v4#}TextLine at 0x7f7ca139c208>\n"
     ]
    },
    {
     "ename": "ValueError",
     "evalue": "Element is not a child of this node.",
     "output_type": "error",
     "traceback": [
      "\u001b[0;31m---------------------------------------------------------------------------\u001b[0m",
      "\u001b[0;31mValueError\u001b[0m                                Traceback (most recent call last)",
      "\u001b[0;32m<ipython-input-58-5f4794994703>\u001b[0m in \u001b[0;36m<module>\u001b[0;34m\u001b[0m\n\u001b[1;32m      3\u001b[0m     \u001b[0;32mif\u001b[0m \u001b[0mt\u001b[0m\u001b[0;34m.\u001b[0m\u001b[0mattrib\u001b[0m\u001b[0;34m[\u001b[0m\u001b[0;34m'TAGREFS'\u001b[0m\u001b[0;34m]\u001b[0m \u001b[0;34m==\u001b[0m \u001b[0mid_confins\u001b[0m\u001b[0;34m:\u001b[0m\u001b[0;34m\u001b[0m\u001b[0;34m\u001b[0m\u001b[0m\n\u001b[1;32m      4\u001b[0m         \u001b[0mprint\u001b[0m\u001b[0;34m(\u001b[0m\u001b[0mt\u001b[0m\u001b[0;34m)\u001b[0m\u001b[0;34m\u001b[0m\u001b[0;34m\u001b[0m\u001b[0m\n\u001b[0;32m----> 5\u001b[0;31m         \u001b[0mroot\u001b[0m\u001b[0;34m.\u001b[0m\u001b[0mremove\u001b[0m\u001b[0;34m(\u001b[0m\u001b[0mt\u001b[0m\u001b[0;34m)\u001b[0m\u001b[0;34m\u001b[0m\u001b[0;34m\u001b[0m\u001b[0m\n\u001b[0m\u001b[1;32m      6\u001b[0m \u001b[0;34m\u001b[0m\u001b[0m\n",
      "\u001b[0;32msrc/lxml/etree.pyx\u001b[0m in \u001b[0;36mlxml.etree._Element.remove\u001b[0;34m()\u001b[0m\n",
      "\u001b[0;31mValueError\u001b[0m: Element is not a child of this node."
     ]
    }
   ],
   "source": [
    "#not working\n",
    "for t in root.iter('{*}TextLine'):\n",
    "    if t.attrib['TAGREFS'] == id_confins:\n",
    "        print(t)\n",
    "        root.remove(t)\n",
    "        \n"
   ]
  },
  {
   "cell_type": "markdown",
   "metadata": {},
   "source": [
    "The cell above doesn't work because we need the parent of t (a textline) to remove t -> parent.remove(t)\n",
    "\n",
    "The getparent() method saves our life as explained here : https://resultfor.dev/401911-removing-xml-subelement-tags-with-python-using-elementtree-and-remove"
   ]
  },
  {
   "cell_type": "code",
   "execution_count": 59,
   "metadata": {},
   "outputs": [],
   "source": [
    "# working?  (getparent() is from lxml)\n",
    "for t in root.iter('{*}TextLine'):\n",
    "    if t.attrib['TAGREFS'] == id_confins:\n",
    "        #print(t)\n",
    "        t.getparent().remove(t)\n",
    "        "
   ]
  },
  {
   "cell_type": "markdown",
   "metadata": {},
   "source": [
    "We can check if that worked by printing the textlines again and see if there are no 'TAGREFS': 'LT140'\n",
    "-> OK"
   ]
  },
  {
   "cell_type": "code",
   "execution_count": 60,
   "metadata": {},
   "outputs": [
    {
     "name": "stdout",
     "output_type": "stream",
     "text": [
      "{'ID': 'eSc_line_4d4c4eef', 'TAGREFS': 'LT142', 'BASELINE': '3207 1639 3314 1623', 'HPOS': '3191', 'VPOS': '1595', 'WIDTH': '131', 'HEIGHT': '66'}\n",
      "{'ID': 'eSc_line_b1d69b29', 'TAGREFS': 'LT142', 'BASELINE': '3159 2877 3331 2872', 'HPOS': '3148', 'VPOS': '2808', 'WIDTH': '181', 'HEIGHT': '90'}\n",
      "{'ID': 'eSc_line_fee73231', 'TAGREFS': 'LT142', 'BASELINE': '3227 4729 3321 4726', 'HPOS': '3222', 'VPOS': '4661', 'WIDTH': '96', 'HEIGHT': '101'}\n",
      "{'ID': 'eSc_line_e7ead31c', 'TAGREFS': 'LT146', 'BASELINE': '1028 468 3516 401', 'HPOS': '1017', 'VPOS': '203', 'WIDTH': '2499', 'HEIGHT': '282'}\n",
      "{'ID': 'eSc_line_63141b09', 'TAGREFS': 'LT145', 'BASELINE': '293 497 802 480', 'HPOS': '288', 'VPOS': '355', 'WIDTH': '514', 'HEIGHT': '181'}\n",
      "{'ID': 'eSc_line_46ca1056', 'TAGREFS': 'LT145', 'BASELINE': '367 723 4019 638', 'HPOS': '361', 'VPOS': '519', 'WIDTH': '3707', 'HEIGHT': '238'}\n",
      "{'ID': 'eSc_line_5a66043a', 'TAGREFS': 'LT145', 'BASELINE': '373 864 2470 841 3968 791', 'HPOS': '367', 'VPOS': '672', 'WIDTH': '3601', 'HEIGHT': '220'}\n",
      "{'ID': 'eSc_line_bc0d15ef', 'TAGREFS': 'LT145', 'BASELINE': '380 1020 555 1017', 'HPOS': '378', 'VPOS': '975', 'WIDTH': '175', 'HEIGHT': '58'}\n",
      "{'ID': 'eSc_line_e96492fa', 'TAGREFS': 'LT145', 'BASELINE': '3159 1022 3261 1022', 'HPOS': '3159', 'VPOS': '954', 'WIDTH': '102', 'HEIGHT': '108'}\n",
      "{'ID': 'eSc_line_97465998', 'TAGREFS': 'LT145', 'BASELINE': '3420 1022 3566 1011', 'HPOS': '3408', 'VPOS': '937', 'WIDTH': '158', 'HEIGHT': '108'}\n",
      "{'ID': 'eSc_line_418c8203', 'TAGREFS': 'LT145', 'BASELINE': '1345 1045 2583 1028', 'HPOS': '1339', 'VPOS': '949', 'WIDTH': '1244', 'HEIGHT': '124'}\n",
      "{'ID': 'eSc_line_063f041b', 'TAGREFS': 'LT145', 'BASELINE': '691 1050 777 1050', 'HPOS': '689', 'VPOS': '971', 'WIDTH': '85', 'HEIGHT': '115'}\n",
      "{'ID': 'eSc_line_a971367a', 'TAGREFS': 'LT145', 'BASELINE': '377 1074 573 1074', 'HPOS': '373', 'VPOS': '1044', 'WIDTH': '210', 'HEIGHT': '55'}\n",
      "{'ID': 'eSc_line_df3bcf15', 'TAGREFS': 'LT145', 'BASELINE': '3685 1084 4166 1096', 'HPOS': '3680', 'VPOS': '1015', 'WIDTH': '486', 'HEIGHT': '101'}\n",
      "{'ID': 'eSc_line_965fd36a', 'TAGREFS': 'LT145', 'BASELINE': '3382 1107 3595 1101', 'HPOS': '3380', 'VPOS': '1036', 'WIDTH': '209', 'HEIGHT': '94'}\n",
      "{'ID': 'eSc_line_51cdc877', 'TAGREFS': 'LT145', 'BASELINE': '3086 1118 3320 1108', 'HPOS': '3080', 'VPOS': '1063', 'WIDTH': '238', 'HEIGHT': '112'}\n",
      "{'ID': 'eSc_line_61080071', 'TAGREFS': 'LT145', 'BASELINE': '356 1124 581 1127', 'HPOS': '348', 'VPOS': '1100', 'WIDTH': '231', 'HEIGHT': '44'}\n",
      "{'ID': 'eSc_line_dca3a1f2', 'TAGREFS': 'LT145', 'BASELINE': '694 1133 768 1133', 'HPOS': '689', 'VPOS': '1110', 'WIDTH': '83', 'HEIGHT': '59'}\n",
      "{'ID': 'eSc_line_025bc0e1', 'TAGREFS': 'LT145', 'BASELINE': '386 1180 567 1180', 'HPOS': '384', 'VPOS': '1145', 'WIDTH': '192', 'HEIGHT': '64'}\n",
      "{'ID': 'eSc_line_eb812fb5', 'TAGREFS': 'LT145', 'BASELINE': '2351 1220 2583 1220', 'HPOS': '2351', 'VPOS': '1158', 'WIDTH': '232', 'HEIGHT': '90'}\n",
      "{'ID': 'eSc_line_1f131832', 'TAGREFS': 'LT145', 'BASELINE': '1475 1226 1673 1226', 'HPOS': '1475', 'VPOS': '1158', 'WIDTH': '198', 'HEIGHT': '124'}\n",
      "{'ID': 'eSc_line_749ba834', 'TAGREFS': 'LT145', 'BASELINE': '359 1228 585 1231', 'HPOS': '354', 'VPOS': '1191', 'WIDTH': '235', 'HEIGHT': '53'}\n",
      "{'ID': 'eSc_line_4fbf3f9d', 'TAGREFS': 'LT145', 'BASELINE': '932 1237 1213 1237', 'HPOS': '927', 'VPOS': '1146', 'WIDTH': '282', 'HEIGHT': '130'}\n",
      "{'ID': 'eSc_line_d45cf1ec', 'TAGREFS': 'LT145', 'BASELINE': '644 1240 813 1240', 'HPOS': '638', 'VPOS': '1189', 'WIDTH': '170', 'HEIGHT': '99'}\n",
      "{'ID': 'eSc_line_e4c659a7', 'TAGREFS': 'LT145', 'BASELINE': '3420 1248 3575 1238', 'HPOS': '3413', 'VPOS': '1204', 'WIDTH': '159', 'HEIGHT': '58'}\n",
      "{'ID': 'eSc_line_b280df1c', 'TAGREFS': 'LT145', 'BASELINE': '3137 1254 3275 1254', 'HPOS': '3131', 'VPOS': '1211', 'WIDTH': '144', 'HEIGHT': '59'}\n",
      "{'ID': 'eSc_line_9b0a01ba', 'TAGREFS': 'LT145', 'BASELINE': '356 1278 581 1284', 'HPOS': '342', 'VPOS': '1245', 'WIDTH': '234', 'HEIGHT': '58'}\n",
      "{'ID': 'eSc_line_005f543b', 'TAGREFS': 'LT144', 'BASELINE': '3673 1512 4150 1524', 'HPOS': '3663', 'VPOS': '1367', 'WIDTH': '486', 'HEIGHT': '203'}\n",
      "{'ID': 'eSc_line_88b737b8', 'TAGREFS': 'LT142', 'BASELINE': '3465 1514 3572 1553', 'HPOS': '3461', 'VPOS': '1439', 'WIDTH': '180', 'HEIGHT': '131'}\n",
      "{'ID': 'eSc_line_41573b14', 'TAGREFS': 'LT142', 'BASELINE': '3190 1524 3314 1518', 'HPOS': '3188', 'VPOS': '1455', 'WIDTH': '148', 'HEIGHT': '98'}\n",
      "{'ID': 'eSc_line_ee470e80', 'TAGREFS': 'LT141', 'BASELINE': '4192 1536 4236 1536', 'HPOS': '4188', 'VPOS': '1446', 'WIDTH': '46', 'HEIGHT': '147'}\n",
      "{'ID': 'eSc_line_5a0feb89', 'TAGREFS': 'LT143', 'BASELINE': '1334 1570 1665 1571 1695 1565', 'HPOS': '1284', 'VPOS': '1460', 'WIDTH': '456', 'HEIGHT': '223'}\n",
      "{'ID': 'eSc_line_e0a1e25d', 'TAGREFS': 'LT143', 'BASELINE': '872 1574 1288 1570', 'HPOS': '864', 'VPOS': '1452', 'WIDTH': '419', 'HEIGHT': '163'}\n",
      "{'ID': 'eSc_line_c2a79eaf', 'TAGREFS': 'LT143', 'BASELINE': '587 1576 830 1574', 'HPOS': '582', 'VPOS': '1446', 'WIDTH': '243', 'HEIGHT': '181'}\n",
      "{'ID': 'eSc_line_76b61f05', 'TAGREFS': 'LT142', 'BASELINE': '3196 1589 3308 1586', 'HPOS': '3193', 'VPOS': '1542', 'WIDTH': '132', 'HEIGHT': '60'}\n",
      "{'ID': 'eSc_line_58b314b0', 'TAGREFS': 'LT142', 'BASELINE': '3538 1593 3629 1595', 'HPOS': '3533', 'VPOS': '1535', 'WIDTH': '106', 'HEIGHT': '91'}\n",
      "{'ID': 'eSc_line_058f3f35', 'TAGREFS': 'LT144', 'BASELINE': '3670 1596 4070 1604', 'HPOS': '3663', 'VPOS': '1519', 'WIDTH': '401', 'HEIGHT': '136'}\n",
      "{'ID': 'eSc_line_44c2a695', 'TAGREFS': 'LT143', 'BASELINE': '1435 1643 1734 1628', 'HPOS': '1430', 'VPOS': '1571', 'WIDTH': '313', 'HEIGHT': '89'}\n",
      "{'ID': 'eSc_line_50955497', 'TAGREFS': 'LT144', 'BASELINE': '3668 1711 4114 1701 4205 1727', 'HPOS': '3657', 'VPOS': '1615', 'WIDTH': '561', 'HEIGHT': '147'}\n",
      "{'ID': 'eSc_line_4bf3374f', 'TAGREFS': 'LT143', 'BASELINE': '1339 1751 1622 1743', 'HPOS': '1334', 'VPOS': '1661', 'WIDTH': '294', 'HEIGHT': '126'}\n",
      "{'ID': 'eSc_line_d71f7239', 'TAGREFS': 'LT144', 'BASELINE': '3680 1796 4143 1796', 'HPOS': '3680', 'VPOS': '1723', 'WIDTH': '463', 'HEIGHT': '124'}\n",
      "{'ID': 'eSc_line_f1588d80', 'TAGREFS': 'LT142', 'BASELINE': '3510 1971 3640 1971', 'HPOS': '3504', 'VPOS': '1904', 'WIDTH': '168', 'HEIGHT': '130'}\n",
      "{'ID': 'eSc_line_d7bf05bb', 'TAGREFS': 'LT144', 'BASELINE': '3673 1971 4120 1971', 'HPOS': '3668', 'VPOS': '1841', 'WIDTH': '465', 'HEIGHT': '181'}\n",
      "{'ID': 'eSc_line_f1e600ca', 'TAGREFS': 'LT142', 'BASELINE': '3211 1978 3341 1978', 'HPOS': '3210', 'VPOS': '1870', 'WIDTH': '130', 'HEIGHT': '135'}\n",
      "{'ID': 'eSc_line_80bd4032', 'TAGREFS': 'LT141', 'BASELINE': '4198 2016 4221 2016', 'HPOS': '4194', 'VPOS': '1937', 'WIDTH': '23', 'HEIGHT': '119'}\n",
      "{'ID': 'eSc_line_f9f7793e', 'TAGREFS': 'LT143', 'BASELINE': '1317 2022 1826 2011', 'HPOS': '1244', 'VPOS': '1881', 'WIDTH': '591', 'HEIGHT': '251'}\n",
      "{'ID': 'eSc_line_e6b3f53d', 'TAGREFS': 'LT143', 'BASELINE': '866 2023 1221 2017', 'HPOS': '864', 'VPOS': '1875', 'WIDTH': '351', 'HEIGHT': '273'}\n",
      "{'ID': 'eSc_line_187ca59b', 'TAGREFS': 'LT143', 'BASELINE': '604 2028 833 2024', 'HPOS': '599', 'VPOS': '1926', 'WIDTH': '250', 'HEIGHT': '147'}\n",
      "{'ID': 'eSc_line_d99a639f', 'TAGREFS': 'LT142', 'BASELINE': '3195 2045 3304 2038', 'HPOS': '3193', 'VPOS': '1984', 'WIDTH': '130', 'HEIGHT': '78'}\n",
      "{'ID': 'eSc_line_9222a419', 'TAGREFS': 'LT142', 'BASELINE': '3575 2049 3646 2040', 'HPOS': '3561', 'VPOS': '1971', 'WIDTH': '79', 'HEIGHT': '96'}\n",
      "{'ID': 'eSc_line_ec1cb1c0', 'TAGREFS': 'LT144', 'BASELINE': '3943 2053 4149 2067', 'HPOS': '3892', 'VPOS': '1984', 'WIDTH': '279', 'HEIGHT': '145'}\n",
      "{'ID': 'eSc_line_741000b9', 'TAGREFS': 'LT144', 'BASELINE': '3685 2424 4154 2412', 'HPOS': '3674', 'VPOS': '2305', 'WIDTH': '475', 'HEIGHT': '181'}\n",
      "{'ID': 'eSc_line_c0d1b2dc', 'TAGREFS': 'LT142', 'BASELINE': '3493 2429 3646 2425', 'HPOS': '3487', 'VPOS': '2316', 'WIDTH': '153', 'HEIGHT': '147'}\n",
      "{'ID': 'eSc_line_a1a34590', 'TAGREFS': 'LT141', 'BASELINE': '4186 2434 4209 2437', 'HPOS': '4183', 'VPOS': '2413', 'WIDTH': '36', 'HEIGHT': '44'}\n",
      "{'ID': 'eSc_line_fbf0c748', 'TAGREFS': 'LT142', 'BASELINE': '3177 2435 3306 2435', 'HPOS': '3176', 'VPOS': '2389', 'WIDTH': '174', 'HEIGHT': '60'}\n",
      "{'ID': 'eSc_line_d8e38e8d', 'TAGREFS': 'LT143', 'BASELINE': '1319 2457 1850 2448', 'HPOS': '1311', 'VPOS': '2344', 'WIDTH': '537', 'HEIGHT': '153'}\n",
      "{'ID': 'eSc_line_281d4a99', 'TAGREFS': 'LT143', 'BASELINE': '893 2464 1287 2457', 'HPOS': '881', 'VPOS': '2288', 'WIDTH': '402', 'HEIGHT': '226'}\n",
      "{'ID': 'eSc_line_8335932d', 'TAGREFS': 'LT143', 'BASELINE': '604 2469 857 2465', 'HPOS': '599', 'VPOS': '2350', 'WIDTH': '254', 'HEIGHT': '147'}\n",
      "{'ID': 'eSc_line_91f4a52c', 'TAGREFS': 'LT144', 'BASELINE': '3866 2514 4143 2514', 'HPOS': '3866', 'VPOS': '2429', 'WIDTH': '277', 'HEIGHT': '147'}\n",
      "{'ID': 'eSc_line_a70ea53f', 'TAGREFS': 'LT142', 'BASELINE': '3126 2531 3329 2531', 'HPOS': '3126', 'VPOS': '2443', 'WIDTH': '219', 'HEIGHT': '144'}\n",
      "{'ID': 'eSc_line_fb407d2f', 'TAGREFS': 'LT142', 'BASELINE': '3476 2531 3652 2511', 'HPOS': '3459', 'VPOS': '2418', 'WIDTH': '192', 'HEIGHT': '164'}\n",
      "{'ID': 'eSc_line_bac060b6', 'TAGREFS': 'LT144', 'BASELINE': '3651 2627 4149 2610', 'HPOS': '3640', 'VPOS': '2497', 'WIDTH': '509', 'HEIGHT': '248'}\n",
      "{'ID': 'eSc_line_c561889d', 'TAGREFS': 'LT144', 'BASELINE': '3685 2884 4109 2864', 'HPOS': '3668', 'VPOS': '2762', 'WIDTH': '436', 'HEIGHT': '181'}\n",
      "{'ID': 'eSc_line_a536d9da', 'TAGREFS': 'LT143', 'BASELINE': '616 2904 847 2892', 'HPOS': '604', 'VPOS': '2774', 'WIDTH': '243', 'HEIGHT': '293'}\n",
      "{'ID': 'eSc_line_9a42c3cb', 'TAGREFS': 'LT143', 'BASELINE': '1294 2904 1817 2897', 'HPOS': '1283', 'VPOS': '2779', 'WIDTH': '531', 'HEIGHT': '260'}\n",
      "{'ID': 'eSc_line_b084585d', 'TAGREFS': 'LT143', 'BASELINE': '955 2909 1062 2904', 'HPOS': '944', 'VPOS': '2774', 'WIDTH': '118', 'HEIGHT': '169'}\n",
      "{'ID': 'eSc_line_6a70e58e', 'TAGREFS': 'LT141', 'BASELINE': '4186 2647 4224 2647', 'HPOS': '4183', 'VPOS': '2609', 'WIDTH': '45', 'HEIGHT': '57'}\n",
      "{'ID': 'eSc_line_806c239d', 'TAGREFS': 'LT144', 'BASELINE': '3940 2712 4154 2712', 'HPOS': '3940', 'VPOS': '2615', 'WIDTH': '214', 'HEIGHT': '153'}\n",
      "{'ID': 'eSc_line_471b5b24', 'TAGREFS': 'LT142', 'BASELINE': '3504 2892 3664 2885', 'HPOS': '3499', 'VPOS': '2817', 'WIDTH': '180', 'HEIGHT': '98'}\n",
      "{'ID': 'eSc_line_0bcbfb80', 'TAGREFS': 'LT141', 'BASELINE': '4189 2905 4215 2905', 'HPOS': '4188', 'VPOS': '2874', 'WIDTH': '27', 'HEIGHT': '86'}\n",
      "{'ID': 'eSc_line_033ed0e7', 'TAGREFS': 'LT144', 'BASELINE': '3753 2966 4132 2977', 'HPOS': '3747', 'VPOS': '2875', 'WIDTH': '385', 'HEIGHT': '170'}\n",
      "{'ID': 'eSc_line_3dc84024', 'TAGREFS': 'LT142', 'BASELINE': '3148 2977 3306 2966', 'HPOS': '3148', 'VPOS': '2892', 'WIDTH': '189', 'HEIGHT': '96'}\n",
      "{'ID': 'eSc_line_cbf9d83b', 'TAGREFS': 'LT142', 'BASELINE': '3520 2982 3659 2977', 'HPOS': '3516', 'VPOS': '2917', 'WIDTH': '154', 'HEIGHT': '88'}\n",
      "{'ID': 'eSc_line_1e4b0652', 'TAGREFS': 'LT142', 'BASELINE': '3510 3327 3661 3329', 'HPOS': '3499', 'VPOS': '3237', 'WIDTH': '158', 'HEIGHT': '130'}\n",
      "{'ID': 'eSc_line_0932347e', 'TAGREFS': 'LT144', 'BASELINE': '3676 3329 4041 3333', 'HPOS': '3674', 'VPOS': '3180', 'WIDTH': '362', 'HEIGHT': '232'}\n",
      "{'ID': 'eSc_line_8e0b33dc', 'TAGREFS': 'LT142', 'BASELINE': '3178 3332 3356 3332', 'HPOS': '3176', 'VPOS': '3226', 'WIDTH': '178', 'HEIGHT': '117'}\n",
      "{'ID': 'eSc_line_978f45c2', 'TAGREFS': 'LT143', 'BASELINE': '1294 3339 1820 3339', 'HPOS': '1294', 'VPOS': '3220', 'WIDTH': '526', 'HEIGHT': '226'}\n",
      "{'ID': 'eSc_line_02ad78b2', 'TAGREFS': 'LT143', 'BASELINE': '610 3350 870 3339', 'HPOS': '604', 'VPOS': '3214', 'WIDTH': '266', 'HEIGHT': '238'}\n",
      "{'ID': 'eSc_line_c201559d', 'TAGREFS': 'LT143', 'BASELINE': '994 3350 1085 3339', 'HPOS': '977', 'VPOS': '3214', 'WIDTH': '108', 'HEIGHT': '181'}\n",
      "{'ID': 'eSc_line_7755577a', 'TAGREFS': 'LT142', 'BASELINE': '3510 3406 3634 3412', 'HPOS': '3510', 'VPOS': '3351', 'WIDTH': '166', 'HEIGHT': '98'}\n",
      "{'ID': 'eSc_line_addf9f1d', 'TAGREFS': 'LT144', 'BASELINE': '3900 3412 4160 3418', 'HPOS': '3894', 'VPOS': '3322', 'WIDTH': '266', 'HEIGHT': '147'}\n",
      "{'ID': 'eSc_line_91bc9b14', 'TAGREFS': 'LT142', 'BASELINE': '3176 3418 3357 3406', 'HPOS': '3176', 'VPOS': '3336', 'WIDTH': '192', 'HEIGHT': '127'}\n",
      "{'ID': 'eSc_line_40324311', 'TAGREFS': 'LT144', 'BASELINE': '3668 3514 4149 3514', 'HPOS': '3668', 'VPOS': '3361', 'WIDTH': '481', 'HEIGHT': '221'}\n",
      "{'ID': 'eSc_line_a5517440', 'TAGREFS': 'LT144', 'BASELINE': '3917 3604 4149 3593', 'HPOS': '3911', 'VPOS': '3519', 'WIDTH': '238', 'HEIGHT': '142'}\n",
      "{'ID': 'eSc_line_d9e2503b', 'TAGREFS': 'LT143', 'BASELINE': '916 3773 1215 3768', 'HPOS': '915', 'VPOS': '3644', 'WIDTH': '330', 'HEIGHT': '254'}\n",
      "{'ID': 'eSc_line_90bdc9dc', 'TAGREFS': 'LT142', 'BASELINE': '3188 3774 3318 3768', 'HPOS': '3188', 'VPOS': '3700', 'WIDTH': '176', 'HEIGHT': '97'}\n",
      "{'ID': 'eSc_line_01160928', 'TAGREFS': 'LT142', 'BASELINE': '3510 3774 3643 3775', 'HPOS': '3499', 'VPOS': '3638', 'WIDTH': '141', 'HEIGHT': '158'}\n",
      "{'ID': 'eSc_line_e00cd205', 'TAGREFS': 'LT144', 'BASELINE': '3694 3775 4132 3779', 'HPOS': '3691', 'VPOS': '3649', 'WIDTH': '435', 'HEIGHT': '170'}\n",
      "{'ID': 'eSc_line_9476071f', 'TAGREFS': 'LT143', 'BASELINE': '616 3779 863 3774', 'HPOS': '604', 'VPOS': '3599', 'WIDTH': '255', 'HEIGHT': '226'}\n",
      "{'ID': 'eSc_line_0192177a', 'TAGREFS': 'LT143', 'BASELINE': '1328 3779 1707 3762', 'HPOS': '1317', 'VPOS': '3644', 'WIDTH': '390', 'HEIGHT': '231'}\n",
      "{'ID': 'eSc_line_9772f635', 'TAGREFS': 'LT142', 'BASELINE': '3199 3839 3332 3824', 'HPOS': '3185', 'VPOS': '3786', 'WIDTH': '150', 'HEIGHT': '106'}\n",
      "{'ID': 'eSc_line_4a5cd8b8', 'TAGREFS': 'LT142', 'BASELINE': '3533 3847 3670 3844', 'HPOS': '3527', 'VPOS': '3745', 'WIDTH': '141', 'HEIGHT': '142'}\n",
      "{'ID': 'eSc_line_b3ab0a83', 'TAGREFS': 'LT144', 'BASELINE': '3911 3875 4166 3864', 'HPOS': '3906', 'VPOS': '3785', 'WIDTH': '260', 'HEIGHT': '130'}\n",
      "{'ID': 'eSc_line_068cfadf', 'TAGREFS': 'LT143', 'BASELINE': '1331 4226 1844 4222', 'HPOS': '1328', 'VPOS': '4073', 'WIDTH': '514', 'HEIGHT': '271'}\n",
      "{'ID': 'eSc_line_ccc32467', 'TAGREFS': 'LT143', 'BASELINE': '901 4229 1296 4226', 'HPOS': '898', 'VPOS': '4077', 'WIDTH': '443', 'HEIGHT': '369'}\n",
      "{'ID': 'eSc_line_58b6a615', 'TAGREFS': 'LT143', 'BASELINE': '627 4231 863 4229', 'HPOS': '621', 'VPOS': '4084', 'WIDTH': '238', 'HEIGHT': '170'}\n",
      "{'ID': 'eSc_line_97218711', 'TAGREFS': 'LT142', 'BASELINE': '3199 4231 3335 4231', 'HPOS': '3199', 'VPOS': '4138', 'WIDTH': '195', 'HEIGHT': '150'}\n",
      "{'ID': 'eSc_line_6d05da5c', 'TAGREFS': 'LT144', 'BASELINE': '3691 4232 4178 4220', 'HPOS': '3685', 'VPOS': '4147', 'WIDTH': '495', 'HEIGHT': '136'}\n",
      "{'ID': 'eSc_line_4822d058', 'TAGREFS': 'LT142', 'BASELINE': '3482 4237 3649 4233', 'HPOS': '3476', 'VPOS': '4161', 'WIDTH': '178', 'HEIGHT': '116'}\n",
      "{'ID': 'eSc_line_5f723920', 'TAGREFS': 'LT144', 'BASELINE': '3736 4322 4154 4333', 'HPOS': '3730', 'VPOS': '4226', 'WIDTH': '424', 'HEIGHT': '226'}\n",
      "{'ID': 'eSc_line_02fea7a3', 'TAGREFS': 'LT143', 'BASELINE': '1317 4655 1856 4659', 'HPOS': '1305', 'VPOS': '4508', 'WIDTH': '549', 'HEIGHT': '339'}\n",
      "{'ID': 'eSc_line_154f67db', 'TAGREFS': 'LT142', 'BASELINE': '3225 4660 3332 4662', 'HPOS': '3216', 'VPOS': '4613', 'WIDTH': '129', 'HEIGHT': '70'}\n",
      "{'ID': 'eSc_line_cd771e36', 'TAGREFS': 'LT143', 'BASELINE': '901 4665 1226 4655', 'HPOS': '898', 'VPOS': '4529', 'WIDTH': '359', 'HEIGHT': '256'}\n",
      "{'ID': 'eSc_line_62721943', 'TAGREFS': 'LT142', 'BASELINE': '3498 4671 3640 4671', 'HPOS': '3493', 'VPOS': '4604', 'WIDTH': '161', 'HEIGHT': '84'}\n",
      "{'ID': 'eSc_line_f5dd1f28', 'TAGREFS': 'LT143', 'BASELINE': '633 4672 872 4665', 'HPOS': '621', 'VPOS': '4503', 'WIDTH': '249', 'HEIGHT': '271'}\n",
      "{'ID': 'eSc_line_9cc64c8a', 'TAGREFS': 'LT144', 'BASELINE': '3713 4683 4120 4666', 'HPOS': '3708', 'VPOS': '4536', 'WIDTH': '412', 'HEIGHT': '255'}\n",
      "{'ID': 'eSc_line_c97429ea', 'TAGREFS': 'LT142', 'BASELINE': '3521 4729 3655 4727', 'HPOS': '3506', 'VPOS': '4680', 'WIDTH': '169', 'HEIGHT': '99'}\n",
      "{'ID': 'eSc_line_6a058129', 'TAGREFS': 'LT144', 'BASELINE': '3937 4757 4166 4757', 'HPOS': '3934', 'VPOS': '4672', 'WIDTH': '226', 'HEIGHT': '164'}\n",
      "{'ID': 'eSc_line_8502be5a', 'TAGREFS': 'LT143', 'BASELINE': '1413 5096 1847 5100', 'HPOS': '1401', 'VPOS': '4983', 'WIDTH': '441', 'HEIGHT': '203'}\n",
      "{'ID': 'eSc_line_caa02f94', 'TAGREFS': 'LT143', 'BASELINE': '899 5106 1322 5096', 'HPOS': '898', 'VPOS': '4926', 'WIDTH': '421', 'HEIGHT': '215'}\n",
      "{'ID': 'eSc_line_1c1edb09', 'TAGREFS': 'LT143', 'BASELINE': '633 5113 866 5107', 'HPOS': '621', 'VPOS': '4943', 'WIDTH': '243', 'HEIGHT': '209'}\n",
      "{'ID': 'eSc_line_f47b56c7', 'TAGREFS': 'LT144', 'BASELINE': '3711 5125 4081 5118', 'HPOS': '3702', 'VPOS': '4994', 'WIDTH': '373', 'HEIGHT': '209'}\n",
      "{'ID': 'eSc_line_c42f618e', 'TAGREFS': 'LT142', 'BASELINE': '3182 5130 3391 5124', 'HPOS': '3182', 'VPOS': '5033', 'WIDTH': '209', 'HEIGHT': '181'}\n",
      "{'ID': 'eSc_line_f8c3419f', 'TAGREFS': 'LT142', 'BASELINE': '3476 5130 3673 5126', 'HPOS': '3470', 'VPOS': '4938', 'WIDTH': '198', 'HEIGHT': '254'}\n",
      "{'ID': 'eSc_line_53a45299', 'TAGREFS': 'LT141', 'BASELINE': '4209 5148 4239 5148', 'HPOS': '4205', 'VPOS': '5051', 'WIDTH': '29', 'HEIGHT': '118'}\n",
      "{'ID': 'eSc_line_1dc4dea0', 'TAGREFS': 'LT144', 'BASELINE': '3916 5220 4171 5220', 'HPOS': '3911', 'VPOS': '5124', 'WIDTH': '255', 'HEIGHT': '170'}\n",
      "{'ID': 'eSc_line_d59106a1', 'TAGREFS': 'LT143', 'BASELINE': '638 5553 869 5553', 'HPOS': '633', 'VPOS': '5412', 'WIDTH': '231', 'HEIGHT': '175'}\n",
      "{'ID': 'eSc_line_19db3cfa', 'TAGREFS': 'LT143', 'BASELINE': '899 5553 1311 5553', 'HPOS': '898', 'VPOS': '5432', 'WIDTH': '407', 'HEIGHT': '161'}\n",
      "{'ID': 'eSc_line_003c0741', 'TAGREFS': 'LT143', 'BASELINE': '1418 5553 1820 5542', 'HPOS': '1413', 'VPOS': '5446', 'WIDTH': '407', 'HEIGHT': '237'}\n",
      "{'ID': 'eSc_line_90c0d3fb', 'TAGREFS': 'LT142', 'BASELINE': '3205 5576 3356 5576', 'HPOS': '3199', 'VPOS': '5390', 'WIDTH': '153', 'HEIGHT': '260'}\n",
      "{'ID': 'eSc_line_493829a1', 'TAGREFS': 'LT144', 'BASELINE': '3726 5580 4070 5576', 'HPOS': '3719', 'VPOS': '5446', 'WIDTH': '345', 'HEIGHT': '192'}\n",
      "{'ID': 'eSc_line_960b5f1f', 'TAGREFS': 'LT142', 'BASELINE': '3504 5582 3685 5580', 'HPOS': '3499', 'VPOS': '5407', 'WIDTH': '181', 'HEIGHT': '231'}\n",
      "{'ID': 'eSc_line_2f3a919f', 'TAGREFS': 'LT144', 'BASELINE': '3957 5666 4194 5666', 'HPOS': '3940', 'VPOS': '5573', 'WIDTH': '271', 'HEIGHT': '185'}\n",
      "{'ID': 'eSc_line_0f356ca9', 'TAGREFS': 'LT143', 'BASELINE': '655 5994 866 5996', 'HPOS': '644', 'VPOS': '5887', 'WIDTH': '220', 'HEIGHT': '158'}\n",
      "{'ID': 'eSc_line_5904ad11', 'TAGREFS': 'LT143', 'BASELINE': '899 5996 1362 6000', 'HPOS': '898', 'VPOS': '5887', 'WIDTH': '458', 'HEIGHT': '166'}\n",
      "{'ID': 'eSc_line_90c8798a', 'TAGREFS': 'LT143', 'BASELINE': '1447 6000 1825 5989', 'HPOS': '1441', 'VPOS': '5892', 'WIDTH': '384', 'HEIGHT': '187'}\n",
      "{'ID': 'eSc_line_eb5c7212', 'TAGREFS': 'LT142', 'BASELINE': '3217 6023 3368 6020', 'HPOS': '3216', 'VPOS': '5957', 'WIDTH': '156', 'HEIGHT': '95'}\n",
      "{'ID': 'eSc_line_505d74f6', 'TAGREFS': 'LT141', 'BASELINE': '4227 6035 4254 6032', 'HPOS': '4222', 'VPOS': '5994', 'WIDTH': '46', 'HEIGHT': '67'}\n",
      "{'ID': 'eSc_line_03c519d4', 'TAGREFS': 'LT144', 'BASELINE': '3697 6043 4055 6037', 'HPOS': '3691', 'VPOS': '5926', 'WIDTH': '398', 'HEIGHT': '136'}\n",
      "{'ID': 'eSc_line_fd812c45', 'TAGREFS': 'LT142', 'BASELINE': '3606 6045 3685 6043', 'HPOS': '3600', 'VPOS': '5957', 'WIDTH': '85', 'HEIGHT': '114'}\n",
      "{'ID': 'eSc_line_59c78ac0', 'TAGREFS': 'LT144', 'BASELINE': '3906 6130 4183 6130', 'HPOS': '3894', 'VPOS': '6037', 'WIDTH': '290', 'HEIGHT': '172'}\n"
     ]
    }
   ],
   "source": [
    "for t in root.iter('{*}TextLine'):\n",
    "    print(t.attrib)"
   ]
  },
  {
   "cell_type": "markdown",
   "metadata": {},
   "source": [
    "We can now do it for all three TAGREFS:"
   ]
  },
  {
   "cell_type": "code",
   "execution_count": 61,
   "metadata": {},
   "outputs": [],
   "source": [
    "for t in root.iter('{*}TextLine'):\n",
    "    if t.attrib['TAGREFS'] == id_confins:\n",
    "        t.getparent().remove(t)\n",
    "    elif t.attrib['TAGREFS'] == id_mutations:\n",
    "        t.getparent().remove(t)\n",
    "    elif t.attrib['TAGREFS'] == id_francs:\n",
    "        t.getparent().remove(t)\n",
    "        \n",
    "        "
   ]
  },
  {
   "cell_type": "markdown",
   "metadata": {},
   "source": [
    "Check:\n",
    "(Confins: LT140 , francs: LT142 ,  mutations: LT144)"
   ]
  },
  {
   "cell_type": "code",
   "execution_count": 62,
   "metadata": {},
   "outputs": [
    {
     "name": "stdout",
     "output_type": "stream",
     "text": [
      "{'ID': 'eSc_line_e7ead31c', 'TAGREFS': 'LT146', 'BASELINE': '1028 468 3516 401', 'HPOS': '1017', 'VPOS': '203', 'WIDTH': '2499', 'HEIGHT': '282'}\n",
      "{'ID': 'eSc_line_63141b09', 'TAGREFS': 'LT145', 'BASELINE': '293 497 802 480', 'HPOS': '288', 'VPOS': '355', 'WIDTH': '514', 'HEIGHT': '181'}\n",
      "{'ID': 'eSc_line_46ca1056', 'TAGREFS': 'LT145', 'BASELINE': '367 723 4019 638', 'HPOS': '361', 'VPOS': '519', 'WIDTH': '3707', 'HEIGHT': '238'}\n",
      "{'ID': 'eSc_line_5a66043a', 'TAGREFS': 'LT145', 'BASELINE': '373 864 2470 841 3968 791', 'HPOS': '367', 'VPOS': '672', 'WIDTH': '3601', 'HEIGHT': '220'}\n",
      "{'ID': 'eSc_line_bc0d15ef', 'TAGREFS': 'LT145', 'BASELINE': '380 1020 555 1017', 'HPOS': '378', 'VPOS': '975', 'WIDTH': '175', 'HEIGHT': '58'}\n",
      "{'ID': 'eSc_line_e96492fa', 'TAGREFS': 'LT145', 'BASELINE': '3159 1022 3261 1022', 'HPOS': '3159', 'VPOS': '954', 'WIDTH': '102', 'HEIGHT': '108'}\n",
      "{'ID': 'eSc_line_97465998', 'TAGREFS': 'LT145', 'BASELINE': '3420 1022 3566 1011', 'HPOS': '3408', 'VPOS': '937', 'WIDTH': '158', 'HEIGHT': '108'}\n",
      "{'ID': 'eSc_line_418c8203', 'TAGREFS': 'LT145', 'BASELINE': '1345 1045 2583 1028', 'HPOS': '1339', 'VPOS': '949', 'WIDTH': '1244', 'HEIGHT': '124'}\n",
      "{'ID': 'eSc_line_063f041b', 'TAGREFS': 'LT145', 'BASELINE': '691 1050 777 1050', 'HPOS': '689', 'VPOS': '971', 'WIDTH': '85', 'HEIGHT': '115'}\n",
      "{'ID': 'eSc_line_a971367a', 'TAGREFS': 'LT145', 'BASELINE': '377 1074 573 1074', 'HPOS': '373', 'VPOS': '1044', 'WIDTH': '210', 'HEIGHT': '55'}\n",
      "{'ID': 'eSc_line_df3bcf15', 'TAGREFS': 'LT145', 'BASELINE': '3685 1084 4166 1096', 'HPOS': '3680', 'VPOS': '1015', 'WIDTH': '486', 'HEIGHT': '101'}\n",
      "{'ID': 'eSc_line_965fd36a', 'TAGREFS': 'LT145', 'BASELINE': '3382 1107 3595 1101', 'HPOS': '3380', 'VPOS': '1036', 'WIDTH': '209', 'HEIGHT': '94'}\n",
      "{'ID': 'eSc_line_51cdc877', 'TAGREFS': 'LT145', 'BASELINE': '3086 1118 3320 1108', 'HPOS': '3080', 'VPOS': '1063', 'WIDTH': '238', 'HEIGHT': '112'}\n",
      "{'ID': 'eSc_line_61080071', 'TAGREFS': 'LT145', 'BASELINE': '356 1124 581 1127', 'HPOS': '348', 'VPOS': '1100', 'WIDTH': '231', 'HEIGHT': '44'}\n",
      "{'ID': 'eSc_line_dca3a1f2', 'TAGREFS': 'LT145', 'BASELINE': '694 1133 768 1133', 'HPOS': '689', 'VPOS': '1110', 'WIDTH': '83', 'HEIGHT': '59'}\n",
      "{'ID': 'eSc_line_025bc0e1', 'TAGREFS': 'LT145', 'BASELINE': '386 1180 567 1180', 'HPOS': '384', 'VPOS': '1145', 'WIDTH': '192', 'HEIGHT': '64'}\n",
      "{'ID': 'eSc_line_eb812fb5', 'TAGREFS': 'LT145', 'BASELINE': '2351 1220 2583 1220', 'HPOS': '2351', 'VPOS': '1158', 'WIDTH': '232', 'HEIGHT': '90'}\n",
      "{'ID': 'eSc_line_1f131832', 'TAGREFS': 'LT145', 'BASELINE': '1475 1226 1673 1226', 'HPOS': '1475', 'VPOS': '1158', 'WIDTH': '198', 'HEIGHT': '124'}\n",
      "{'ID': 'eSc_line_749ba834', 'TAGREFS': 'LT145', 'BASELINE': '359 1228 585 1231', 'HPOS': '354', 'VPOS': '1191', 'WIDTH': '235', 'HEIGHT': '53'}\n",
      "{'ID': 'eSc_line_4fbf3f9d', 'TAGREFS': 'LT145', 'BASELINE': '932 1237 1213 1237', 'HPOS': '927', 'VPOS': '1146', 'WIDTH': '282', 'HEIGHT': '130'}\n",
      "{'ID': 'eSc_line_d45cf1ec', 'TAGREFS': 'LT145', 'BASELINE': '644 1240 813 1240', 'HPOS': '638', 'VPOS': '1189', 'WIDTH': '170', 'HEIGHT': '99'}\n",
      "{'ID': 'eSc_line_e4c659a7', 'TAGREFS': 'LT145', 'BASELINE': '3420 1248 3575 1238', 'HPOS': '3413', 'VPOS': '1204', 'WIDTH': '159', 'HEIGHT': '58'}\n",
      "{'ID': 'eSc_line_b280df1c', 'TAGREFS': 'LT145', 'BASELINE': '3137 1254 3275 1254', 'HPOS': '3131', 'VPOS': '1211', 'WIDTH': '144', 'HEIGHT': '59'}\n",
      "{'ID': 'eSc_line_9b0a01ba', 'TAGREFS': 'LT145', 'BASELINE': '356 1278 581 1284', 'HPOS': '342', 'VPOS': '1245', 'WIDTH': '234', 'HEIGHT': '58'}\n",
      "{'ID': 'eSc_line_ee470e80', 'TAGREFS': 'LT141', 'BASELINE': '4192 1536 4236 1536', 'HPOS': '4188', 'VPOS': '1446', 'WIDTH': '46', 'HEIGHT': '147'}\n",
      "{'ID': 'eSc_line_5a0feb89', 'TAGREFS': 'LT143', 'BASELINE': '1334 1570 1665 1571 1695 1565', 'HPOS': '1284', 'VPOS': '1460', 'WIDTH': '456', 'HEIGHT': '223'}\n",
      "{'ID': 'eSc_line_e0a1e25d', 'TAGREFS': 'LT143', 'BASELINE': '872 1574 1288 1570', 'HPOS': '864', 'VPOS': '1452', 'WIDTH': '419', 'HEIGHT': '163'}\n",
      "{'ID': 'eSc_line_c2a79eaf', 'TAGREFS': 'LT143', 'BASELINE': '587 1576 830 1574', 'HPOS': '582', 'VPOS': '1446', 'WIDTH': '243', 'HEIGHT': '181'}\n",
      "{'ID': 'eSc_line_44c2a695', 'TAGREFS': 'LT143', 'BASELINE': '1435 1643 1734 1628', 'HPOS': '1430', 'VPOS': '1571', 'WIDTH': '313', 'HEIGHT': '89'}\n",
      "{'ID': 'eSc_line_4bf3374f', 'TAGREFS': 'LT143', 'BASELINE': '1339 1751 1622 1743', 'HPOS': '1334', 'VPOS': '1661', 'WIDTH': '294', 'HEIGHT': '126'}\n",
      "{'ID': 'eSc_line_80bd4032', 'TAGREFS': 'LT141', 'BASELINE': '4198 2016 4221 2016', 'HPOS': '4194', 'VPOS': '1937', 'WIDTH': '23', 'HEIGHT': '119'}\n",
      "{'ID': 'eSc_line_f9f7793e', 'TAGREFS': 'LT143', 'BASELINE': '1317 2022 1826 2011', 'HPOS': '1244', 'VPOS': '1881', 'WIDTH': '591', 'HEIGHT': '251'}\n",
      "{'ID': 'eSc_line_e6b3f53d', 'TAGREFS': 'LT143', 'BASELINE': '866 2023 1221 2017', 'HPOS': '864', 'VPOS': '1875', 'WIDTH': '351', 'HEIGHT': '273'}\n",
      "{'ID': 'eSc_line_187ca59b', 'TAGREFS': 'LT143', 'BASELINE': '604 2028 833 2024', 'HPOS': '599', 'VPOS': '1926', 'WIDTH': '250', 'HEIGHT': '147'}\n",
      "{'ID': 'eSc_line_a1a34590', 'TAGREFS': 'LT141', 'BASELINE': '4186 2434 4209 2437', 'HPOS': '4183', 'VPOS': '2413', 'WIDTH': '36', 'HEIGHT': '44'}\n",
      "{'ID': 'eSc_line_d8e38e8d', 'TAGREFS': 'LT143', 'BASELINE': '1319 2457 1850 2448', 'HPOS': '1311', 'VPOS': '2344', 'WIDTH': '537', 'HEIGHT': '153'}\n",
      "{'ID': 'eSc_line_281d4a99', 'TAGREFS': 'LT143', 'BASELINE': '893 2464 1287 2457', 'HPOS': '881', 'VPOS': '2288', 'WIDTH': '402', 'HEIGHT': '226'}\n",
      "{'ID': 'eSc_line_8335932d', 'TAGREFS': 'LT143', 'BASELINE': '604 2469 857 2465', 'HPOS': '599', 'VPOS': '2350', 'WIDTH': '254', 'HEIGHT': '147'}\n",
      "{'ID': 'eSc_line_a536d9da', 'TAGREFS': 'LT143', 'BASELINE': '616 2904 847 2892', 'HPOS': '604', 'VPOS': '2774', 'WIDTH': '243', 'HEIGHT': '293'}\n",
      "{'ID': 'eSc_line_9a42c3cb', 'TAGREFS': 'LT143', 'BASELINE': '1294 2904 1817 2897', 'HPOS': '1283', 'VPOS': '2779', 'WIDTH': '531', 'HEIGHT': '260'}\n",
      "{'ID': 'eSc_line_b084585d', 'TAGREFS': 'LT143', 'BASELINE': '955 2909 1062 2904', 'HPOS': '944', 'VPOS': '2774', 'WIDTH': '118', 'HEIGHT': '169'}\n",
      "{'ID': 'eSc_line_6a70e58e', 'TAGREFS': 'LT141', 'BASELINE': '4186 2647 4224 2647', 'HPOS': '4183', 'VPOS': '2609', 'WIDTH': '45', 'HEIGHT': '57'}\n",
      "{'ID': 'eSc_line_0bcbfb80', 'TAGREFS': 'LT141', 'BASELINE': '4189 2905 4215 2905', 'HPOS': '4188', 'VPOS': '2874', 'WIDTH': '27', 'HEIGHT': '86'}\n",
      "{'ID': 'eSc_line_978f45c2', 'TAGREFS': 'LT143', 'BASELINE': '1294 3339 1820 3339', 'HPOS': '1294', 'VPOS': '3220', 'WIDTH': '526', 'HEIGHT': '226'}\n",
      "{'ID': 'eSc_line_02ad78b2', 'TAGREFS': 'LT143', 'BASELINE': '610 3350 870 3339', 'HPOS': '604', 'VPOS': '3214', 'WIDTH': '266', 'HEIGHT': '238'}\n",
      "{'ID': 'eSc_line_c201559d', 'TAGREFS': 'LT143', 'BASELINE': '994 3350 1085 3339', 'HPOS': '977', 'VPOS': '3214', 'WIDTH': '108', 'HEIGHT': '181'}\n",
      "{'ID': 'eSc_line_d9e2503b', 'TAGREFS': 'LT143', 'BASELINE': '916 3773 1215 3768', 'HPOS': '915', 'VPOS': '3644', 'WIDTH': '330', 'HEIGHT': '254'}\n",
      "{'ID': 'eSc_line_9476071f', 'TAGREFS': 'LT143', 'BASELINE': '616 3779 863 3774', 'HPOS': '604', 'VPOS': '3599', 'WIDTH': '255', 'HEIGHT': '226'}\n",
      "{'ID': 'eSc_line_0192177a', 'TAGREFS': 'LT143', 'BASELINE': '1328 3779 1707 3762', 'HPOS': '1317', 'VPOS': '3644', 'WIDTH': '390', 'HEIGHT': '231'}\n",
      "{'ID': 'eSc_line_068cfadf', 'TAGREFS': 'LT143', 'BASELINE': '1331 4226 1844 4222', 'HPOS': '1328', 'VPOS': '4073', 'WIDTH': '514', 'HEIGHT': '271'}\n",
      "{'ID': 'eSc_line_ccc32467', 'TAGREFS': 'LT143', 'BASELINE': '901 4229 1296 4226', 'HPOS': '898', 'VPOS': '4077', 'WIDTH': '443', 'HEIGHT': '369'}\n",
      "{'ID': 'eSc_line_58b6a615', 'TAGREFS': 'LT143', 'BASELINE': '627 4231 863 4229', 'HPOS': '621', 'VPOS': '4084', 'WIDTH': '238', 'HEIGHT': '170'}\n",
      "{'ID': 'eSc_line_02fea7a3', 'TAGREFS': 'LT143', 'BASELINE': '1317 4655 1856 4659', 'HPOS': '1305', 'VPOS': '4508', 'WIDTH': '549', 'HEIGHT': '339'}\n",
      "{'ID': 'eSc_line_cd771e36', 'TAGREFS': 'LT143', 'BASELINE': '901 4665 1226 4655', 'HPOS': '898', 'VPOS': '4529', 'WIDTH': '359', 'HEIGHT': '256'}\n",
      "{'ID': 'eSc_line_f5dd1f28', 'TAGREFS': 'LT143', 'BASELINE': '633 4672 872 4665', 'HPOS': '621', 'VPOS': '4503', 'WIDTH': '249', 'HEIGHT': '271'}\n",
      "{'ID': 'eSc_line_8502be5a', 'TAGREFS': 'LT143', 'BASELINE': '1413 5096 1847 5100', 'HPOS': '1401', 'VPOS': '4983', 'WIDTH': '441', 'HEIGHT': '203'}\n",
      "{'ID': 'eSc_line_caa02f94', 'TAGREFS': 'LT143', 'BASELINE': '899 5106 1322 5096', 'HPOS': '898', 'VPOS': '4926', 'WIDTH': '421', 'HEIGHT': '215'}\n",
      "{'ID': 'eSc_line_1c1edb09', 'TAGREFS': 'LT143', 'BASELINE': '633 5113 866 5107', 'HPOS': '621', 'VPOS': '4943', 'WIDTH': '243', 'HEIGHT': '209'}\n",
      "{'ID': 'eSc_line_53a45299', 'TAGREFS': 'LT141', 'BASELINE': '4209 5148 4239 5148', 'HPOS': '4205', 'VPOS': '5051', 'WIDTH': '29', 'HEIGHT': '118'}\n",
      "{'ID': 'eSc_line_d59106a1', 'TAGREFS': 'LT143', 'BASELINE': '638 5553 869 5553', 'HPOS': '633', 'VPOS': '5412', 'WIDTH': '231', 'HEIGHT': '175'}\n",
      "{'ID': 'eSc_line_19db3cfa', 'TAGREFS': 'LT143', 'BASELINE': '899 5553 1311 5553', 'HPOS': '898', 'VPOS': '5432', 'WIDTH': '407', 'HEIGHT': '161'}\n",
      "{'ID': 'eSc_line_003c0741', 'TAGREFS': 'LT143', 'BASELINE': '1418 5553 1820 5542', 'HPOS': '1413', 'VPOS': '5446', 'WIDTH': '407', 'HEIGHT': '237'}\n",
      "{'ID': 'eSc_line_0f356ca9', 'TAGREFS': 'LT143', 'BASELINE': '655 5994 866 5996', 'HPOS': '644', 'VPOS': '5887', 'WIDTH': '220', 'HEIGHT': '158'}\n",
      "{'ID': 'eSc_line_5904ad11', 'TAGREFS': 'LT143', 'BASELINE': '899 5996 1362 6000', 'HPOS': '898', 'VPOS': '5887', 'WIDTH': '458', 'HEIGHT': '166'}\n",
      "{'ID': 'eSc_line_90c8798a', 'TAGREFS': 'LT143', 'BASELINE': '1447 6000 1825 5989', 'HPOS': '1441', 'VPOS': '5892', 'WIDTH': '384', 'HEIGHT': '187'}\n",
      "{'ID': 'eSc_line_505d74f6', 'TAGREFS': 'LT141', 'BASELINE': '4227 6035 4254 6032', 'HPOS': '4222', 'VPOS': '5994', 'WIDTH': '46', 'HEIGHT': '67'}\n"
     ]
    }
   ],
   "source": [
    "for t in root.iter('{*}TextLine'):\n",
    "    print(t.attrib)"
   ]
  },
  {
   "cell_type": "markdown",
   "metadata": {},
   "source": [
    "Everything worked as expected and we can save the file:"
   ]
  },
  {
   "cell_type": "code",
   "execution_count": 63,
   "metadata": {},
   "outputs": [],
   "source": [
    "tree.write(\"bagnes72SANS.xml\")"
   ]
  },
  {
   "cell_type": "markdown",
   "metadata": {},
   "source": [
    "Normally, we should have everything to rewrite this in a python script for the whole directory"
   ]
  },
  {
   "cell_type": "code",
   "execution_count": 3,
   "metadata": {},
   "outputs": [],
   "source": [
    "from lxml import etree"
   ]
  },
  {
   "cell_type": "code",
   "execution_count": 24,
   "metadata": {},
   "outputs": [],
   "source": [
    "tree2 = etree.parse(\"/home/bilatli/DEV/DIGITAL-HUMANITIES/CHABLE/data/AC Bagnes R46 0203.xml\")\n",
    "root2 = tree2.getroot()"
   ]
  },
  {
   "cell_type": "markdown",
   "metadata": {},
   "source": [
    "This file puzzled me for some time. There is actually a ghost line with 0 width and 0 height and no text that is not visible in eScriptorium. The line has no TAGREFS which makes my code blow up.\n",
    "We can do two things to solve this problem: include a try/except in our code and actually remove empty line"
   ]
  },
  {
   "cell_type": "code",
   "execution_count": 25,
   "metadata": {},
   "outputs": [
    {
     "name": "stdout",
     "output_type": "stream",
     "text": [
      "Confins: LT140 , francs: LT142 ,  mutations: LT144\n"
     ]
    }
   ],
   "source": [
    "for x in root2.iter('{*}OtherTag'):\n",
    "    if x.attrib['LABEL'] == 'CustomLine:confins':\n",
    "        id_conf = x.attrib['ID']\n",
    "    elif x.attrib['LABEL'] == 'CustomLine:francs':\n",
    "        id_fran = x.attrib['ID']\n",
    "    elif x.attrib['LABEL'] == 'CustomLine:mutations':\n",
    "        id_muta = x.attrib['ID']\n",
    "        \n",
    "print('Confins:',id_conf,', ' 'francs:', id_fran,', ','mutations:', id_muta)"
   ]
  },
  {
   "cell_type": "code",
   "execution_count": 22,
   "metadata": {
    "scrolled": true
   },
   "outputs": [
    {
     "name": "stdout",
     "output_type": "stream",
     "text": [
      "{'ID': 'eSc_line_e8bedd3c', 'TAGREFS': 'LT140', 'BASELINE': '1595 2078 1713 2078 1742 2078 2467 2078', 'HPOS': '1589', 'VPOS': '1982', 'WIDTH': '874', 'HEIGHT': '129'}\n",
      "{'ID': 'eSc_line_dc0e8815', 'TAGREFS': 'LT140', 'BASELINE': '1607 2866 2299 2872', 'HPOS': '1601', 'VPOS': '2787', 'WIDTH': '693', 'HEIGHT': '113'}\n",
      "{'ID': 'eSc_line_d043140c', 'TAGREFS': 'LT140', 'BASELINE': '1605 3390 1691 3392', 'HPOS': '1595', 'VPOS': '3300', 'WIDTH': '90', 'HEIGHT': '118'}\n",
      "{'ID': 'eSc_line_3d4972ae', 'TAGREFS': 'LT146', 'BASELINE': '789 411 3258 444', 'HPOS': '783', 'VPOS': '188', 'WIDTH': '2475', 'HEIGHT': '307'}\n",
      "{'ID': 'eSc_line_9b63a6c9', 'TAGREFS': 'LT145', 'BASELINE': '3444 467 3940 467', 'HPOS': '3444', 'VPOS': '382', 'WIDTH': '510', 'HEIGHT': '130'}\n",
      "{'ID': 'eSc_line_c74b2f93', 'TAGREFS': 'LT145', 'BASELINE': '140 658 789 647 2114 681 2384 687 3534 670', 'HPOS': '129', 'VPOS': '546', 'WIDTH': '3400', 'HEIGHT': '163'}\n",
      "{'ID': 'eSc_line_38d1daec', 'TAGREFS': 'LT145', 'BASELINE': '129 805 558 794 2300 839 3732 822', 'HPOS': '124', 'VPOS': '681', 'WIDTH': '3608', 'HEIGHT': '197'}\n",
      "{'ID': 'eSc_line_7b0474cc', 'TAGREFS': 'LT141', 'BASELINE': '3543 948 3889 934', 'HPOS': '3529', 'VPOS': '839', 'WIDTH': '355', 'HEIGHT': '135'}\n",
      "{'ID': 'eSc_line_649d81c3', 'TAGREFS': 'LT145', 'BASELINE': '147 966 304 955', 'HPOS': '146', 'VPOS': '909', 'WIDTH': '156', 'HEIGHT': '66'}\n",
      "{'ID': 'eSc_line_94a5818a', 'TAGREFS': 'LT145', 'BASELINE': '433 980 511 984', 'HPOS': '428', 'VPOS': '889', 'WIDTH': '79', 'HEIGHT': '141'}\n",
      "{'ID': 'eSc_line_f7f385cb', 'TAGREFS': 'LT145', 'BASELINE': '1104 1013 2339 1024', 'HPOS': '1099', 'VPOS': '906', 'WIDTH': '1240', 'HEIGHT': '147'}\n",
      "{'ID': 'eSc_line_f3db8d8a', 'TAGREFS': 'LT145', 'BASELINE': '137 1023 319 1009', 'HPOS': '134', 'VPOS': '983', 'WIDTH': '187', 'HEIGHT': '58'}\n",
      "{'ID': 'eSc_line_fd02dbea', 'TAGREFS': 'LT145', 'BASELINE': '2897 1047 2999 1047', 'HPOS': '2897', 'VPOS': '940', 'WIDTH': '102', 'HEIGHT': '152'}\n",
      "{'ID': 'eSc_line_b2ab8c57', 'TAGREFS': 'LT145', 'BASELINE': '3161 1050 3304 1047', 'HPOS': '3151', 'VPOS': '957', 'WIDTH': '152', 'HEIGHT': '124'}\n",
      "{'ID': 'eSc_line_211131fc', 'TAGREFS': 'LT145', 'BASELINE': '447 1066 504 1073', 'HPOS': '444', 'VPOS': '1033', 'WIDTH': '60', 'HEIGHT': '71'}\n",
      "{'ID': 'eSc_line_bd2e0a99', 'TAGREFS': 'LT145', 'BASELINE': '126 1076 333 1062', 'HPOS': '123', 'VPOS': '1033', 'WIDTH': '209', 'HEIGHT': '57'}\n",
      "{'ID': 'eSc_line_c7e9751a', 'TAGREFS': 'LT145', 'BASELINE': '3416 1120 3912 1120', 'HPOS': '3416', 'VPOS': '1030', 'WIDTH': '496', 'HEIGHT': '135'}\n",
      "{'ID': 'eSc_line_5556ec7a', 'TAGREFS': 'LT145', 'BASELINE': '147 1123 312 1115', 'HPOS': '146', 'VPOS': '1083', 'WIDTH': '164', 'HEIGHT': '65'}\n",
      "{'ID': 'eSc_line_b6d45ef9', 'TAGREFS': 'LT145', 'BASELINE': '3137 1130 3326 1126', 'HPOS': '3131', 'VPOS': '1075', 'WIDTH': '190', 'HEIGHT': '96'}\n",
      "{'ID': 'eSc_line_db22366b', 'TAGREFS': 'LT145', 'BASELINE': '2834 1137 3062 1132', 'HPOS': '2830', 'VPOS': '1073', 'WIDTH': '234', 'HEIGHT': '87'}\n",
      "{'ID': 'eSc_line_f7071df8', 'TAGREFS': 'LT145', 'BASELINE': '383 1166 568 1166', 'HPOS': '377', 'VPOS': '1075', 'WIDTH': '186', 'HEIGHT': '147'}\n",
      "{'ID': 'eSc_line_b15ed4e5', 'TAGREFS': 'LT145', 'BASELINE': '676 1171 986 1182', 'HPOS': '670', 'VPOS': '1092', 'WIDTH': '316', 'HEIGHT': '113'}\n",
      "{'ID': 'eSc_line_fdfed0ae', 'TAGREFS': 'LT145', 'BASELINE': '126 1173 330 1165', 'HPOS': '121', 'VPOS': '1138', 'WIDTH': '210', 'HEIGHT': '51'}\n",
      "{'ID': 'eSc_line_ff57a9ec', 'TAGREFS': 'LT145', 'BASELINE': '1228 1199 1431 1199', 'HPOS': '1228', 'VPOS': '1103', 'WIDTH': '203', 'HEIGHT': '135'}\n",
      "{'ID': 'eSc_line_4b631610', 'TAGREFS': 'LT145', 'BASELINE': '2114 1210 2328 1210', 'HPOS': '2108', 'VPOS': '1126', 'WIDTH': '214', 'HEIGHT': '124'}\n",
      "{'ID': 'eSc_line_55764582', 'TAGREFS': 'LT145', 'BASELINE': '133 1230 333 1216', 'HPOS': '129', 'VPOS': '1187', 'WIDTH': '203', 'HEIGHT': '74'}\n",
      "{'ID': 'eSc_line_bfef78b2', 'TAGREFS': 'LT145', 'BASELINE': '2873 1269 3010 1267', 'HPOS': '2869', 'VPOS': '1227', 'WIDTH': '144', 'HEIGHT': '60'}\n",
      "{'ID': 'eSc_line_9a14b45f', 'TAGREFS': 'LT145', 'BASELINE': '3176 1269 3304 1271', 'HPOS': '3173', 'VPOS': '1231', 'WIDTH': '130', 'HEIGHT': '54'}\n",
      "{'ID': 'eSc_line_406d9037', 'TAGREFS': 'LT143', 'BASELINE': '355 1498 593 1504', 'HPOS': '343', 'VPOS': '1385', 'WIDTH': '253', 'HEIGHT': '180'}\n",
      "{'ID': 'eSc_line_4c03fa12', 'TAGREFS': 'LT141', 'BASELINE': '4003 1503 4137 1498', 'HPOS': '3997', 'VPOS': '1407', 'WIDTH': '135', 'HEIGHT': '124'}\n",
      "{'ID': 'eSc_line_c1e28188', 'TAGREFS': 'LT143', 'BASELINE': '629 1505 1007 1514', 'HPOS': '620', 'VPOS': '1351', 'WIDTH': '383', 'HEIGHT': '276'}\n",
      "{'ID': 'eSc_line_0cbc1527', 'TAGREFS': 'LT143', 'BASELINE': '1100 1516 1570 1527', 'HPOS': '1093', 'VPOS': '1424', 'WIDTH': '474', 'HEIGHT': '248'}\n",
      "{'ID': 'eSc_line_c22a5b6c', 'TAGREFS': 'LT140', 'BASELINE': '1606 1528 1742 1531 1905 1537 2379 1537', 'HPOS': '1595', 'VPOS': '1424', 'WIDTH': '778', 'HEIGHT': '152'}\n",
      "{'ID': 'eSc_line_50aeea9a', 'BASELINE': '3394 1535 3394 1535', 'HPOS': '3394', 'VPOS': '1535', 'WIDTH': '0', 'HEIGHT': '0'}\n",
      "{'ID': 'eSc_line_254cecae', 'TAGREFS': 'LT144', 'BASELINE': '3401 1535 3924 1526', 'HPOS': '3399', 'VPOS': '1436', 'WIDTH': '524', 'HEIGHT': '175'}\n",
      "{'ID': 'eSc_line_f45b637b', 'TAGREFS': 'LT142', 'BASELINE': '3240 1537 3394 1535', 'HPOS': '3235', 'VPOS': '1471', 'WIDTH': '145', 'HEIGHT': '95'}\n",
      "{'ID': 'eSc_line_9b95ba28', 'TAGREFS': 'LT142', 'BASELINE': '2920 1543 3065 1540', 'HPOS': '2914', 'VPOS': '1474', 'WIDTH': '147', 'HEIGHT': '102'}\n",
      "{'ID': 'eSc_line_c8d85155', 'TAGREFS': 'LT144', 'BASELINE': '3968 1576 4153 1576', 'HPOS': '3963', 'VPOS': '1525', 'WIDTH': '188', 'HEIGHT': '68'}\n",
      "{'ID': 'eSc_line_c3945f61', 'TAGREFS': 'LT140', 'BASELINE': '1610 1636 2363 1638', 'HPOS': '1606', 'VPOS': '1537', 'WIDTH': '779', 'HEIGHT': '141'}\n",
      "{'ID': 'eSc_line_675d7b52', 'TAGREFS': 'LT144', 'BASELINE': '3405 1638 3776 1620', 'HPOS': '3399', 'VPOS': '1571', 'WIDTH': '392', 'HEIGHT': '95'}\n",
      "{'ID': 'eSc_line_27af14ae', 'TAGREFS': 'LT144', 'BASELINE': '3966 1639 4254 1650', 'HPOS': '3957', 'VPOS': '1576', 'WIDTH': '331', 'HEIGHT': '113'}\n",
      "{'ID': 'eSc_line_3edf9ff3', 'TAGREFS': 'LT145', 'BASELINE': '2645 1651 2819 1654', 'HPOS': '2644', 'VPOS': '1565', 'WIDTH': '174', 'HEIGHT': '130'}\n",
      "{'ID': 'eSc_line_39df57d2', 'TAGREFS': 'LT142', 'BASELINE': '2980 1651 3058 1651', 'HPOS': '2976', 'VPOS': '1582', 'WIDTH': '79', 'HEIGHT': '107'}\n",
      "{'ID': 'eSc_line_cc6e9288', 'TAGREFS': 'LT142', 'BASELINE': '3290 1658 3372 1658', 'HPOS': '3283', 'VPOS': '1613', 'WIDTH': '90', 'HEIGHT': '82'}\n",
      "{'ID': 'eSc_line_c6808089', 'TAGREFS': 'LT142', 'BASELINE': '2948 1717 3070 1714', 'HPOS': '2942', 'VPOS': '1676', 'WIDTH': '129', 'HEIGHT': '75'}\n",
      "{'ID': 'eSc_line_c55641c3', 'TAGREFS': 'LT145', 'BASELINE': '2648 1722 2809 1726', 'HPOS': '2644', 'VPOS': '1655', 'WIDTH': '163', 'HEIGHT': '79'}\n",
      "{'ID': 'eSc_line_13763f59', 'TAGREFS': 'LT140', 'BASELINE': '1608 1724 1713 1728 1916 1723 2362 1723', 'HPOS': '1601', 'VPOS': '1627', 'WIDTH': '755', 'HEIGHT': '141'}\n",
      "{'ID': 'eSc_line_2f882162', 'TAGREFS': 'LT144', 'BASELINE': '3390 1731 3850 1717', 'HPOS': '3388', 'VPOS': '1641', 'WIDTH': '478', 'HEIGHT': '127'}\n",
      "{'ID': 'eSc_line_739128d9', 'TAGREFS': 'LT142', 'BASELINE': '3275 1734 3372 1731', 'HPOS': '3269', 'VPOS': '1683', 'WIDTH': '106', 'HEIGHT': '79'}\n",
      "{'ID': 'eSc_line_52d6d7c9', 'TAGREFS': 'LT144', 'BASELINE': '3411 1809 3658 1807', 'HPOS': '3405', 'VPOS': '1728', 'WIDTH': '248', 'HEIGHT': '136'}\n",
      "{'ID': 'eSc_line_63d7fd05', 'TAGREFS': 'LT142', 'BASELINE': '2931 1813 3065 1809', 'HPOS': '2925', 'VPOS': '1738', 'WIDTH': '139', 'HEIGHT': '109'}\n",
      "{'ID': 'eSc_line_3e13146a', 'TAGREFS': 'LT140', 'BASELINE': '1618 1817 2250 1820', 'HPOS': '1612', 'VPOS': '1723', 'WIDTH': '637', 'HEIGHT': '124'}\n",
      "{'ID': 'eSc_line_da7d51fb', 'TAGREFS': 'LT145', 'BASELINE': '2630 1818 2812 1818', 'HPOS': '2627', 'VPOS': '1756', 'WIDTH': '180', 'HEIGHT': '91'}\n",
      "{'ID': 'eSc_line_9ca0dd8b', 'TAGREFS': 'LT143', 'BASELINE': '326 1948 590 1953', 'HPOS': '315', 'VPOS': '1847', 'WIDTH': '271', 'HEIGHT': '242'}\n",
      "{'ID': 'eSc_line_a10996a0', 'TAGREFS': 'LT143', 'BASELINE': '640 1954 958 1961', 'HPOS': '631', 'VPOS': '1751', 'WIDTH': '321', 'HEIGHT': '338'}\n",
      "{'ID': 'eSc_line_3aade27c', 'TAGREFS': 'LT143', 'BASELINE': '1061 1963 1550 1973', 'HPOS': '1012', 'VPOS': '1858', 'WIDTH': '532', 'HEIGHT': '225'}\n",
      "{'ID': 'eSc_line_a89e53c2', 'TAGREFS': 'LT141', 'BASELINE': '3980 1965 4134 1954', 'HPOS': '3974', 'VPOS': '1912', 'WIDTH': '182', 'HEIGHT': '75'}\n",
      "{'ID': 'eSc_line_8ec31874', 'TAGREFS': 'LT140', 'BASELINE': '1610 1974 1729 1976', 'HPOS': '1606', 'VPOS': '1892', 'WIDTH': '119', 'HEIGHT': '129'}\n",
      "{'ID': 'eSc_line_aa8d14db', 'TAGREFS': 'LT144', 'BASELINE': '3415 1975 3929 1971', 'HPOS': '3410', 'VPOS': '1869', 'WIDTH': '535', 'HEIGHT': '164'}\n",
      "{'ID': 'eSc_line_d70a7d41', 'TAGREFS': 'LT142', 'BASELINE': '3286 1976 3383 1975', 'HPOS': '3281', 'VPOS': '1869', 'WIDTH': '101', 'HEIGHT': '158'}\n",
      "{'ID': 'eSc_line_a15dd754', 'TAGREFS': 'LT142', 'BASELINE': '2966 1979 3058 1982', 'HPOS': '2965', 'VPOS': '1903', 'WIDTH': '92', 'HEIGHT': '130'}\n",
      "{'ID': 'eSc_line_75f2821a', 'TAGREFS': 'LT144', 'BASELINE': '3950 2029 4157 2029', 'HPOS': '3946', 'VPOS': '1979', 'WIDTH': '208', 'HEIGHT': '76'}\n",
      "{'ID': 'eSc_line_d21ba334', 'TAGREFS': 'LT145', 'BASELINE': '2648 2078 2832 2074', 'HPOS': '2644', 'VPOS': '1993', 'WIDTH': '186', 'HEIGHT': '130'}\n",
      "{'ID': 'eSc_line_0fd7f51b', 'TAGREFS': 'LT142', 'BASELINE': '3283 2082 3369 2079', 'HPOS': '3281', 'VPOS': '1993', 'WIDTH': '84', 'HEIGHT': '124'}\n",
      "{'ID': 'eSc_line_bb2665c0', 'TAGREFS': 'LT144', 'BASELINE': '3968 2081 4269 2085', 'HPOS': '3961', 'VPOS': '2042', 'WIDTH': '306', 'HEIGHT': '57'}\n",
      "{'ID': 'eSc_line_f21b4c1a', 'TAGREFS': 'LT142', 'BASELINE': '2942 2094 3049 2097', 'HPOS': '2931', 'VPOS': '2041', 'WIDTH': '123', 'HEIGHT': '121'}\n",
      "{'ID': 'eSc_line_f8afe5f2', 'TAGREFS': 'LT140', 'BASELINE': '1607 2168 1708 2168', 'HPOS': '1606', 'VPOS': '2115', 'WIDTH': '109', 'HEIGHT': '92'}\n",
      "{'ID': 'eSc_line_b564e2b2', 'TAGREFS': 'LT144', 'BASELINE': '3382 2179 3895 2162', 'HPOS': '3371', 'VPOS': '2072', 'WIDTH': '524', 'HEIGHT': '146'}\n",
      "{'ID': 'eSc_line_cd2c60c4', 'TAGREFS': 'LT141', 'BASELINE': '3985 2185 4177 2185', 'HPOS': '3985', 'VPOS': '2089', 'WIDTH': '192', 'HEIGHT': '141'}\n",
      "{'ID': 'eSc_line_54de3d2c', 'TAGREFS': 'LT140', 'BASELINE': '1603 2255 1742 2258', 'HPOS': '1601', 'VPOS': '2162', 'WIDTH': '135', 'HEIGHT': '152'}\n",
      "{'ID': 'eSc_line_30c6a447', 'TAGREFS': 'LT142', 'BASELINE': '3108 2371 3361 2371', 'HPOS': '3106', 'VPOS': '2286', 'WIDTH': '254', 'HEIGHT': '104'}\n",
      "{'ID': 'eSc_line_9513e24c', 'TAGREFS': 'LT144', 'BASELINE': '1388 2374 2734 2376', 'HPOS': '1386', 'VPOS': '2258', 'WIDTH': '1342', 'HEIGHT': '141'}\n",
      "{'ID': 'eSc_line_946ac7a4', 'TAGREFS': 'LT142', 'BASELINE': '2819 2385 3037 2378', 'HPOS': '2818', 'VPOS': '2318', 'WIDTH': '227', 'HEIGHT': '86'}\n",
      "{'ID': 'eSc_line_22a1cd57', 'TAGREFS': 'LT143', 'BASELINE': '614 2399 911 2408', 'HPOS': '603', 'VPOS': '2247', 'WIDTH': '304', 'HEIGHT': '281'}\n",
      "{'ID': 'eSc_line_7455db7a', 'TAGREFS': 'LT143', 'BASELINE': '338 2404 546 2404', 'HPOS': '338', 'VPOS': '2263', 'WIDTH': '208', 'HEIGHT': '186'}\n",
      "{'ID': 'eSc_line_c9a07893', 'TAGREFS': 'LT143', 'BASELINE': '1036 2407 1592 2414', 'HPOS': '1031', 'VPOS': '2329', 'WIDTH': '558', 'HEIGHT': '205'}\n",
      "{'ID': 'eSc_line_46a40a3c', 'TAGREFS': 'LT144', 'BASELINE': '3390 2414 3901 2427', 'HPOS': '3382', 'VPOS': '2280', 'WIDTH': '513', 'HEIGHT': '197'}\n",
      "{'ID': 'eSc_line_26c13a55', 'TAGREFS': 'LT140', 'BASELINE': '1614 2417 2413 2428', 'HPOS': '1606', 'VPOS': '2299', 'WIDTH': '806', 'HEIGHT': '167'}\n",
      "{'ID': 'eSc_line_473d54ee', 'TAGREFS': 'LT142', 'BASELINE': '2923 2425 3062 2425', 'HPOS': '2920', 'VPOS': '2377', 'WIDTH': '161', 'HEIGHT': '70'}\n",
      "{'ID': 'eSc_line_9ee02bd6', 'TAGREFS': 'LT142', 'BASELINE': '3237 2428 3376 2425', 'HPOS': '3235', 'VPOS': '2379', 'WIDTH': '136', 'HEIGHT': '82'}\n",
      "{'ID': 'eSc_line_1dc8929e', 'TAGREFS': 'LT141', 'BASELINE': '3974 2432 4143 2444', 'HPOS': '3968', 'VPOS': '2354', 'WIDTH': '175', 'HEIGHT': '118'}\n",
      "{'ID': 'eSc_line_44565252', 'TAGREFS': 'LT143', 'BASELINE': '1346 2464 1571 2464', 'HPOS': '1341', 'VPOS': '2431', 'WIDTH': '231', 'HEIGHT': '52'}\n",
      "{'ID': 'eSc_line_aef1e69c', 'TAGREFS': 'LT142', 'BASELINE': '3258 2505 3378 2503', 'HPOS': '3252', 'VPOS': '2456', 'WIDTH': '127', 'HEIGHT': '89'}\n",
      "{'ID': 'eSc_line_6e3295a7', 'TAGREFS': 'LT142', 'BASELINE': '2869 2506 3049 2506', 'HPOS': '2869', 'VPOS': '2453', 'WIDTH': '183', 'HEIGHT': '86'}\n",
      "{'ID': 'eSc_line_e3209e39', 'TAGREFS': 'LT144', 'BASELINE': '3410 2511 3647 2522', 'HPOS': '3405', 'VPOS': '2432', 'WIDTH': '242', 'HEIGHT': '141'}\n",
      "{'ID': 'eSc_line_26774bb5', 'TAGREFS': 'LT143', 'BASELINE': '1393 2514 1577 2522', 'HPOS': '1392', 'VPOS': '2477', 'WIDTH': '180', 'HEIGHT': '60'}\n",
      "{'ID': 'eSc_line_b3e1c596', 'TAGREFS': 'LT145', 'BASELINE': '2627 2514 2784 2511', 'HPOS': '2621', 'VPOS': '2439', 'WIDTH': '186', 'HEIGHT': '96'}\n",
      "{'ID': 'eSc_line_946f3fef', 'TAGREFS': 'LT140', 'BASELINE': '1600 2517 2442 2524', 'HPOS': '1589', 'VPOS': '2421', 'WIDTH': '852', 'HEIGHT': '169'}\n",
      "{'ID': 'eSc_line_f8809e2f', 'TAGREFS': 'LT143', 'BASELINE': '231 2539 569 2517', 'HPOS': '225', 'VPOS': '2404', 'WIDTH': '344', 'HEIGHT': '164'}\n",
      "{'ID': 'eSc_line_72e30152', 'TAGREFS': 'LT144', 'BASELINE': '3935 2539 4262 2539', 'HPOS': '3935', 'VPOS': '2469', 'WIDTH': '338', 'HEIGHT': '99'}\n",
      "{'ID': 'eSc_line_44db42bc', 'TAGREFS': 'LT142', 'BASELINE': '2869 2590 3059 2584', 'HPOS': '2863', 'VPOS': '2537', 'WIDTH': '212', 'HEIGHT': '87'}\n",
      "{'ID': 'eSc_line_3794ef5e', 'TAGREFS': 'LT140', 'BASELINE': '1608 2607 2450 2612', 'HPOS': '1601', 'VPOS': '2522', 'WIDTH': '845', 'HEIGHT': '124'}\n",
      "{'ID': 'eSc_line_3474536e', 'TAGREFS': 'LT145', 'BASELINE': '2609 2607 2819 2607', 'HPOS': '2604', 'VPOS': '2535', 'WIDTH': '214', 'HEIGHT': '117'}\n",
      "{'ID': 'eSc_line_0bd39ee3', 'TAGREFS': 'LT143', 'BASELINE': '1037 2646 1539 2646', 'HPOS': '1031', 'VPOS': '2562', 'WIDTH': '502', 'HEIGHT': '135'}\n",
      "{'ID': 'eSc_line_825282e6', 'TAGREFS': 'LT142', 'BASELINE': '2891 2685 3073 2685', 'HPOS': '2886', 'VPOS': '2635', 'WIDTH': '189', 'HEIGHT': '69'}\n",
      "{'ID': 'eSc_line_b7bdf325', 'TAGREFS': 'LT140', 'BASELINE': '1601 2708 2484 2712', 'HPOS': '1589', 'VPOS': '2607', 'WIDTH': '891', 'HEIGHT': '146'}\n",
      "{'ID': 'eSc_line_2ffc0486', 'TAGREFS': 'LT145', 'BASELINE': '2616 2713 2826 2713', 'HPOS': '2615', 'VPOS': '2596', 'WIDTH': '209', 'HEIGHT': '140'}\n",
      "{'ID': 'eSc_line_140a77df', 'TAGREFS': 'LT142', 'BASELINE': '3235 2748 3379 2748', 'HPOS': '3230', 'VPOS': '2669', 'WIDTH': '146', 'HEIGHT': '107'}\n",
      "{'ID': 'eSc_line_7b723aa6', 'TAGREFS': 'LT144', 'BASELINE': '3422 2748 3861 2748', 'HPOS': '3416', 'VPOS': '2624', 'WIDTH': '440', 'HEIGHT': '163'}\n",
      "{'ID': 'eSc_line_5a498cce', 'TAGREFS': 'LT142', 'BASELINE': '2931 2759 3072 2759', 'HPOS': '2931', 'VPOS': '2707', 'WIDTH': '141', 'HEIGHT': '91'}\n",
      "{'ID': 'eSc_line_331159d8', 'TAGREFS': 'LT143', 'BASELINE': '377 2838 575 2841', 'HPOS': '366', 'VPOS': '2725', 'WIDTH': '203', 'HEIGHT': '164'}\n",
      "{'ID': 'eSc_line_4e31d3fb', 'TAGREFS': 'LT143', 'BASELINE': '650 2842 996 2847', 'HPOS': '642', 'VPOS': '2675', 'WIDTH': '350', 'HEIGHT': '292'}\n",
      "{'ID': 'eSc_line_9656fa30', 'TAGREFS': 'LT143', 'BASELINE': '1061 2856 1559 2863', 'HPOS': '1054', 'VPOS': '2736', 'WIDTH': '501', 'HEIGHT': '231'}\n",
      "{'ID': 'eSc_line_00904a33', 'TAGREFS': 'LT142', 'BASELINE': '2880 2860 3083 2860', 'HPOS': '2880', 'VPOS': '2770', 'WIDTH': '203', 'HEIGHT': '130'}\n",
      "{'ID': 'eSc_line_8ac3a774', 'TAGREFS': 'LT142', 'BASELINE': '3213 2866 3361 2866', 'HPOS': '3207', 'VPOS': '2799', 'WIDTH': '171', 'HEIGHT': '76'}\n",
      "{'ID': 'eSc_line_f4d43545', 'TAGREFS': 'LT144', 'BASELINE': '3401 2866 3932 2866', 'HPOS': '3399', 'VPOS': '2748', 'WIDTH': '530', 'HEIGHT': '152'}\n",
      "{'ID': 'eSc_line_98898c40', 'TAGREFS': 'LT141', 'BASELINE': '3975 2866 4136 2866', 'HPOS': '3974', 'VPOS': '2815', 'WIDTH': '158', 'HEIGHT': '79'}\n",
      "{'ID': 'eSc_line_b4215cc7', 'TAGREFS': 'LT144', 'BASELINE': '3940 2928 4245 2917', 'HPOS': '3940', 'VPOS': '2865', 'WIDTH': '309', 'HEIGHT': '85'}\n",
      "{'ID': 'eSc_line_3adae2be', 'TAGREFS': 'LT142', 'BASELINE': '3237 2935 3365 2935', 'HPOS': '3232', 'VPOS': '2866', 'WIDTH': '128', 'HEIGHT': '125'}\n",
      "{'ID': 'eSc_line_bc9fafe5', 'TAGREFS': 'LT142', 'BASELINE': '2863 2939 3049 2939', 'HPOS': '2863', 'VPOS': '2866', 'WIDTH': '186', 'HEIGHT': '124'}\n",
      "{'ID': 'eSc_line_687d2a83', 'TAGREFS': 'LT145', 'BASELINE': '2576 2950 2796 2952', 'HPOS': '2565', 'VPOS': '2776', 'WIDTH': '225', 'HEIGHT': '220'}\n",
      "{'ID': 'eSc_line_71a4c619', 'TAGREFS': 'LT140', 'BASELINE': '1616 2958 2412 2960', 'HPOS': '1612', 'VPOS': '2866', 'WIDTH': '795', 'HEIGHT': '119'}\n",
      "{'ID': 'eSc_line_72d6d12e', 'TAGREFS': 'LT144', 'BASELINE': '3410 2962 3630 2956', 'HPOS': '3405', 'VPOS': '2877', 'WIDTH': '225', 'HEIGHT': '147'}\n",
      "{'ID': 'eSc_line_d497765c', 'TAGREFS': 'LT142', 'BASELINE': '2892 3041 3069 3042', 'HPOS': '2883', 'VPOS': '2973', 'WIDTH': '191', 'HEIGHT': '102'}\n",
      "{'ID': 'eSc_line_3118a4b5', 'TAGREFS': 'LT140', 'BASELINE': '1607 3048 2486 3052', 'HPOS': '1606', 'VPOS': '2967', 'WIDTH': '874', 'HEIGHT': '99'}\n",
      "{'ID': 'eSc_line_cbd6878f', 'TAGREFS': 'LT145', 'BASELINE': '2610 3052 2806 3046', 'HPOS': '2598', 'VPOS': '2956', 'WIDTH': '203', 'HEIGHT': '124'}\n",
      "{'ID': 'eSc_line_3e2521c8', 'TAGREFS': 'LT144', 'BASELINE': '3360 3052 4092 3041', 'HPOS': '3354', 'VPOS': '2950', 'WIDTH': '738', 'HEIGHT': '137'}\n",
      "{'ID': 'eSc_line_03b078cd', 'TAGREFS': 'LT144', 'BASELINE': '3371 3136 3784 3136', 'HPOS': '3365', 'VPOS': '3069', 'WIDTH': '431', 'HEIGHT': '180'}\n",
      "{'ID': 'eSc_line_d05a272d', 'TAGREFS': 'LT140', 'BASELINE': '1605 3143 2427 3142', 'HPOS': '1595', 'VPOS': '3069', 'WIDTH': '829', 'HEIGHT': '166'}\n",
      "{'ID': 'eSc_line_00a6471d', 'TAGREFS': 'LT141', 'BASELINE': '3661 3198 4047 3215', 'HPOS': '3653', 'VPOS': '3136', 'WIDTH': '389', 'HEIGHT': '119'}\n",
      "{'ID': 'eSc_line_ae76353e', 'TAGREFS': 'LT140', 'BASELINE': '1614 3300 1736 3300', 'HPOS': '1612', 'VPOS': '3254', 'WIDTH': '123', 'HEIGHT': '96'}\n",
      "{'ID': 'eSc_line_150e1eda', 'TAGREFS': 'LT140', 'BASELINE': '1601 3486 1702 3486', 'HPOS': '1601', 'VPOS': '3412', 'WIDTH': '101', 'HEIGHT': '113'}\n",
      "{'ID': 'eSc_line_846d36e7', 'TAGREFS': 'LT140', 'BASELINE': '1607 3580 1743 3577', 'HPOS': '1606', 'VPOS': '3497', 'WIDTH': '136', 'HEIGHT': '129'}\n",
      "{'ID': 'eSc_line_4a845268', 'TAGREFS': 'LT140', 'BASELINE': '1613 3745 1740 3747', 'HPOS': '1606', 'VPOS': '3702', 'WIDTH': '132', 'HEIGHT': '82'}\n",
      "{'ID': 'eSc_line_48ffa873', 'TAGREFS': 'LT140', 'BASELINE': '1601 3835 1687 3836', 'HPOS': '1589', 'VPOS': '3794', 'WIDTH': '100', 'HEIGHT': '80'}\n",
      "{'ID': 'eSc_line_26e3ee83', 'TAGREFS': 'LT140', 'BASELINE': '1603 3924 1706 3925', 'HPOS': '1601', 'VPOS': '3840', 'WIDTH': '101', 'HEIGHT': '124'}\n",
      "{'ID': 'eSc_line_24a41681', 'TAGREFS': 'LT140', 'BASELINE': '1601 4021 1730 4021', 'HPOS': '1595', 'VPOS': '3972', 'WIDTH': '132', 'HEIGHT': '77'}\n",
      "{'ID': 'eSc_line_2431d9bd', 'TAGREFS': 'LT140', 'BASELINE': '1595 4173 1730 4173', 'HPOS': '1589', 'VPOS': '4129', 'WIDTH': '156', 'HEIGHT': '83'}\n",
      "{'ID': 'eSc_line_3857c97b', 'TAGREFS': 'LT140', 'BASELINE': '1595 4280 1698 4279', 'HPOS': '1589', 'VPOS': '4224', 'WIDTH': '107', 'HEIGHT': '73'}\n",
      "{'ID': 'eSc_line_4dd41c1b', 'TAGREFS': 'LT140', 'BASELINE': '1600 4364 1708 4364', 'HPOS': '1595', 'VPOS': '4311', 'WIDTH': '109', 'HEIGHT': '87'}\n",
      "{'ID': 'eSc_line_658a1cca', 'TAGREFS': 'LT140', 'BASELINE': '1600 4450 1736 4446', 'HPOS': '1595', 'VPOS': '4409', 'WIDTH': '135', 'HEIGHT': '73'}\n",
      "{'ID': 'eSc_line_126eeab5', 'TAGREFS': 'LT140', 'BASELINE': '1589 4623 1730 4623', 'HPOS': '1589', 'VPOS': '4587', 'WIDTH': '141', 'HEIGHT': '64'}\n",
      "{'ID': 'eSc_line_91b2f4ee', 'TAGREFS': 'LT140', 'BASELINE': '1601 4719 1680 4720', 'HPOS': '1589', 'VPOS': '4675', 'WIDTH': '97', 'HEIGHT': '78'}\n",
      "{'ID': 'eSc_line_9e9efa10', 'TAGREFS': 'LT140', 'BASELINE': '1601 4809 1700 4810', 'HPOS': '1589', 'VPOS': '4730', 'WIDTH': '107', 'HEIGHT': '113'}\n",
      "{'ID': 'eSc_line_7011815e', 'TAGREFS': 'LT140', 'BASELINE': '1598 4893 1729 4894', 'HPOS': '1589', 'VPOS': '4846', 'WIDTH': '142', 'HEIGHT': '81'}\n",
      "{'ID': 'eSc_line_013e9789', 'TAGREFS': 'LT140', 'BASELINE': '1600 5068 1734 5071', 'HPOS': '1589', 'VPOS': '5011', 'WIDTH': '144', 'HEIGHT': '96'}\n",
      "{'ID': 'eSc_line_3219c452', 'TAGREFS': 'LT140', 'BASELINE': '1595 5164 1691 5164', 'HPOS': '1589', 'VPOS': '5114', 'WIDTH': '100', 'HEIGHT': '89'}\n",
      "{'ID': 'eSc_line_df961ed6', 'TAGREFS': 'LT140', 'BASELINE': '1595 5252 1702 5254', 'HPOS': '1589', 'VPOS': '5169', 'WIDTH': '107', 'HEIGHT': '130'}\n",
      "{'ID': 'eSc_line_4dedba5b', 'TAGREFS': 'LT140', 'BASELINE': '1603 5350 1743 5349', 'HPOS': '1601', 'VPOS': '5290', 'WIDTH': '141', 'HEIGHT': '122'}\n",
      "{'ID': 'eSc_line_eedb98d8', 'TAGREFS': 'LT140', 'BASELINE': '1600 5507 1725 5507', 'HPOS': '1595', 'VPOS': '5412', 'WIDTH': '124', 'HEIGHT': '135'}\n",
      "{'ID': 'eSc_line_4d71fcbf', 'TAGREFS': 'LT140', 'BASELINE': '1592 5609 1687 5611', 'HPOS': '1584', 'VPOS': '5549', 'WIDTH': '109', 'HEIGHT': '82'}\n",
      "{'ID': 'eSc_line_a54f1132', 'TAGREFS': 'LT140', 'BASELINE': '1603 5699 1708 5699', 'HPOS': '1601', 'VPOS': '5620', 'WIDTH': '101', 'HEIGHT': '113'}\n",
      "{'ID': 'eSc_line_848f77aa', 'TAGREFS': 'LT140', 'BASELINE': '1596 5794 1730 5794', 'HPOS': '1595', 'VPOS': '5716', 'WIDTH': '130', 'HEIGHT': '124'}\n",
      "{'ID': 'eSc_line_8868fdcd', 'TAGREFS': 'LT140', 'BASELINE': '1595 5954 1730 5958', 'HPOS': '1589', 'VPOS': '5845', 'WIDTH': '136', 'HEIGHT': '163'}\n",
      "{'ID': 'eSc_line_4cbf768f', 'TAGREFS': 'LT140', 'BASELINE': '1595 6059 1675 6059', 'HPOS': '1589', 'VPOS': '5963', 'WIDTH': '85', 'HEIGHT': '141'}\n",
      "{'ID': 'eSc_line_d0333daf', 'TAGREFS': 'LT140', 'BASELINE': '1595 6149 1685 6149 1696 6149', 'HPOS': '1589', 'VPOS': '6054', 'WIDTH': '102', 'HEIGHT': '146'}\n",
      "{'ID': 'eSc_line_4f8238bd', 'TAGREFS': 'LT140', 'BASELINE': '1599 6245 1725 6245', 'HPOS': '1595', 'VPOS': '6155', 'WIDTH': '124', 'HEIGHT': '141'}\n"
     ]
    }
   ],
   "source": [
    "for t in root2.iter('{*}TextLine'):\n",
    "    print(t.attrib)"
   ]
  },
  {
   "cell_type": "code",
   "execution_count": 17,
   "metadata": {
    "scrolled": true
   },
   "outputs": [
    {
     "name": "stdout",
     "output_type": "stream",
     "text": [
      "LT146\n",
      "LT145\n",
      "LT145\n",
      "LT145\n",
      "LT141\n",
      "LT145\n",
      "LT145\n",
      "LT145\n",
      "LT145\n",
      "LT145\n",
      "LT145\n",
      "LT145\n",
      "LT145\n",
      "LT145\n",
      "LT145\n",
      "LT145\n",
      "LT145\n",
      "LT145\n",
      "LT145\n",
      "LT145\n",
      "LT145\n",
      "LT145\n",
      "LT145\n",
      "LT145\n",
      "LT145\n",
      "LT143\n",
      "LT141\n",
      "LT143\n",
      "LT143\n"
     ]
    },
    {
     "ename": "KeyError",
     "evalue": "'TAGREFS'",
     "output_type": "error",
     "traceback": [
      "\u001b[0;31m---------------------------------------------------------------------------\u001b[0m",
      "\u001b[0;31mKeyError\u001b[0m                                  Traceback (most recent call last)",
      "\u001b[0;32m<ipython-input-17-3ebc65decce0>\u001b[0m in \u001b[0;36m<module>\u001b[0;34m\u001b[0m\n\u001b[1;32m      1\u001b[0m \u001b[0;32mfor\u001b[0m \u001b[0mt\u001b[0m \u001b[0;32min\u001b[0m \u001b[0mroot2\u001b[0m\u001b[0;34m.\u001b[0m\u001b[0miter\u001b[0m\u001b[0;34m(\u001b[0m\u001b[0;34m'{*}TextLine'\u001b[0m\u001b[0;34m)\u001b[0m\u001b[0;34m:\u001b[0m\u001b[0;34m\u001b[0m\u001b[0;34m\u001b[0m\u001b[0m\n\u001b[0;32m----> 2\u001b[0;31m     \u001b[0mprint\u001b[0m\u001b[0;34m(\u001b[0m\u001b[0mt\u001b[0m\u001b[0;34m.\u001b[0m\u001b[0mattrib\u001b[0m\u001b[0;34m[\u001b[0m\u001b[0;34m'TAGREFS'\u001b[0m\u001b[0;34m]\u001b[0m\u001b[0;34m)\u001b[0m\u001b[0;34m\u001b[0m\u001b[0;34m\u001b[0m\u001b[0m\n\u001b[0m",
      "\u001b[0;32msrc/lxml/etree.pyx\u001b[0m in \u001b[0;36mlxml.etree._Attrib.__getitem__\u001b[0;34m()\u001b[0m\n",
      "\u001b[0;31mKeyError\u001b[0m: 'TAGREFS'"
     ]
    }
   ],
   "source": [
    "for t in root2.iter('{*}TextLine'):\n",
    "    print(t.attrib['TAGREFS'])"
   ]
  },
  {
   "cell_type": "code",
   "execution_count": 15,
   "metadata": {
    "scrolled": true
   },
   "outputs": [
    {
     "ename": "KeyError",
     "evalue": "'TAGREFS'",
     "output_type": "error",
     "traceback": [
      "\u001b[0;31m---------------------------------------------------------------------------\u001b[0m",
      "\u001b[0;31mKeyError\u001b[0m                                  Traceback (most recent call last)",
      "\u001b[0;32m<ipython-input-15-416071941721>\u001b[0m in \u001b[0;36m<module>\u001b[0;34m\u001b[0m\n\u001b[1;32m      2\u001b[0m \u001b[0;32mfor\u001b[0m \u001b[0mt\u001b[0m \u001b[0;32min\u001b[0m \u001b[0mroot2\u001b[0m\u001b[0;34m.\u001b[0m\u001b[0miter\u001b[0m\u001b[0;34m(\u001b[0m\u001b[0;34m'{*}TextLine'\u001b[0m\u001b[0;34m)\u001b[0m\u001b[0;34m:\u001b[0m\u001b[0;34m\u001b[0m\u001b[0;34m\u001b[0m\u001b[0m\n\u001b[1;32m      3\u001b[0m \u001b[0;34m\u001b[0m\u001b[0m\n\u001b[0;32m----> 4\u001b[0;31m     \u001b[0;32mif\u001b[0m \u001b[0mt\u001b[0m\u001b[0;34m.\u001b[0m\u001b[0mattrib\u001b[0m\u001b[0;34m[\u001b[0m\u001b[0;34m'TAGREFS'\u001b[0m\u001b[0;34m]\u001b[0m \u001b[0;34m==\u001b[0m \u001b[0mid_conf\u001b[0m\u001b[0;34m:\u001b[0m\u001b[0;34m\u001b[0m\u001b[0;34m\u001b[0m\u001b[0m\n\u001b[0m\u001b[1;32m      5\u001b[0m         \u001b[0;31m#lst.append(t)\u001b[0m\u001b[0;34m\u001b[0m\u001b[0;34m\u001b[0m\u001b[0;34m\u001b[0m\u001b[0m\n\u001b[1;32m      6\u001b[0m         \u001b[0mt\u001b[0m\u001b[0;34m.\u001b[0m\u001b[0mgetparent\u001b[0m\u001b[0;34m(\u001b[0m\u001b[0;34m)\u001b[0m\u001b[0;34m.\u001b[0m\u001b[0mremove\u001b[0m\u001b[0;34m(\u001b[0m\u001b[0mt\u001b[0m\u001b[0;34m)\u001b[0m\u001b[0;34m\u001b[0m\u001b[0;34m\u001b[0m\u001b[0m\n",
      "\u001b[0;32msrc/lxml/etree.pyx\u001b[0m in \u001b[0;36mlxml.etree._Attrib.__getitem__\u001b[0;34m()\u001b[0m\n",
      "\u001b[0;31mKeyError\u001b[0m: 'TAGREFS'"
     ]
    }
   ],
   "source": [
    "lst = []\n",
    "for t in root2.iter('{*}TextLine'):\n",
    "    \n",
    "    if t.attrib['TAGREFS'] == id_conf:\n",
    "        #lst.append(t)\n",
    "        t.getparent().remove(t)\n",
    "    elif t.attrib['TAGREFS'] == id_muta:\n",
    "        #lst.append(t)\n",
    "        t.getparent().remove(t)\n",
    "    elif t.attrib['TAGREFS'] == id_fran:\n",
    "        #lst.append(t)\n",
    "        t.getparent().remove(t)\n",
    "print(lst)\n",
    "        "
   ]
  },
  {
   "cell_type": "markdown",
   "metadata": {},
   "source": [
    "Adding a try except:"
   ]
  },
  {
   "cell_type": "code",
   "execution_count": 27,
   "metadata": {},
   "outputs": [
    {
     "name": "stdout",
     "output_type": "stream",
     "text": [
      "An exception occurred. No TAGREFS at:  eSc_line_50aeea9a\n",
      "<Element {http://www.loc.gov/standards/alto/ns-v4#}TextLine at 0x7f14e53003c8>\n",
      "<Element {http://www.loc.gov/standards/alto/ns-v4#}TextLine at 0x7f14e53005c8>\n",
      "<Element {http://www.loc.gov/standards/alto/ns-v4#}TextLine at 0x7f14e5308688>\n",
      "<Element {http://www.loc.gov/standards/alto/ns-v4#}TextLine at 0x7f14e5308688>\n",
      "<Element {http://www.loc.gov/standards/alto/ns-v4#}TextLine at 0x7f14e5308688>\n",
      "<Element {http://www.loc.gov/standards/alto/ns-v4#}TextLine at 0x7f14e5308688>\n",
      "<Element {http://www.loc.gov/standards/alto/ns-v4#}TextLine at 0x7f14e53003c8>\n",
      "<Element {http://www.loc.gov/standards/alto/ns-v4#}TextLine at 0x7f14e5308688>\n",
      "<Element {http://www.loc.gov/standards/alto/ns-v4#}TextLine at 0x7f14e53005c8>\n",
      "<Element {http://www.loc.gov/standards/alto/ns-v4#}TextLine at 0x7f14e53003c8>\n",
      "<Element {http://www.loc.gov/standards/alto/ns-v4#}TextLine at 0x7f14e5308688>\n",
      "<Element {http://www.loc.gov/standards/alto/ns-v4#}TextLine at 0x7f14e5308688>\n",
      "<Element {http://www.loc.gov/standards/alto/ns-v4#}TextLine at 0x7f14e53005c8>\n",
      "<Element {http://www.loc.gov/standards/alto/ns-v4#}TextLine at 0x7f14e5308688>\n",
      "<Element {http://www.loc.gov/standards/alto/ns-v4#}TextLine at 0x7f14e53005c8>\n",
      "<Element {http://www.loc.gov/standards/alto/ns-v4#}TextLine at 0x7f14e5300748>\n",
      "<Element {http://www.loc.gov/standards/alto/ns-v4#}TextLine at 0x7f14e5308688>\n",
      "<Element {http://www.loc.gov/standards/alto/ns-v4#}TextLine at 0x7f14e53005c8>\n",
      "<Element {http://www.loc.gov/standards/alto/ns-v4#}TextLine at 0x7f14e5300748>\n",
      "<Element {http://www.loc.gov/standards/alto/ns-v4#}TextLine at 0x7f14e5308688>\n",
      "<Element {http://www.loc.gov/standards/alto/ns-v4#}TextLine at 0x7f14e53005c8>\n",
      "<Element {http://www.loc.gov/standards/alto/ns-v4#}TextLine at 0x7f14e5300748>\n",
      "<Element {http://www.loc.gov/standards/alto/ns-v4#}TextLine at 0x7f14e5308688>\n",
      "<Element {http://www.loc.gov/standards/alto/ns-v4#}TextLine at 0x7f14e53005c8>\n",
      "<Element {http://www.loc.gov/standards/alto/ns-v4#}TextLine at 0x7f14e5300748>\n",
      "<Element {http://www.loc.gov/standards/alto/ns-v4#}TextLine at 0x7f14e5308688>\n",
      "<Element {http://www.loc.gov/standards/alto/ns-v4#}TextLine at 0x7f14e53005c8>\n",
      "<Element {http://www.loc.gov/standards/alto/ns-v4#}TextLine at 0x7f14e5300748>\n",
      "<Element {http://www.loc.gov/standards/alto/ns-v4#}TextLine at 0x7f14e5308688>\n",
      "<Element {http://www.loc.gov/standards/alto/ns-v4#}TextLine at 0x7f14e53005c8>\n",
      "<Element {http://www.loc.gov/standards/alto/ns-v4#}TextLine at 0x7f14e5300748>\n",
      "<Element {http://www.loc.gov/standards/alto/ns-v4#}TextLine at 0x7f14e5308688>\n",
      "<Element {http://www.loc.gov/standards/alto/ns-v4#}TextLine at 0x7f14e53005c8>\n",
      "<Element {http://www.loc.gov/standards/alto/ns-v4#}TextLine at 0x7f14e5300748>\n",
      "<Element {http://www.loc.gov/standards/alto/ns-v4#}TextLine at 0x7f14e5308688>\n",
      "<Element {http://www.loc.gov/standards/alto/ns-v4#}TextLine at 0x7f14e53005c8>\n",
      "<Element {http://www.loc.gov/standards/alto/ns-v4#}TextLine at 0x7f14e5300748>\n",
      "<Element {http://www.loc.gov/standards/alto/ns-v4#}TextLine at 0x7f14e5308688>\n",
      "<Element {http://www.loc.gov/standards/alto/ns-v4#}TextLine at 0x7f14e53005c8>\n",
      "<Element {http://www.loc.gov/standards/alto/ns-v4#}TextLine at 0x7f14e5300748>\n"
     ]
    }
   ],
   "source": [
    "for t in root2.iter('{*}TextLine'):\n",
    "    try:\n",
    "        if t.attrib['TAGREFS'] == id_conf:\n",
    "            print(t)\n",
    "            t.getparent().remove(t)\n",
    "        elif t.attrib['TAGREFS'] == id_muta:\n",
    "            t.getparent().remove(t)\n",
    "        elif t.attrib['TAGREFS'] == id_fran:\n",
    "            t.getparent().remove(t)\n",
    "    except:\n",
    "        print(\"An exception occurred. No TAGREFS at: \", t.attrib['ID'])\n",
    "        continue"
   ]
  },
  {
   "cell_type": "markdown",
   "metadata": {},
   "source": [
    "Then we can try to remove the empty lines"
   ]
  },
  {
   "cell_type": "code",
   "execution_count": 36,
   "metadata": {
    "scrolled": false
   },
   "outputs": [
    {
     "name": "stdout",
     "output_type": "stream",
     "text": [
      "Registre de l'impôt sur les Bâtiments.\n",
      "FOL. 203\n",
      "Nom du Contribuable Fellay Alice fille de Fçois-Cyprien\n",
      "domiciliée à Lourtier Bagnes Dumoulin Jean de Louis P.J. 29716 du 5.8.85\n",
      "9 AOUT 1985\n",
      "Article\n",
      "No.\n",
      "DESIGNATION DES BATIMENTS\n",
      "avec série\n",
      "Taxe\n",
      "Valeur\n",
      "du\n",
      "continue des\n",
      "MUTATIONS\n",
      "Nros des\n",
      "imposable\n",
      "du bâtiment\n",
      "bâtiment\n",
      "Nom local\n",
      "bâtiments de\n",
      "Nature\n",
      "Confins\n",
      "la Commune\n",
      "Francs\n",
      "Francs\n",
      "4040\n",
      "1926\n",
      "Proneiroz\n",
      "une grange\n",
      "\n",
      "Rv. 1934\n",
      "R. 1950\n",
      "R.1960\n",
      "4289\n",
      "Pratay\n",
      "grange 1/2\n",
      "1926\n",
      "Rv. 1934\n",
      "1945\n",
      "Morgnoz\n",
      "2591\n",
      "maison étage inférieur\n",
      "1942\n",
      "et cave\n",
      "135m\n",
      "R. 1950\n",
      "106/19503\n",
      "R. 1919\n",
      "place 42 x 15.-\n",
      "R. 1968\n",
      "2596\n",
      "Morgnoz\n",
      "grange écurie\n",
      "1942\n",
      "R. 1950\n",
      "R. 1960\n",
      "29 DEC. 1971\n"
     ]
    }
   ],
   "source": [
    "for t in root2.iter('{*}TextLine'):\n",
    "    for String in list(t):\n",
    "        try:\n",
    "            print(String.attrib['CONTENT'])\n",
    "        except:\n",
    "            continue"
   ]
  },
  {
   "cell_type": "code",
   "execution_count": 37,
   "metadata": {},
   "outputs": [
    {
     "name": "stdout",
     "output_type": "stream",
     "text": [
      "SHIT\n"
     ]
    }
   ],
   "source": [
    "for t in root2.iter('{*}TextLine'):\n",
    "    for String in list(t):\n",
    "        try:\n",
    "            if String.attrib['CONTENT'] == \"\":\n",
    "                print('SHIT')\n",
    "        except:\n",
    "            continue"
   ]
  },
  {
   "cell_type": "markdown",
   "metadata": {},
   "source": [
    "We only get one \"SHIT\" which is what we want. Not we can proceed to remove that empty line:"
   ]
  },
  {
   "cell_type": "code",
   "execution_count": 38,
   "metadata": {},
   "outputs": [
    {
     "name": "stdout",
     "output_type": "stream",
     "text": [
      "eSc_line_50aeea9a has been removed!\n"
     ]
    }
   ],
   "source": [
    "for t in root2.iter('{*}TextLine'):\n",
    "    for String in list(t):\n",
    "        try:\n",
    "            if String.attrib['CONTENT'] == \"\":\n",
    "                print(t.attrib['ID'], 'has been removed!')\n",
    "                t.getparent().remove(t)\n",
    "        except:\n",
    "            continue"
   ]
  },
  {
   "cell_type": "markdown",
   "metadata": {},
   "source": [
    "And we can try again the code without the try/except to check if that helped"
   ]
  },
  {
   "cell_type": "code",
   "execution_count": 39,
   "metadata": {},
   "outputs": [],
   "source": [
    "for t in root2.iter('{*}TextLine'):\n",
    "    \n",
    "    if t.attrib['TAGREFS'] == id_conf:\n",
    "        #lst.append(t)\n",
    "        t.getparent().remove(t)\n",
    "    elif t.attrib['TAGREFS'] == id_muta:\n",
    "        #lst.append(t)\n",
    "        t.getparent().remove(t)\n",
    "    elif t.attrib['TAGREFS'] == id_fran:\n",
    "        #lst.append(t)\n",
    "        t.getparent().remove(t)"
   ]
  },
  {
   "cell_type": "markdown",
   "metadata": {},
   "source": [
    "perfect. Let's include that in our script."
   ]
  },
  {
   "cell_type": "code",
   "execution_count": 40,
   "metadata": {},
   "outputs": [
    {
     "name": "stdout",
     "output_type": "stream",
     "text": [
      "{'ID': 'eSc_line_3d4972ae', 'TAGREFS': 'LT146', 'BASELINE': '789 411 3258 444', 'HPOS': '783', 'VPOS': '188', 'WIDTH': '2475', 'HEIGHT': '307'}\n",
      "{'ID': 'eSc_line_9b63a6c9', 'TAGREFS': 'LT145', 'BASELINE': '3444 467 3940 467', 'HPOS': '3444', 'VPOS': '382', 'WIDTH': '510', 'HEIGHT': '130'}\n",
      "{'ID': 'eSc_line_c74b2f93', 'TAGREFS': 'LT145', 'BASELINE': '140 658 789 647 2114 681 2384 687 3534 670', 'HPOS': '129', 'VPOS': '546', 'WIDTH': '3400', 'HEIGHT': '163'}\n",
      "{'ID': 'eSc_line_38d1daec', 'TAGREFS': 'LT145', 'BASELINE': '129 805 558 794 2300 839 3732 822', 'HPOS': '124', 'VPOS': '681', 'WIDTH': '3608', 'HEIGHT': '197'}\n",
      "{'ID': 'eSc_line_7b0474cc', 'TAGREFS': 'LT141', 'BASELINE': '3543 948 3889 934', 'HPOS': '3529', 'VPOS': '839', 'WIDTH': '355', 'HEIGHT': '135'}\n",
      "{'ID': 'eSc_line_649d81c3', 'TAGREFS': 'LT145', 'BASELINE': '147 966 304 955', 'HPOS': '146', 'VPOS': '909', 'WIDTH': '156', 'HEIGHT': '66'}\n",
      "{'ID': 'eSc_line_94a5818a', 'TAGREFS': 'LT145', 'BASELINE': '433 980 511 984', 'HPOS': '428', 'VPOS': '889', 'WIDTH': '79', 'HEIGHT': '141'}\n",
      "{'ID': 'eSc_line_f7f385cb', 'TAGREFS': 'LT145', 'BASELINE': '1104 1013 2339 1024', 'HPOS': '1099', 'VPOS': '906', 'WIDTH': '1240', 'HEIGHT': '147'}\n",
      "{'ID': 'eSc_line_f3db8d8a', 'TAGREFS': 'LT145', 'BASELINE': '137 1023 319 1009', 'HPOS': '134', 'VPOS': '983', 'WIDTH': '187', 'HEIGHT': '58'}\n",
      "{'ID': 'eSc_line_fd02dbea', 'TAGREFS': 'LT145', 'BASELINE': '2897 1047 2999 1047', 'HPOS': '2897', 'VPOS': '940', 'WIDTH': '102', 'HEIGHT': '152'}\n",
      "{'ID': 'eSc_line_b2ab8c57', 'TAGREFS': 'LT145', 'BASELINE': '3161 1050 3304 1047', 'HPOS': '3151', 'VPOS': '957', 'WIDTH': '152', 'HEIGHT': '124'}\n",
      "{'ID': 'eSc_line_211131fc', 'TAGREFS': 'LT145', 'BASELINE': '447 1066 504 1073', 'HPOS': '444', 'VPOS': '1033', 'WIDTH': '60', 'HEIGHT': '71'}\n",
      "{'ID': 'eSc_line_bd2e0a99', 'TAGREFS': 'LT145', 'BASELINE': '126 1076 333 1062', 'HPOS': '123', 'VPOS': '1033', 'WIDTH': '209', 'HEIGHT': '57'}\n",
      "{'ID': 'eSc_line_c7e9751a', 'TAGREFS': 'LT145', 'BASELINE': '3416 1120 3912 1120', 'HPOS': '3416', 'VPOS': '1030', 'WIDTH': '496', 'HEIGHT': '135'}\n",
      "{'ID': 'eSc_line_5556ec7a', 'TAGREFS': 'LT145', 'BASELINE': '147 1123 312 1115', 'HPOS': '146', 'VPOS': '1083', 'WIDTH': '164', 'HEIGHT': '65'}\n",
      "{'ID': 'eSc_line_b6d45ef9', 'TAGREFS': 'LT145', 'BASELINE': '3137 1130 3326 1126', 'HPOS': '3131', 'VPOS': '1075', 'WIDTH': '190', 'HEIGHT': '96'}\n",
      "{'ID': 'eSc_line_db22366b', 'TAGREFS': 'LT145', 'BASELINE': '2834 1137 3062 1132', 'HPOS': '2830', 'VPOS': '1073', 'WIDTH': '234', 'HEIGHT': '87'}\n",
      "{'ID': 'eSc_line_f7071df8', 'TAGREFS': 'LT145', 'BASELINE': '383 1166 568 1166', 'HPOS': '377', 'VPOS': '1075', 'WIDTH': '186', 'HEIGHT': '147'}\n",
      "{'ID': 'eSc_line_b15ed4e5', 'TAGREFS': 'LT145', 'BASELINE': '676 1171 986 1182', 'HPOS': '670', 'VPOS': '1092', 'WIDTH': '316', 'HEIGHT': '113'}\n",
      "{'ID': 'eSc_line_fdfed0ae', 'TAGREFS': 'LT145', 'BASELINE': '126 1173 330 1165', 'HPOS': '121', 'VPOS': '1138', 'WIDTH': '210', 'HEIGHT': '51'}\n",
      "{'ID': 'eSc_line_ff57a9ec', 'TAGREFS': 'LT145', 'BASELINE': '1228 1199 1431 1199', 'HPOS': '1228', 'VPOS': '1103', 'WIDTH': '203', 'HEIGHT': '135'}\n",
      "{'ID': 'eSc_line_4b631610', 'TAGREFS': 'LT145', 'BASELINE': '2114 1210 2328 1210', 'HPOS': '2108', 'VPOS': '1126', 'WIDTH': '214', 'HEIGHT': '124'}\n",
      "{'ID': 'eSc_line_55764582', 'TAGREFS': 'LT145', 'BASELINE': '133 1230 333 1216', 'HPOS': '129', 'VPOS': '1187', 'WIDTH': '203', 'HEIGHT': '74'}\n",
      "{'ID': 'eSc_line_bfef78b2', 'TAGREFS': 'LT145', 'BASELINE': '2873 1269 3010 1267', 'HPOS': '2869', 'VPOS': '1227', 'WIDTH': '144', 'HEIGHT': '60'}\n",
      "{'ID': 'eSc_line_9a14b45f', 'TAGREFS': 'LT145', 'BASELINE': '3176 1269 3304 1271', 'HPOS': '3173', 'VPOS': '1231', 'WIDTH': '130', 'HEIGHT': '54'}\n",
      "{'ID': 'eSc_line_406d9037', 'TAGREFS': 'LT143', 'BASELINE': '355 1498 593 1504', 'HPOS': '343', 'VPOS': '1385', 'WIDTH': '253', 'HEIGHT': '180'}\n",
      "{'ID': 'eSc_line_4c03fa12', 'TAGREFS': 'LT141', 'BASELINE': '4003 1503 4137 1498', 'HPOS': '3997', 'VPOS': '1407', 'WIDTH': '135', 'HEIGHT': '124'}\n",
      "{'ID': 'eSc_line_c1e28188', 'TAGREFS': 'LT143', 'BASELINE': '629 1505 1007 1514', 'HPOS': '620', 'VPOS': '1351', 'WIDTH': '383', 'HEIGHT': '276'}\n",
      "{'ID': 'eSc_line_0cbc1527', 'TAGREFS': 'LT143', 'BASELINE': '1100 1516 1570 1527', 'HPOS': '1093', 'VPOS': '1424', 'WIDTH': '474', 'HEIGHT': '248'}\n",
      "{'ID': 'eSc_line_3edf9ff3', 'TAGREFS': 'LT145', 'BASELINE': '2645 1651 2819 1654', 'HPOS': '2644', 'VPOS': '1565', 'WIDTH': '174', 'HEIGHT': '130'}\n",
      "{'ID': 'eSc_line_c55641c3', 'TAGREFS': 'LT145', 'BASELINE': '2648 1722 2809 1726', 'HPOS': '2644', 'VPOS': '1655', 'WIDTH': '163', 'HEIGHT': '79'}\n",
      "{'ID': 'eSc_line_da7d51fb', 'TAGREFS': 'LT145', 'BASELINE': '2630 1818 2812 1818', 'HPOS': '2627', 'VPOS': '1756', 'WIDTH': '180', 'HEIGHT': '91'}\n",
      "{'ID': 'eSc_line_9ca0dd8b', 'TAGREFS': 'LT143', 'BASELINE': '326 1948 590 1953', 'HPOS': '315', 'VPOS': '1847', 'WIDTH': '271', 'HEIGHT': '242'}\n",
      "{'ID': 'eSc_line_a10996a0', 'TAGREFS': 'LT143', 'BASELINE': '640 1954 958 1961', 'HPOS': '631', 'VPOS': '1751', 'WIDTH': '321', 'HEIGHT': '338'}\n",
      "{'ID': 'eSc_line_3aade27c', 'TAGREFS': 'LT143', 'BASELINE': '1061 1963 1550 1973', 'HPOS': '1012', 'VPOS': '1858', 'WIDTH': '532', 'HEIGHT': '225'}\n",
      "{'ID': 'eSc_line_a89e53c2', 'TAGREFS': 'LT141', 'BASELINE': '3980 1965 4134 1954', 'HPOS': '3974', 'VPOS': '1912', 'WIDTH': '182', 'HEIGHT': '75'}\n",
      "{'ID': 'eSc_line_d21ba334', 'TAGREFS': 'LT145', 'BASELINE': '2648 2078 2832 2074', 'HPOS': '2644', 'VPOS': '1993', 'WIDTH': '186', 'HEIGHT': '130'}\n",
      "{'ID': 'eSc_line_cd2c60c4', 'TAGREFS': 'LT141', 'BASELINE': '3985 2185 4177 2185', 'HPOS': '3985', 'VPOS': '2089', 'WIDTH': '192', 'HEIGHT': '141'}\n",
      "{'ID': 'eSc_line_22a1cd57', 'TAGREFS': 'LT143', 'BASELINE': '614 2399 911 2408', 'HPOS': '603', 'VPOS': '2247', 'WIDTH': '304', 'HEIGHT': '281'}\n",
      "{'ID': 'eSc_line_7455db7a', 'TAGREFS': 'LT143', 'BASELINE': '338 2404 546 2404', 'HPOS': '338', 'VPOS': '2263', 'WIDTH': '208', 'HEIGHT': '186'}\n",
      "{'ID': 'eSc_line_c9a07893', 'TAGREFS': 'LT143', 'BASELINE': '1036 2407 1592 2414', 'HPOS': '1031', 'VPOS': '2329', 'WIDTH': '558', 'HEIGHT': '205'}\n",
      "{'ID': 'eSc_line_1dc8929e', 'TAGREFS': 'LT141', 'BASELINE': '3974 2432 4143 2444', 'HPOS': '3968', 'VPOS': '2354', 'WIDTH': '175', 'HEIGHT': '118'}\n",
      "{'ID': 'eSc_line_44565252', 'TAGREFS': 'LT143', 'BASELINE': '1346 2464 1571 2464', 'HPOS': '1341', 'VPOS': '2431', 'WIDTH': '231', 'HEIGHT': '52'}\n",
      "{'ID': 'eSc_line_26774bb5', 'TAGREFS': 'LT143', 'BASELINE': '1393 2514 1577 2522', 'HPOS': '1392', 'VPOS': '2477', 'WIDTH': '180', 'HEIGHT': '60'}\n",
      "{'ID': 'eSc_line_b3e1c596', 'TAGREFS': 'LT145', 'BASELINE': '2627 2514 2784 2511', 'HPOS': '2621', 'VPOS': '2439', 'WIDTH': '186', 'HEIGHT': '96'}\n",
      "{'ID': 'eSc_line_f8809e2f', 'TAGREFS': 'LT143', 'BASELINE': '231 2539 569 2517', 'HPOS': '225', 'VPOS': '2404', 'WIDTH': '344', 'HEIGHT': '164'}\n",
      "{'ID': 'eSc_line_3474536e', 'TAGREFS': 'LT145', 'BASELINE': '2609 2607 2819 2607', 'HPOS': '2604', 'VPOS': '2535', 'WIDTH': '214', 'HEIGHT': '117'}\n",
      "{'ID': 'eSc_line_0bd39ee3', 'TAGREFS': 'LT143', 'BASELINE': '1037 2646 1539 2646', 'HPOS': '1031', 'VPOS': '2562', 'WIDTH': '502', 'HEIGHT': '135'}\n",
      "{'ID': 'eSc_line_2ffc0486', 'TAGREFS': 'LT145', 'BASELINE': '2616 2713 2826 2713', 'HPOS': '2615', 'VPOS': '2596', 'WIDTH': '209', 'HEIGHT': '140'}\n",
      "{'ID': 'eSc_line_331159d8', 'TAGREFS': 'LT143', 'BASELINE': '377 2838 575 2841', 'HPOS': '366', 'VPOS': '2725', 'WIDTH': '203', 'HEIGHT': '164'}\n",
      "{'ID': 'eSc_line_4e31d3fb', 'TAGREFS': 'LT143', 'BASELINE': '650 2842 996 2847', 'HPOS': '642', 'VPOS': '2675', 'WIDTH': '350', 'HEIGHT': '292'}\n",
      "{'ID': 'eSc_line_9656fa30', 'TAGREFS': 'LT143', 'BASELINE': '1061 2856 1559 2863', 'HPOS': '1054', 'VPOS': '2736', 'WIDTH': '501', 'HEIGHT': '231'}\n",
      "{'ID': 'eSc_line_98898c40', 'TAGREFS': 'LT141', 'BASELINE': '3975 2866 4136 2866', 'HPOS': '3974', 'VPOS': '2815', 'WIDTH': '158', 'HEIGHT': '79'}\n",
      "{'ID': 'eSc_line_687d2a83', 'TAGREFS': 'LT145', 'BASELINE': '2576 2950 2796 2952', 'HPOS': '2565', 'VPOS': '2776', 'WIDTH': '225', 'HEIGHT': '220'}\n",
      "{'ID': 'eSc_line_cbd6878f', 'TAGREFS': 'LT145', 'BASELINE': '2610 3052 2806 3046', 'HPOS': '2598', 'VPOS': '2956', 'WIDTH': '203', 'HEIGHT': '124'}\n",
      "{'ID': 'eSc_line_00a6471d', 'TAGREFS': 'LT141', 'BASELINE': '3661 3198 4047 3215', 'HPOS': '3653', 'VPOS': '3136', 'WIDTH': '389', 'HEIGHT': '119'}\n"
     ]
    }
   ],
   "source": [
    "for t in root2.iter('{*}TextLine'):\n",
    "    print(t.attrib)"
   ]
  },
  {
   "cell_type": "code",
   "execution_count": 47,
   "metadata": {},
   "outputs": [
    {
     "data": {
      "text/plain": [
       "59"
      ]
     },
     "execution_count": 47,
     "metadata": {},
     "output_type": "execute_result"
    }
   ],
   "source": [
    "import glob\n",
    "import os\n",
    "files_list = glob.glob(\"/home/bilatli/DEV/DIGITAL-HUMANITIES/CHABLE/data/*.xml\")\n",
    "len(files_list)"
   ]
  },
  {
   "cell_type": "code",
   "execution_count": 45,
   "metadata": {},
   "outputs": [
    {
     "name": "stdout",
     "output_type": "stream",
     "text": [
      "Vol-09-002-001.xml\n",
      "AC Bagnes R46 0203.xml\n",
      "Vol-09-005-001.xml\n",
      "AC Bagnes R10 0404.xml\n",
      "AC Bagnes R46 0074.xml\n",
      "Vol-09-003-001.xml\n",
      "Vol-09-196-001.xml\n",
      "AC Bagnes R10 0003.xml\n",
      "Vol-09-001.pdf_page_1.xml\n",
      "AC Bagnes R46 0073.xml\n",
      "AC Bagnes R46 0161.xml\n",
      "Vol-09-132-001.xml\n",
      "Vol-09-133-001.xml\n",
      "AC Bagnes R10 0004.xml\n",
      "Vol-09-265-001.xml\n",
      "AC Bagnes R10 0283.xml\n",
      "AC Bagnes R10 0002.xml\n",
      "AC Bagnes R10 0402.xml\n",
      "Vol-09-081-001.xml\n",
      "Vol-09-131-001.xml\n",
      "AC Bagnes R46 0001.xml\n",
      "AC Bagnes R46 0162.xml\n",
      "AC Bagnes R10 0273.xml\n",
      "Vol-09-004-001.xml\n",
      "AC Bagnes R5 0001.xml\n",
      "AC Bagnes R10 0113.xml\n",
      "AC Bagnes R5 0002.xml\n",
      "AC Bagnes R46 0204.xml\n",
      "AC Bagnes R46 0003.xml\n",
      "AC Bagnes R46 0163.xml\n",
      "AC Bagnes R10 0110.xml\n",
      "AC Bagnes R10 0390.xml\n",
      "AC Bagnes R46 0201.xml\n",
      "AC Bagnes R46 0072.xml\n",
      "AC Bagnes R10 0005.xml\n",
      "AC Bagnes R10 0112.xml\n",
      "Vol-09-134-001.xml\n",
      "AC Bagnes R10 0403.xml\n",
      "AC Bagnes R46 0398.xml\n",
      "Vol-09-297-001.xml\n",
      "AC Bagnes R10 0001.xml\n",
      "Vol-09-296-001.xml\n",
      "AC Bagnes R46 0202.xml\n",
      "AC Bagnes R46 0070.xml\n",
      "AC Bagnes R5 0004.xml\n",
      "AC Bagnes R5 0003.xml\n",
      "AC Bagnes R46 0355.xml\n",
      "Vol-09-295-001.xml\n",
      "AC Bagnes R46 0071.xml\n",
      "AC Bagnes R10 0401.xml\n",
      "AC Bagnes R46 0002.xml\n",
      "AC Bagnes R46 0052.xml\n",
      "AC Bagnes R10 0382.xml\n",
      "AC Bagnes R10 0114.xml\n",
      "AC Bagnes R10 0400.xml\n",
      "AC Bagnes R10 0111.xml\n",
      "AC Bagnes R46 0356.xml\n",
      "AC Bagnes R46 0160.xml\n",
      "AC Bagnes R10 0175.xml\n"
     ]
    }
   ],
   "source": [
    "for file in files_list:\n",
    "    print(os.path.basename(file))"
   ]
  },
  {
   "cell_type": "code",
   "execution_count": null,
   "metadata": {},
   "outputs": [],
   "source": []
  }
 ],
 "metadata": {
  "kernelspec": {
   "display_name": "Python 3",
   "language": "python",
   "name": "python3"
  },
  "language_info": {
   "codemirror_mode": {
    "name": "ipython",
    "version": 3
   },
   "file_extension": ".py",
   "mimetype": "text/x-python",
   "name": "python",
   "nbconvert_exporter": "python",
   "pygments_lexer": "ipython3",
   "version": "3.7.3"
  }
 },
 "nbformat": 4,
 "nbformat_minor": 2
}
