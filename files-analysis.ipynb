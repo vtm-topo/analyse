{
 "cells": [
  {
   "cell_type": "markdown",
   "metadata": {},
   "source": [
    "# Simple script for listing files\n",
    "We can then distribute them in the different text files: train.txt // eval.txt // test.txt\n",
    "The advantage of this method is that we can carefully select the files for eval and test and then put the remaining files in train.txt"
   ]
  },
  {
   "cell_type": "code",
   "execution_count": 1,
   "metadata": {},
   "outputs": [],
   "source": [
    "import glob\n",
    "import os"
   ]
  },
  {
   "cell_type": "markdown",
   "metadata": {},
   "source": [
    "we are using the glob package in order to retrieve only the xml files through the \"*.xml\"  pattern"
   ]
  },
  {
   "cell_type": "code",
   "execution_count": 2,
   "metadata": {},
   "outputs": [
    {
     "name": "stdout",
     "output_type": "stream",
     "text": [
      "['/home/bilatli/DEV/DIGITAL-HUMANITIES/DATA-truth/V9/Vol-09-002-001.xml', '/home/bilatli/DEV/DIGITAL-HUMANITIES/DATA-truth/V9/Vol-09-005-001.xml', '/home/bilatli/DEV/DIGITAL-HUMANITIES/DATA-truth/V9/Vol-09-003-001.xml', '/home/bilatli/DEV/DIGITAL-HUMANITIES/DATA-truth/V9/Vol-09-196-001.xml', '/home/bilatli/DEV/DIGITAL-HUMANITIES/DATA-truth/V9/Vol-09-001.pdf_page_1.xml', '/home/bilatli/DEV/DIGITAL-HUMANITIES/DATA-truth/V9/Vol-09-132-001.xml', '/home/bilatli/DEV/DIGITAL-HUMANITIES/DATA-truth/V9/Vol-09-133-001.xml', '/home/bilatli/DEV/DIGITAL-HUMANITIES/DATA-truth/V9/Vol-09-265-001.xml', '/home/bilatli/DEV/DIGITAL-HUMANITIES/DATA-truth/V9/Vol-09-081-001.xml', '/home/bilatli/DEV/DIGITAL-HUMANITIES/DATA-truth/V9/Vol-09-131-001.xml', '/home/bilatli/DEV/DIGITAL-HUMANITIES/DATA-truth/V9/Vol-09-004-001.xml', '/home/bilatli/DEV/DIGITAL-HUMANITIES/DATA-truth/V9/Vol-09-134-001.xml', '/home/bilatli/DEV/DIGITAL-HUMANITIES/DATA-truth/V9/Vol-09-297-001.xml', '/home/bilatli/DEV/DIGITAL-HUMANITIES/DATA-truth/V9/Vol-09-296-001.xml', '/home/bilatli/DEV/DIGITAL-HUMANITIES/DATA-truth/V9/Vol-09-295-001.xml']\n"
     ]
    }
   ],
   "source": [
    "files_list = glob.glob(\"/home/bilatli/DEV/DIGITAL-HUMANITIES/DATA-truth/V9/*.xml\")\n",
    "print(files_list)\n",
    "\n",
    "# glob.glob(\"../DATA-truth/V9/*.xml\") # with relatives path for example"
   ]
  },
  {
   "cell_type": "markdown",
   "metadata": {},
   "source": [
    "The problem now is that the path is too long. We can use os.path.basename to retrieve only the name of the files:\n",
    "\n",
    "For reference: https://stackoverflow.com/questions/44994604/python-glob-os-relative-path-making-filenames-into-a-list"
   ]
  },
  {
   "cell_type": "code",
   "execution_count": 4,
   "metadata": {},
   "outputs": [
    {
     "name": "stdout",
     "output_type": "stream",
     "text": [
      "['Vol-09-002-001.xml', 'Vol-09-005-001.xml', 'Vol-09-003-001.xml', 'Vol-09-196-001.xml', 'Vol-09-001.pdf_page_1.xml', 'Vol-09-132-001.xml', 'Vol-09-133-001.xml', 'Vol-09-265-001.xml', 'Vol-09-081-001.xml', 'Vol-09-131-001.xml', 'Vol-09-004-001.xml', 'Vol-09-134-001.xml', 'Vol-09-297-001.xml', 'Vol-09-296-001.xml', 'Vol-09-295-001.xml']\n"
     ]
    }
   ],
   "source": [
    "files = [os.path.basename(x) for x in glob.glob(r'/home/bilatli/DEV/DIGITAL-HUMANITIES/DATA-truth/V9/' + '*.xml')]\n",
    "print(files)"
   ]
  },
  {
   "cell_type": "markdown",
   "metadata": {},
   "source": [
    "Actually, we want to keep part of the path. Like this we can keep the organisation of our folder."
   ]
  },
  {
   "cell_type": "code",
   "execution_count": 35,
   "metadata": {},
   "outputs": [
    {
     "data": {
      "text/plain": [
       "['data/Vol-09-002-001.xml',\n",
       " 'data/Vol-09-005-001.xml',\n",
       " 'data/Vol-09-003-001.xml',\n",
       " 'data/Vol-09-196-001.xml',\n",
       " 'data/Vol-09-001.pdf_page_1.xml',\n",
       " 'data/Vol-09-132-001.xml',\n",
       " 'data/Vol-09-133-001.xml',\n",
       " 'data/Vol-09-265-001.xml',\n",
       " 'data/Vol-09-081-001.xml',\n",
       " 'data/Vol-09-131-001.xml',\n",
       " 'data/Vol-09-004-001.xml',\n",
       " 'data/Vol-09-134-001.xml',\n",
       " 'data/Vol-09-297-001.xml',\n",
       " 'data/Vol-09-296-001.xml',\n",
       " 'data/Vol-09-295-001.xml']"
      ]
     },
     "execution_count": 35,
     "metadata": {},
     "output_type": "execute_result"
    }
   ],
   "source": [
    "path_V9 = \"/home/bilatli/DEV/DIGITAL-HUMANITIES/DATA-truth/V9/\"\n",
    "files_V9 = [os.path.join('data', os.path.basename(x)) for x in glob.glob(path_V9 + '*.xml')]\n",
    "\n",
    "files_V9"
   ]
  },
  {
   "cell_type": "markdown",
   "metadata": {},
   "source": [
    "And now, we can write our selection in two lists: eval and test. Then we can remove the files in those two lists from the total to have our train list."
   ]
  },
  {
   "cell_type": "code",
   "execution_count": 36,
   "metadata": {},
   "outputs": [
    {
     "name": "stdout",
     "output_type": "stream",
     "text": [
      "this is remove list (test+eval) :  ['data/Vol-09-005-001.xml', 'data/Vol-09-131-001.xml', 'data/Vol-09-001.pdf_page_1.xml', 'data/Vol-09-295-001.xml', 'data/Vol-09-133-001.xml']\n"
     ]
    },
    {
     "data": {
      "text/plain": [
       "['data/Vol-09-002-001.xml',\n",
       " 'data/Vol-09-003-001.xml',\n",
       " 'data/Vol-09-196-001.xml',\n",
       " 'data/Vol-09-132-001.xml',\n",
       " 'data/Vol-09-265-001.xml',\n",
       " 'data/Vol-09-081-001.xml',\n",
       " 'data/Vol-09-004-001.xml',\n",
       " 'data/Vol-09-134-001.xml',\n",
       " 'data/Vol-09-297-001.xml',\n",
       " 'data/Vol-09-296-001.xml']"
      ]
     },
     "execution_count": 36,
     "metadata": {},
     "output_type": "execute_result"
    }
   ],
   "source": [
    "eval_V9 = ['data/Vol-09-005-001.xml', 'data/Vol-09-131-001.xml']\n",
    "test_V9 = ['data/Vol-09-001.pdf_page_1.xml','data/Vol-09-295-001.xml','data/Vol-09-133-001.xml']\n",
    "remove_list_V9 = eval_V9 + test_V9 \n",
    "\n",
    "print('this is remove list (test+eval) : ', remove_list_V9)\n",
    "\n",
    "train_V9 = [i for i in files if i not in remove_list_V9]\n",
    "train_V9"
   ]
  },
  {
   "cell_type": "markdown",
   "metadata": {},
   "source": [
    "Then, we just need to repeat the process for the 3 other registres"
   ]
  },
  {
   "cell_type": "markdown",
   "metadata": {},
   "source": [
    "### R46"
   ]
  },
  {
   "cell_type": "code",
   "execution_count": 23,
   "metadata": {},
   "outputs": [
    {
     "data": {
      "text/plain": [
       "['data/AC Bagnes R46 0203.xml',\n",
       " 'data/AC Bagnes R46 0074.xml',\n",
       " 'data/AC Bagnes R46 0073.xml',\n",
       " 'data/AC Bagnes R46 0161.xml',\n",
       " 'data/AC Bagnes R46 0001.xml',\n",
       " 'data/AC Bagnes R46 0162.xml',\n",
       " 'data/AC Bagnes R46 0204.xml',\n",
       " 'data/AC Bagnes R46 0003.xml',\n",
       " 'data/AC Bagnes R46 0163.xml',\n",
       " 'data/AC Bagnes R46 0201.xml',\n",
       " 'data/AC Bagnes R46 0072.xml',\n",
       " 'data/AC Bagnes R46 0398.xml',\n",
       " 'data/AC Bagnes R46 0202.xml',\n",
       " 'data/AC Bagnes R46 0070.xml',\n",
       " 'data/AC Bagnes R46 0355.xml',\n",
       " 'data/AC Bagnes R46 0071.xml',\n",
       " 'data/AC Bagnes R46 0002.xml',\n",
       " 'data/AC Bagnes R46 0052.xml',\n",
       " 'data/AC Bagnes R46 0356.xml',\n",
       " 'data/AC Bagnes R46 0160.xml']"
      ]
     },
     "execution_count": 23,
     "metadata": {},
     "output_type": "execute_result"
    }
   ],
   "source": [
    "path_r46 = \"/home/bilatli/DEV/DIGITAL-HUMANITIES/DATA-truth/R46/\"\n",
    "files_r46 = [os.path.join('data', os.path.basename(x)) for x in glob.glob(path_r46 + '*.xml')]\n",
    "\n",
    "files_r46"
   ]
  },
  {
   "cell_type": "code",
   "execution_count": 26,
   "metadata": {},
   "outputs": [
    {
     "data": {
      "text/plain": [
       "20"
      ]
     },
     "execution_count": 26,
     "metadata": {},
     "output_type": "execute_result"
    }
   ],
   "source": [
    "len(files_r46)"
   ]
  },
  {
   "cell_type": "code",
   "execution_count": 27,
   "metadata": {},
   "outputs": [
    {
     "name": "stdout",
     "output_type": "stream",
     "text": [
      "this is remove list (test_r46+eval_r46) :  ['data/AC Bagnes R46 0070.xml', 'data/AC Bagnes R46 0355.xml', 'data/AC Bagnes R46 0003.xml', 'data/AC Bagnes R46 0160.xml', 'data/AC Bagnes R46 0398.xml']\n"
     ]
    },
    {
     "data": {
      "text/plain": [
       "['data/AC Bagnes R46 0203.xml',\n",
       " 'data/AC Bagnes R46 0074.xml',\n",
       " 'data/AC Bagnes R46 0073.xml',\n",
       " 'data/AC Bagnes R46 0161.xml',\n",
       " 'data/AC Bagnes R46 0001.xml',\n",
       " 'data/AC Bagnes R46 0162.xml',\n",
       " 'data/AC Bagnes R46 0204.xml',\n",
       " 'data/AC Bagnes R46 0163.xml',\n",
       " 'data/AC Bagnes R46 0201.xml',\n",
       " 'data/AC Bagnes R46 0072.xml',\n",
       " 'data/AC Bagnes R46 0202.xml',\n",
       " 'data/AC Bagnes R46 0071.xml',\n",
       " 'data/AC Bagnes R46 0002.xml',\n",
       " 'data/AC Bagnes R46 0052.xml',\n",
       " 'data/AC Bagnes R46 0356.xml']"
      ]
     },
     "execution_count": 27,
     "metadata": {},
     "output_type": "execute_result"
    }
   ],
   "source": [
    "eval_r46 = ['data/AC Bagnes R46 0070.xml','data/AC Bagnes R46 0355.xml']\n",
    "test_r46 = ['data/AC Bagnes R46 0003.xml','data/AC Bagnes R46 0160.xml','data/AC Bagnes R46 0398.xml']\n",
    "remove_list_r46 = eval_r46 + test_r46 \n",
    "\n",
    "print('this is remove list (test_r46+eval_r46) : ', remove_list_r46)\n",
    "\n",
    "train_r46 = [i for i in files_r46 if i not in remove_list_r46]\n",
    "train_r46"
   ]
  },
  {
   "cell_type": "code",
   "execution_count": 28,
   "metadata": {},
   "outputs": [
    {
     "data": {
      "text/plain": [
       "15"
      ]
     },
     "execution_count": 28,
     "metadata": {},
     "output_type": "execute_result"
    }
   ],
   "source": [
    "len(train_r46)"
   ]
  },
  {
   "cell_type": "markdown",
   "metadata": {},
   "source": [
    "### R10"
   ]
  },
  {
   "cell_type": "code",
   "execution_count": 29,
   "metadata": {},
   "outputs": [
    {
     "data": {
      "text/plain": [
       "['data/AC Bagnes R10 0404.xml',\n",
       " 'data/AC Bagnes R10 0003.xml',\n",
       " 'data/AC Bagnes R10 0004.xml',\n",
       " 'data/AC Bagnes R10 0283.xml',\n",
       " 'data/AC Bagnes R10 0002.xml',\n",
       " 'data/AC Bagnes R10 0402.xml',\n",
       " 'data/AC Bagnes R10 0273.xml',\n",
       " 'data/AC Bagnes R10 0113.xml',\n",
       " 'data/AC Bagnes R10 0110.xml',\n",
       " 'data/AC Bagnes R10 0390.xml',\n",
       " 'data/AC Bagnes R10 0005.xml',\n",
       " 'data/AC Bagnes R10 0112.xml',\n",
       " 'data/AC Bagnes R10 0403.xml',\n",
       " 'data/AC Bagnes R10 0001.xml',\n",
       " 'data/AC Bagnes R10 0401.xml',\n",
       " 'data/AC Bagnes R10 0382.xml',\n",
       " 'data/AC Bagnes R10 0114.xml',\n",
       " 'data/AC Bagnes R10 0400.xml',\n",
       " 'data/AC Bagnes R10 0111.xml',\n",
       " 'data/AC Bagnes R10 0175.xml']"
      ]
     },
     "execution_count": 29,
     "metadata": {},
     "output_type": "execute_result"
    }
   ],
   "source": [
    "path_r10 = \"/home/bilatli/DEV/DIGITAL-HUMANITIES/DATA-truth/R10/\"\n",
    "files_r10 = [os.path.join('data', os.path.basename(x)) for x in glob.glob(path_r10 + '*.xml')]\n",
    "\n",
    "files_r10"
   ]
  },
  {
   "cell_type": "code",
   "execution_count": 30,
   "metadata": {},
   "outputs": [
    {
     "data": {
      "text/plain": [
       "20"
      ]
     },
     "execution_count": 30,
     "metadata": {},
     "output_type": "execute_result"
    }
   ],
   "source": [
    "len(files_r10)"
   ]
  },
  {
   "cell_type": "code",
   "execution_count": 31,
   "metadata": {},
   "outputs": [
    {
     "name": "stdout",
     "output_type": "stream",
     "text": [
      "this is remove list (test_r10+eval_r10) :  ['data/AC Bagnes R10 0175.xml', 'data/AC Bagnes R10 0401.xml', 'data/AC Bagnes R10 0003.xml', 'data/AC Bagnes R10 0112.xml', 'data/AC Bagnes R10 0390.xml']\n"
     ]
    },
    {
     "data": {
      "text/plain": [
       "['data/AC Bagnes R10 0404.xml',\n",
       " 'data/AC Bagnes R10 0004.xml',\n",
       " 'data/AC Bagnes R10 0283.xml',\n",
       " 'data/AC Bagnes R10 0002.xml',\n",
       " 'data/AC Bagnes R10 0402.xml',\n",
       " 'data/AC Bagnes R10 0273.xml',\n",
       " 'data/AC Bagnes R10 0113.xml',\n",
       " 'data/AC Bagnes R10 0110.xml',\n",
       " 'data/AC Bagnes R10 0005.xml',\n",
       " 'data/AC Bagnes R10 0403.xml',\n",
       " 'data/AC Bagnes R10 0001.xml',\n",
       " 'data/AC Bagnes R10 0382.xml',\n",
       " 'data/AC Bagnes R10 0114.xml',\n",
       " 'data/AC Bagnes R10 0400.xml',\n",
       " 'data/AC Bagnes R10 0111.xml']"
      ]
     },
     "execution_count": 31,
     "metadata": {},
     "output_type": "execute_result"
    }
   ],
   "source": [
    "eval_r10 = ['data/AC Bagnes R10 0175.xml','data/AC Bagnes R10 0401.xml']\n",
    "test_r10 = ['data/AC Bagnes R10 0003.xml','data/AC Bagnes R10 0112.xml','data/AC Bagnes R10 0390.xml',]\n",
    "remove_list_r10 = eval_r10 + test_r10 \n",
    "\n",
    "print('this is remove list (test_r10+eval_r10) : ', remove_list_r10)\n",
    "\n",
    "train_r10 = [i for i in files_r10 if i not in remove_list_r10]\n",
    "train_r10"
   ]
  },
  {
   "cell_type": "code",
   "execution_count": 32,
   "metadata": {},
   "outputs": [
    {
     "data": {
      "text/plain": [
       "15"
      ]
     },
     "execution_count": 32,
     "metadata": {},
     "output_type": "execute_result"
    }
   ],
   "source": [
    "len(train_r10)"
   ]
  },
  {
   "cell_type": "markdown",
   "metadata": {},
   "source": [
    "### R5 \n",
    "(we don't have all the data yet)"
   ]
  },
  {
   "cell_type": "code",
   "execution_count": 33,
   "metadata": {},
   "outputs": [
    {
     "data": {
      "text/plain": [
       "['data/AC Bagnes R5 0001.xml',\n",
       " 'data/AC Bagnes R5 0002.xml',\n",
       " 'data/AC Bagnes R5 0004.xml',\n",
       " 'data/AC Bagnes R5 0003.xml']"
      ]
     },
     "execution_count": 33,
     "metadata": {},
     "output_type": "execute_result"
    }
   ],
   "source": [
    "path_r5 = \"/home/bilatli/DEV/DIGITAL-HUMANITIES/DATA-truth/R5/\"\n",
    "files_r5 = [os.path.join('data', os.path.basename(x)) for x in glob.glob(path_r5 + '*.xml')]\n",
    "\n",
    "files_r5"
   ]
  },
  {
   "cell_type": "code",
   "execution_count": 34,
   "metadata": {},
   "outputs": [
    {
     "data": {
      "text/plain": [
       "[]"
      ]
     },
     "execution_count": 34,
     "metadata": {},
     "output_type": "execute_result"
    }
   ],
   "source": [
    "eval_r5 = ['data/AC Bagnes R5 0003.xml']\n",
    "test_r5 = ['data/AC Bagnes R5 0001.xml','data/AC Bagnes R5 0002.xml','data/AC Bagnes R5 0004.xml']\n",
    "remove_list_r5 = eval_r5 + test_r5 \n",
    "\n",
    "train_r5 = [i for i in files_r5 if i not in remove_list_r5]\n",
    "train_r5"
   ]
  },
  {
   "cell_type": "markdown",
   "metadata": {},
   "source": [
    "## writing the files\n",
    "\n",
    "we now can add all the similar lists together and save our text files. Then we just need to dump all the files in the data folder of our project."
   ]
  },
  {
   "cell_type": "markdown",
   "metadata": {},
   "source": [
    "### eval.txt"
   ]
  },
  {
   "cell_type": "code",
   "execution_count": 38,
   "metadata": {},
   "outputs": [
    {
     "data": {
      "text/plain": [
       "['data/AC Bagnes R5 0003.xml',\n",
       " 'data/AC Bagnes R10 0175.xml',\n",
       " 'data/AC Bagnes R10 0401.xml',\n",
       " 'data/AC Bagnes R46 0070.xml',\n",
       " 'data/AC Bagnes R46 0355.xml',\n",
       " 'data/Vol-09-005-001.xml',\n",
       " 'data/Vol-09-131-001.xml']"
      ]
     },
     "execution_count": 38,
     "metadata": {},
     "output_type": "execute_result"
    }
   ],
   "source": [
    "eval = eval_r5 + eval_r10 + eval_r46 + eval_V9\n",
    "eval"
   ]
  },
  {
   "cell_type": "code",
   "execution_count": 39,
   "metadata": {},
   "outputs": [],
   "source": [
    "outfile = open(\"eval.txt\", \"w\")\n",
    "outfile.write( \"\\n\".join(str(i) for i in eval))\n",
    "outfile.close()"
   ]
  },
  {
   "cell_type": "markdown",
   "metadata": {},
   "source": [
    "### test.txt"
   ]
  },
  {
   "cell_type": "code",
   "execution_count": 40,
   "metadata": {},
   "outputs": [
    {
     "data": {
      "text/plain": [
       "['data/AC Bagnes R5 0001.xml',\n",
       " 'data/AC Bagnes R5 0002.xml',\n",
       " 'data/AC Bagnes R5 0004.xml',\n",
       " 'data/AC Bagnes R10 0003.xml',\n",
       " 'data/AC Bagnes R10 0112.xml',\n",
       " 'data/AC Bagnes R10 0390.xml',\n",
       " 'data/AC Bagnes R46 0003.xml',\n",
       " 'data/AC Bagnes R46 0160.xml',\n",
       " 'data/AC Bagnes R46 0398.xml',\n",
       " 'data/Vol-09-001.pdf_page_1.xml',\n",
       " 'data/Vol-09-295-001.xml',\n",
       " 'data/Vol-09-133-001.xml']"
      ]
     },
     "execution_count": 40,
     "metadata": {},
     "output_type": "execute_result"
    }
   ],
   "source": [
    "test = test_r5 + test_r10 + test_r46 + test_V9\n",
    "test"
   ]
  },
  {
   "cell_type": "code",
   "execution_count": 41,
   "metadata": {},
   "outputs": [],
   "source": [
    "outfile = open(\"test.txt\", \"w\")\n",
    "outfile.write( \"\\n\".join(str(i) for i in test))\n",
    "outfile.close()"
   ]
  },
  {
   "cell_type": "markdown",
   "metadata": {},
   "source": [
    "### train.txt"
   ]
  },
  {
   "cell_type": "code",
   "execution_count": 42,
   "metadata": {},
   "outputs": [
    {
     "data": {
      "text/plain": [
       "['data/AC Bagnes R10 0404.xml',\n",
       " 'data/AC Bagnes R10 0004.xml',\n",
       " 'data/AC Bagnes R10 0283.xml',\n",
       " 'data/AC Bagnes R10 0002.xml',\n",
       " 'data/AC Bagnes R10 0402.xml',\n",
       " 'data/AC Bagnes R10 0273.xml',\n",
       " 'data/AC Bagnes R10 0113.xml',\n",
       " 'data/AC Bagnes R10 0110.xml',\n",
       " 'data/AC Bagnes R10 0005.xml',\n",
       " 'data/AC Bagnes R10 0403.xml',\n",
       " 'data/AC Bagnes R10 0001.xml',\n",
       " 'data/AC Bagnes R10 0382.xml',\n",
       " 'data/AC Bagnes R10 0114.xml',\n",
       " 'data/AC Bagnes R10 0400.xml',\n",
       " 'data/AC Bagnes R10 0111.xml',\n",
       " 'data/AC Bagnes R46 0203.xml',\n",
       " 'data/AC Bagnes R46 0074.xml',\n",
       " 'data/AC Bagnes R46 0073.xml',\n",
       " 'data/AC Bagnes R46 0161.xml',\n",
       " 'data/AC Bagnes R46 0001.xml',\n",
       " 'data/AC Bagnes R46 0162.xml',\n",
       " 'data/AC Bagnes R46 0204.xml',\n",
       " 'data/AC Bagnes R46 0163.xml',\n",
       " 'data/AC Bagnes R46 0201.xml',\n",
       " 'data/AC Bagnes R46 0072.xml',\n",
       " 'data/AC Bagnes R46 0202.xml',\n",
       " 'data/AC Bagnes R46 0071.xml',\n",
       " 'data/AC Bagnes R46 0002.xml',\n",
       " 'data/AC Bagnes R46 0052.xml',\n",
       " 'data/AC Bagnes R46 0356.xml',\n",
       " 'data/Vol-09-002-001.xml',\n",
       " 'data/Vol-09-003-001.xml',\n",
       " 'data/Vol-09-196-001.xml',\n",
       " 'data/Vol-09-132-001.xml',\n",
       " 'data/Vol-09-265-001.xml',\n",
       " 'data/Vol-09-081-001.xml',\n",
       " 'data/Vol-09-004-001.xml',\n",
       " 'data/Vol-09-134-001.xml',\n",
       " 'data/Vol-09-297-001.xml',\n",
       " 'data/Vol-09-296-001.xml']"
      ]
     },
     "execution_count": 42,
     "metadata": {},
     "output_type": "execute_result"
    }
   ],
   "source": [
    "train = train_r5 + train_r10 + train_r46 + train_V9\n",
    "train"
   ]
  },
  {
   "cell_type": "code",
   "execution_count": 43,
   "metadata": {},
   "outputs": [],
   "source": [
    "outfile = open(\"train.txt\", \"w\")\n",
    "outfile.write( \"\\n\".join(str(i) for i in train))\n",
    "outfile.close()"
   ]
  },
  {
   "cell_type": "code",
   "execution_count": null,
   "metadata": {},
   "outputs": [],
   "source": []
  }
 ],
 "metadata": {
  "kernelspec": {
   "display_name": "Python 3",
   "language": "python",
   "name": "python3"
  },
  "language_info": {
   "codemirror_mode": {
    "name": "ipython",
    "version": 3
   },
   "file_extension": ".py",
   "mimetype": "text/x-python",
   "name": "python",
   "nbconvert_exporter": "python",
   "pygments_lexer": "ipython3",
   "version": "3.7.3"
  }
 },
 "nbformat": 4,
 "nbformat_minor": 2
}
